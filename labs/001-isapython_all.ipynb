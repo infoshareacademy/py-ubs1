{
 "cells": [
  {
   "cell_type": "markdown",
   "metadata": {},
   "source": [
    "# infoShare Academy Python"
   ]
  },
  {
   "cell_type": "markdown",
   "metadata": {},
   "source": [
    "## Knowledge test overview with answers"
   ]
  },
  {
   "cell_type": "markdown",
   "metadata": {},
   "source": [
    "### [Very Easy] Question 1: Hello World"
   ]
  },
  {
   "cell_type": "markdown",
   "metadata": {},
   "source": [
    "```\n",
    "1. How to correctly write \"Hello World\"?\n",
    "* print(\"Hello world!\")\n",
    "* print \"Hello world!\"\n",
    "* print(Hello world!)\n",
    "* print Hello world\n",
    "```"
   ]
  },
  {
   "cell_type": "markdown",
   "metadata": {},
   "source": [
    "#### Answer\n",
    "\n",
    "Correct answer is"
   ]
  },
  {
   "cell_type": "code",
   "execution_count": 1,
   "metadata": {},
   "outputs": [
    {
     "name": "stdout",
     "output_type": "stream",
     "text": [
      "Hello World\n"
     ]
    }
   ],
   "source": [
    "print(\"Hello World\")"
   ]
  },
  {
   "cell_type": "markdown",
   "metadata": {},
   "source": [
    "In Python the easiest way to print out a text is to use built-in function `print`. First argument of this function is an object `str`, which we want to print out. It can be a string of characters: object (like in our case) or other type of an object. In the second answer it will be converted to string of characters. Using print function we can also print many objects. For example:"
   ]
  },
  {
   "cell_type": "code",
   "execution_count": 2,
   "metadata": {},
   "outputs": [
    {
     "name": "stdout",
     "output_type": "stream",
     "text": [
      "Ala Jan Adam\n"
     ]
    }
   ],
   "source": [
    "print('Ala', 'Jan', 'Adam')"
   ]
  },
  {
   "cell_type": "markdown",
   "metadata": {},
   "source": [
    "Print function may also have additional arguments which can specify:\n",
    "* separator used to separate printed objects\n",
    "* character to be printed as a last one\n",
    "* a place where the text should be printed\n",
    "* a flag affecting text buffering\n",
    "\n",
    "\n",
    "Because function `print` is built-in you don’t need to import it. In most cases the basic way of usage:"
   ]
  },
  {
   "cell_type": "code",
   "execution_count": 3,
   "metadata": {},
   "outputs": [
    {
     "name": "stdout",
     "output_type": "stream",
     "text": [
      "Text to print out\n"
     ]
    }
   ],
   "source": [
    "print(\"Text to print out\")"
   ]
  },
  {
   "cell_type": "markdown",
   "metadata": {},
   "source": [
    "will be enough, but it is useful to know all the features.\n",
    "\n",
    "In Python 2, `print` was a keyword (statement) such as `return`. This made it possible to print out:"
   ]
  },
  {
   "cell_type": "code",
   "execution_count": 4,
   "metadata": {},
   "outputs": [
    {
     "ename": "SyntaxError",
     "evalue": "Missing parentheses in call to 'print'. Did you mean print(\"Text\")? (<ipython-input-4-52e779ea1e92>, line 2)",
     "output_type": "error",
     "traceback": [
      "\u001b[0;36m  File \u001b[0;32m\"<ipython-input-4-52e779ea1e92>\"\u001b[0;36m, line \u001b[0;32m2\u001b[0m\n\u001b[0;31m    print \"Text\"\u001b[0m\n\u001b[0m               ^\u001b[0m\n\u001b[0;31mSyntaxError\u001b[0m\u001b[0;31m:\u001b[0m Missing parentheses in call to 'print'. Did you mean print(\"Text\")?\n"
     ]
    }
   ],
   "source": [
    "# This line will result in SyntaxError when using Python 3, because 'print' is a not a keyword anymore.\n",
    "print \"Text\""
   ]
  },
  {
   "cell_type": "markdown",
   "metadata": {},
   "source": [
    "It has been changed in Python 3 and now `print` is only a built-in function.\n",
    "\n",
    "\n",
    "More detailed information about `print` function in Python 3 is fully described here:\n",
    "https://docs.python.org/3/library/functions.html#print\n",
    "\n",
    "Information about differences between Python 3 and 2:\n",
    "https://docs.python.org/3/whatsnew/3.0.html\n",
    "\n",
    "Information about `print` function in Python 2: https://docs.python.org/2.7/reference/simple_stmts.html#print https://docs.python.org/2.7/library/functions.html#print"
   ]
  },
  {
   "cell_type": "markdown",
   "metadata": {},
   "source": [
    "### [Very Easy] Question 2: String concatenation (joining)"
   ]
  },
  {
   "cell_type": "markdown",
   "metadata": {},
   "source": [
    "```\n",
    "2. Which of the following commands will assign to a variable 'result' string of characters?\n",
    "* result = \"Py\" + \"thon\"\n",
    "* result = \"Py\" . \"thon\"\n",
    "* result = \"Py\" x \"thon\"\n",
    "* result = {\"Py\": \"thon\"}\n",
    "```"
   ]
  },
  {
   "cell_type": "markdown",
   "metadata": {},
   "source": [
    "#### Answer\n",
    "\n",
    "Correct answer is:"
   ]
  },
  {
   "cell_type": "code",
   "execution_count": 5,
   "metadata": {},
   "outputs": [],
   "source": [
    "result = \"Py\" + \"thon\""
   ]
  },
  {
   "cell_type": "markdown",
   "metadata": {},
   "source": [
    "In Python one of the ways to concatenate strings (connect the strings) is to use operator `+`.\n",
    "It is possible because built-in type `str` implements appropriate methods which make possible to concatenate or index using operators basing also on sequential types.\n",
    "This type of command is very clear and well understandable. To connect a new string of characters with an existing value (saved in a variable) we can use operator `+=`:"
   ]
  },
  {
   "cell_type": "code",
   "execution_count": 6,
   "metadata": {},
   "outputs": [
    {
     "name": "stdout",
     "output_type": "stream",
     "text": [
      "Hello World!\n"
     ]
    }
   ],
   "source": [
    "welcome = \"Hello\"\n",
    "welcome += \" World!\"\n",
    "print(welcome)"
   ]
  },
  {
   "cell_type": "markdown",
   "metadata": {},
   "source": [
    "Using operator `+` to concatenate strings, we should remember about some restrictions imposed by this type of characteristics. Type `str` in Python is an immutable type. (check also question: _Which of the following types is mutable?_).\n",
    "Using operators `+` or `+=` with type `str` will create a new `str` object.\n",
    "In the most cases use of `+` operator will be a good solution because of its understandable usage.\n",
    "\n",
    "Anyway, you must remember that when we combine a lot of strings of characters, it can have negative performance consequences. In this case it’s better to use `join()` method. For example:"
   ]
  },
  {
   "cell_type": "code",
   "execution_count": 7,
   "metadata": {},
   "outputs": [
    {
     "name": "stdout",
     "output_type": "stream",
     "text": [
      "Using space (' ') character as separator:\n",
      "r r t s d\n",
      "Using new line ('\\n') character as separator:\n",
      "r\n",
      "r\n",
      "t\n",
      "s\n",
      "d\n",
      "Using multiple character string ('--+--') as separator:\n",
      "r--+--r--+--t--+--s--+--d\n"
     ]
    }
   ],
   "source": [
    "r = ['r', 'r', 't', 's', 'd']\n",
    "joined = ' '.join(r)\n",
    "print(\"Using space (' ') character as separator:\")\n",
    "print(joined)\n",
    "\n",
    "r = ['r', 'r', 't', 's', 'd']\n",
    "joined = '\\n'.join(r)\n",
    "# Note that raw string (e.g. r\"raw string\") is used below so that '\\n' is not changed\n",
    "# to a real new during print out. Withing raw strings special characters (like: \\n, \\t, etc.)\n",
    "# are not evaluated.\n",
    "print(r\"Using new line ('\\n') character as separator:\")\n",
    "print(joined)\n",
    "\n",
    "r = ['r', 'r', 't', 's', 'd']\n",
    "joined = '--+--'.join(r)\n",
    "print(\"Using multiple character string ('--+--') as separator:\")\n",
    "print(joined)"
   ]
  },
  {
   "cell_type": "markdown",
   "metadata": {},
   "source": [
    "Information about `str` type:  \n",
    "https://docs.python.org/3/library/stdtypes.html#str  \n",
    "https://docs.python.org/3/library/stdtypes.html#typesseq-common\n",
    "\n",
    "Article about various string operations:  \n",
    "https://realpython.com/python-string-split-concatenate-join/"
   ]
  },
  {
   "cell_type": "markdown",
   "metadata": {},
   "source": [
    "### [Very Easy] Question 3: `pass` keyword"
   ]
  },
  {
   "cell_type": "markdown",
   "metadata": {},
   "source": [
    "```\n",
    "3. Which of the following instructions does not perform any operation?\n",
    "* noop\n",
    "* wait\n",
    "* pass\n",
    "* sleep\n",
    "```"
   ]
  },
  {
   "cell_type": "markdown",
   "metadata": {},
   "source": [
    "#### Answer\n",
    "Correct answer: **`pass`**\n",
    "\n",
    "`pass` statement does not do any operation. It can be used as a fulfillment, e.g. a function body, thus creating a structurally correct implementation:"
   ]
  },
  {
   "cell_type": "code",
   "execution_count": 8,
   "metadata": {},
   "outputs": [],
   "source": [
    "def not_sure_about_it():\n",
    "    pass"
   ]
  },
  {
   "cell_type": "markdown",
   "metadata": {},
   "source": [
    "`pass` can also be using when creating empty classes:"
   ]
  },
  {
   "cell_type": "code",
   "execution_count": 9,
   "metadata": {},
   "outputs": [],
   "source": [
    "class MyNewClass:\n",
    "    pass"
   ]
  },
  {
   "cell_type": "markdown",
   "metadata": {},
   "source": [
    "Or when prototyping class with list of methods to be created, but we're not ready to implement them:"
   ]
  },
  {
   "cell_type": "code",
   "execution_count": 10,
   "metadata": {},
   "outputs": [],
   "source": [
    "class Basic:\n",
    "    def new_basic_object(self):\n",
    "        pass\n",
    "    \n",
    "    def addmethod(self):\n",
    "        pass"
   ]
  },
  {
   "cell_type": "markdown",
   "metadata": {},
   "source": [
    "**NOTE:** the need for this strange keyword arises, because Python is a language that uses identation (typically 4 spaces) to indicate code blocks (contexts). So, without `pass` it would be impossible to say exactly to which code block, empty line belongs to. Keeping this in mind, it doesn't surprise that `pass` is also heavily used within `for` loops and `if` conditional statements."
   ]
  },
  {
   "cell_type": "markdown",
   "metadata": {},
   "source": [
    "Information about `pass` statement in documentation:  \n",
    "https://docs.python.org/3/reference/simple_stmts.html#the-pass-statement"
   ]
  },
  {
   "cell_type": "markdown",
   "metadata": {},
   "source": [
    "### [Very Easy] Question 4: conditional statements (`if`)"
   ]
  },
  {
   "cell_type": "markdown",
   "metadata": {},
   "source": [
    "```\n",
    "4. Which of the following keywords is used to define a conditional statement?\n",
    "* check\n",
    "* when\n",
    "* switch\n",
    "* if\n",
    "```"
   ]
  },
  {
   "cell_type": "markdown",
   "metadata": {},
   "source": [
    "#### Answer\n",
    "\n",
    "Correct answer: **`if`**\n",
    "\n",
    "In Python conditions statement are written according to the following pattern :\n",
    "```\n",
    "if logical_condition:\n",
    "    code that will be executed when logical_condition is true\n",
    "```\n",
    "\n",
    "After this section we can put any number of optional blocks `elif` to deﬁne\n",
    "alternative conditions:\n",
    "\n",
    "```\n",
    "elif another_condition:\n",
    "    code that will be executed when none of the previous conditions was true but this one is true\n",
    "elif yet_another_condition:\n",
    "    ...\n",
    "```\n",
    "\n",
    "At the very end we can deﬁne optional instruction `else` which will execute a code if none of all the previous conditions was true:\n",
    "\n",
    "```\n",
    "else:\n",
    "    code that will be executed when none of the previous conditions was true\n",
    "```\n",
    " \n",
    "\n",
    "In practice, with simple condition, this could look like this:"
   ]
  },
  {
   "cell_type": "code",
   "execution_count": 11,
   "metadata": {},
   "outputs": [
    {
     "name": "stdout",
     "output_type": "stream",
     "text": [
      "No Matrix here.\n"
     ]
    }
   ],
   "source": [
    "if 2 == 1:\n",
    "    print(\"That's interesting!\")\n",
    "else:\n",
    "    print(\"No Matrix here.\")"
   ]
  },
  {
   "cell_type": "markdown",
   "metadata": {},
   "source": [
    "It's possible to create more complex conditional statements using logical operators, e.g. `or` or  `and`. Look at how evaluation of condition changes when we expand it with `or`:"
   ]
  },
  {
   "cell_type": "code",
   "execution_count": 12,
   "metadata": {},
   "outputs": [
    {
     "name": "stdout",
     "output_type": "stream",
     "text": [
      "That's interesting!\n"
     ]
    }
   ],
   "source": [
    "if (2 == 1) or (2 > 1):\n",
    "    print(\"That's interesting!\")\n",
    "else:\n",
    "    print(\"No Matrix here.\")"
   ]
  },
  {
   "cell_type": "markdown",
   "metadata": {},
   "source": [
    "In Python it is also possible (but **not recommended**) to write instruction `if` in one line:"
   ]
  },
  {
   "cell_type": "code",
   "execution_count": 13,
   "metadata": {},
   "outputs": [
    {
     "name": "stdout",
     "output_type": "stream",
     "text": [
      "Something is better than nothing.\n"
     ]
    }
   ],
   "source": [
    "if 1 > 0: print(\"Something is better than nothing.\")"
   ]
  },
  {
   "cell_type": "markdown",
   "metadata": {},
   "source": [
    "Or use conditional expression (also called *ternary operator*):"
   ]
  },
  {
   "cell_type": "code",
   "execution_count": 14,
   "metadata": {},
   "outputs": [
    {
     "name": "stdout",
     "output_type": "stream",
     "text": [
      "1 > 0\n"
     ]
    }
   ],
   "source": [
    "print(\"1 > 0\") if 1 > 0 else print(\"1 <= 0\")"
   ]
  },
  {
   "cell_type": "markdown",
   "metadata": {},
   "source": [
    "More information:\n",
    "https://realpython.com/python-conditional-statements/"
   ]
  },
  {
   "cell_type": "markdown",
   "metadata": {},
   "source": [
    "### [Very Easy] Question 5: function definitions"
   ]
  },
  {
   "cell_type": "markdown",
   "metadata": {},
   "source": [
    "```\n",
    "5. How to correctly declare a function called 'get_full_name', having two \n",
    "arguments: 'first_name' and 'last_name'? \n",
    "\n",
    "* function get_full_name(first_name, last_name): \n",
    "* def get_full_name: first_name, last_name → \n",
    "* def get_full_name(first_name, last_name): \n",
    "* def get_full_name = (first_name, last_name) => \n",
    "```"
   ]
  },
  {
   "cell_type": "markdown",
   "metadata": {},
   "source": [
    "#### Answer\n",
    "\n",
    "Correct answer is:\n",
    "```python\n",
    "def get_full_name(first_name, last_name):\n",
    "```\n",
    "\n",
    "In Python the function can be declared using the keyword `def` followed by the name\n",
    "of the function (we can use this name to refer the function to call it). Next, inside\n",
    "the round brackets we should type the names of the function arguments. They are\n",
    "optional (the function may have no arguments at all - then the brackets are empty\n",
    "inside: `()`. \n",
    "\n",
    "The line ends with a colon, and the next line starts with the deﬁnition of the function\n",
    "body (instructions to be executed within it)."
   ]
  },
  {
   "cell_type": "code",
   "execution_count": 15,
   "metadata": {},
   "outputs": [
    {
     "name": "stdout",
     "output_type": "stream",
     "text": [
      "Krzysztof Jarzyna\n"
     ]
    }
   ],
   "source": [
    "def get_full_name(first_name, last_name):\n",
    "    return first_name + \" \" + last_name\n",
    "\n",
    "print(get_full_name(\"Krzysztof\", \"Jarzyna\"))"
   ]
  },
  {
   "cell_type": "markdown",
   "metadata": {},
   "source": [
    "The rule of thumb is not to pass too\n",
    "many arguments to the function. When a function receives a lot of arguments this might mean\n",
    "that its scope is too big. In such case should consider dividing the function into\n",
    "several smaller ones.  \n",
    "Documentation:  \n",
    "https://docs.python.org/3/tutorial/controlﬂow.html#deﬁning-functions  \n",
    "Basic information about functions in Python:  \n",
    "https://www.programiz.com/python-programming/function"
   ]
  },
  {
   "cell_type": "markdown",
   "metadata": {},
   "source": [
    "#### Example: string formatting made easy\n",
    "\n",
    "\n",
    "Function above could be reimplmenented using new string formatting syntax introduced in Python 3.6.\n",
    "\n",
    "In short, whenever there are curly braces present, within special string that starts with 'f' before quotes, everything within them will be evaluated as Python statement.\n",
    "\n",
    "For example (note that there's an 'f' before quote character):"
   ]
  },
  {
   "cell_type": "code",
   "execution_count": 16,
   "metadata": {},
   "outputs": [
    {
     "name": "stdout",
     "output_type": "stream",
     "text": [
      "Krzysztof Jarzyna\n"
     ]
    }
   ],
   "source": [
    "def get_full_name(first_name, last_name):\n",
    "    return f\"{first_name} {last_name}\"\n",
    "\n",
    "print(get_full_name(\"Krzysztof\", \"Jarzyna\"))"
   ]
  },
  {
   "cell_type": "markdown",
   "metadata": {},
   "source": [
    "As you can see the result is the same. However, now we can easily extend statements within curly braces, not only referencing local variables.\n",
    "\n",
    "Lets use `*` operator for strings with which create a new string with multiple instances of the same text, e.g.:\n"
   ]
  },
  {
   "cell_type": "code",
   "execution_count": 17,
   "metadata": {},
   "outputs": [
    {
     "data": {
      "text/plain": [
       "'aaaaa'"
      ]
     },
     "execution_count": 17,
     "metadata": {},
     "output_type": "execute_result"
    }
   ],
   "source": [
    "'a' * 5"
   ]
  },
  {
   "cell_type": "markdown",
   "metadata": {},
   "source": [
    "New function using the string multiplication:"
   ]
  },
  {
   "cell_type": "code",
   "execution_count": 18,
   "metadata": {},
   "outputs": [
    {
     "name": "stdout",
     "output_type": "stream",
     "text": [
      "KrzysztofKrzysztof JarzynaJarzyna\n"
     ]
    }
   ],
   "source": [
    "def get_full_name2(first_name, last_name):\n",
    "    return f\"{first_name*2} {last_name*2}\"\n",
    "\n",
    "print(get_full_name2(\"Krzysztof\", \"Jarzyna\"))"
   ]
  },
  {
   "cell_type": "markdown",
   "metadata": {},
   "source": [
    "For more details about this type of string formatting, see PEP498:  \n",
    "https://www.python.org/dev/peps/pep-0498/ \n",
    "\n",
    "Also, it's worth noting at this point, that there are other interesting Python Extension Proposal documents, like PEP8 which describes good code style practices:  \n",
    "https://www.python.org/dev/peps/pep-0008/"
   ]
  },
  {
   "cell_type": "markdown",
   "metadata": {},
   "source": [
    "#### Example: passing arguments to functions as tuples or lists\n",
    "\n",
    "Sometimes as the result of previous processing data is stored in a tuple or a list. Often this might be a result of queries to external data source like databases.\n",
    "\n",
    "In such case, a shortened syntax extists to pass each value as separate argument to already existing function. For example, we have tuple:"
   ]
  },
  {
   "cell_type": "code",
   "execution_count": 19,
   "metadata": {},
   "outputs": [],
   "source": [
    "the_name = (\"Krzysztof\", \"Jarzyna\")"
   ]
  },
  {
   "cell_type": "markdown",
   "metadata": {},
   "source": [
    "Instead of manually indexing each value and passing it into a previously defined `get_full_name` function, like this:"
   ]
  },
  {
   "cell_type": "code",
   "execution_count": 20,
   "metadata": {},
   "outputs": [
    {
     "name": "stdout",
     "output_type": "stream",
     "text": [
      "Krzysztof Jarzyna\n"
     ]
    }
   ],
   "source": [
    "print(get_full_name(the_name[0], the_name[1]))"
   ]
  },
  {
   "cell_type": "markdown",
   "metadata": {},
   "source": [
    "we can use a `*` notation to unwrap the values automatically:"
   ]
  },
  {
   "cell_type": "code",
   "execution_count": 21,
   "metadata": {},
   "outputs": [
    {
     "name": "stdout",
     "output_type": "stream",
     "text": [
      "Krzysztof Jarzyna\n"
     ]
    }
   ],
   "source": [
    "print(get_full_name(*the_name))"
   ]
  },
  {
   "cell_type": "markdown",
   "metadata": {},
   "source": [
    "Of course when using this notation, size of the tuple must exactly the same as numer of arguments required to call the function.\n",
    "\n",
    "For example, if our tuple with only one element:"
   ]
  },
  {
   "cell_type": "code",
   "execution_count": 22,
   "metadata": {},
   "outputs": [],
   "source": [
    "the_name_too_short = (\"Krzysztof\", )"
   ]
  },
  {
   "cell_type": "markdown",
   "metadata": {},
   "source": [
    "using the above-mentioned syntax will result in `TypeError`:"
   ]
  },
  {
   "cell_type": "code",
   "execution_count": 23,
   "metadata": {},
   "outputs": [
    {
     "ename": "TypeError",
     "evalue": "get_full_name() missing 1 required positional argument: 'last_name'",
     "output_type": "error",
     "traceback": [
      "\u001b[0;31m---------------------------------------------------------------------------\u001b[0m",
      "\u001b[0;31mTypeError\u001b[0m                                 Traceback (most recent call last)",
      "\u001b[0;32m<ipython-input-23-dc5085634de9>\u001b[0m in \u001b[0;36m<module>\u001b[0;34m\u001b[0m\n\u001b[0;32m----> 1\u001b[0;31m \u001b[0mprint\u001b[0m\u001b[0;34m(\u001b[0m\u001b[0mget_full_name\u001b[0m\u001b[0;34m(\u001b[0m\u001b[0;34m*\u001b[0m\u001b[0mthe_name_too_short\u001b[0m\u001b[0;34m)\u001b[0m\u001b[0;34m)\u001b[0m\u001b[0;34m\u001b[0m\u001b[0;34m\u001b[0m\u001b[0m\n\u001b[0m",
      "\u001b[0;31mTypeError\u001b[0m: get_full_name() missing 1 required positional argument: 'last_name'"
     ]
    }
   ],
   "source": [
    "print(get_full_name(*the_name_too_short))"
   ]
  },
  {
   "cell_type": "markdown",
   "metadata": {},
   "source": [
    "Similarly, if the tuple is too long, `TypeError` will also occur. For example:"
   ]
  },
  {
   "cell_type": "code",
   "execution_count": 24,
   "metadata": {},
   "outputs": [],
   "source": [
    "the_name_too_long = (\"Krzysztof\", \"Marek\", \"Jarzyna\")"
   ]
  },
  {
   "cell_type": "markdown",
   "metadata": {},
   "source": [
    "cannot be easily passed in the same function:"
   ]
  },
  {
   "cell_type": "code",
   "execution_count": 25,
   "metadata": {},
   "outputs": [
    {
     "ename": "TypeError",
     "evalue": "get_full_name() takes 2 positional arguments but 3 were given",
     "output_type": "error",
     "traceback": [
      "\u001b[0;31m---------------------------------------------------------------------------\u001b[0m",
      "\u001b[0;31mTypeError\u001b[0m                                 Traceback (most recent call last)",
      "\u001b[0;32m<ipython-input-25-74e04b546d0a>\u001b[0m in \u001b[0;36m<module>\u001b[0;34m\u001b[0m\n\u001b[0;32m----> 1\u001b[0;31m \u001b[0mprint\u001b[0m\u001b[0;34m(\u001b[0m\u001b[0mget_full_name\u001b[0m\u001b[0;34m(\u001b[0m\u001b[0;34m*\u001b[0m\u001b[0mthe_name_too_long\u001b[0m\u001b[0;34m)\u001b[0m\u001b[0;34m)\u001b[0m\u001b[0;34m\u001b[0m\u001b[0;34m\u001b[0m\u001b[0m\n\u001b[0m",
      "\u001b[0;31mTypeError\u001b[0m: get_full_name() takes 2 positional arguments but 3 were given"
     ]
    }
   ],
   "source": [
    "print(get_full_name(*the_name_too_long))"
   ]
  },
  {
   "cell_type": "markdown",
   "metadata": {},
   "source": [
    "#### Example: passing arguments to functions as dictionaries\n",
    "\n",
    "\n",
    "Examples above applied to passing in positional arguments. However there's also a way to pass in keyword (named) arguments directly from collections. These of course need to include both *key* and *value*, thus dictionaries are used. In Python basic version of dictionaries (also known as *maps* from other languages) can be accessed through class `dict`.\n",
    "\n",
    "Let's assume that we redefined our function to use default values:"
   ]
  },
  {
   "cell_type": "code",
   "execution_count": 26,
   "metadata": {},
   "outputs": [],
   "source": [
    "def get_full_name_kwargs(first_name=None, last_name=None):\n",
    "    return f\"{first_name} {last_name}\""
   ]
  },
  {
   "cell_type": "markdown",
   "metadata": {},
   "source": [
    "What's worth noting, you can still pass in arguments from tuple to such function as positional ones:"
   ]
  },
  {
   "cell_type": "code",
   "execution_count": 27,
   "metadata": {},
   "outputs": [
    {
     "name": "stdout",
     "output_type": "stream",
     "text": [
      "Krzysztof Jarzyna\n"
     ]
    }
   ],
   "source": [
    "print(get_full_name_kwargs(*the_name))"
   ]
  },
  {
   "cell_type": "markdown",
   "metadata": {},
   "source": [
    "However, in this case our data is stored as dictionary:"
   ]
  },
  {
   "cell_type": "code",
   "execution_count": 28,
   "metadata": {},
   "outputs": [],
   "source": [
    "the_name_dict = {\"first_name\" : \"Krzysztof\", \"last_name\" : \"Jarzyna\"}"
   ]
  },
  {
   "cell_type": "code",
   "execution_count": 29,
   "metadata": {},
   "outputs": [
    {
     "ename": "SyntaxError",
     "evalue": "invalid syntax (<ipython-input-29-41aeb575f95f>, line 1)",
     "output_type": "error",
     "traceback": [
      "\u001b[0;36m  File \u001b[0;32m\"<ipython-input-29-41aeb575f95f>\"\u001b[0;36m, line \u001b[0;32m1\u001b[0m\n\u001b[0;31m    In dictionaries we can access values for each individual key through using square brackets syntax (`[]`):\u001b[0m\n\u001b[0m                  ^\u001b[0m\n\u001b[0;31mSyntaxError\u001b[0m\u001b[0;31m:\u001b[0m invalid syntax\n"
     ]
    }
   ],
   "source": [
    "In dictionaries we can access values for each individual key through using square brackets syntax (`[]`):"
   ]
  },
  {
   "cell_type": "code",
   "execution_count": 30,
   "metadata": {},
   "outputs": [
    {
     "name": "stdout",
     "output_type": "stream",
     "text": [
      "Krzysztof\n"
     ]
    }
   ],
   "source": [
    "print(the_name_dict[\"first_name\"])"
   ]
  },
  {
   "cell_type": "markdown",
   "metadata": {},
   "source": [
    "We could possibly, manually retrieve values for each key and pass for respective arguments:"
   ]
  },
  {
   "cell_type": "code",
   "execution_count": 31,
   "metadata": {},
   "outputs": [
    {
     "name": "stdout",
     "output_type": "stream",
     "text": [
      "Krzysztof Jarzyna\n"
     ]
    }
   ],
   "source": [
    "print(get_full_name_kwargs(first_name=the_name_dict[\"first_name\"],\n",
    "                           last_name=the_name_dict[\"last_name\"]))"
   ]
  },
  {
   "cell_type": "markdown",
   "metadata": {},
   "source": [
    "This works, but it's not very *pythonic*. It turns out, that similarly to single star (`*`) syntax for positional for order collections (tuples, list) there's also a double star (`**`) syntax for mapping collections, like dictionaries.\n",
    "\n",
    "Shortening code above to it's `**` equivalent results in:"
   ]
  },
  {
   "cell_type": "code",
   "execution_count": 32,
   "metadata": {},
   "outputs": [
    {
     "name": "stdout",
     "output_type": "stream",
     "text": [
      "Krzysztof Jarzyna\n"
     ]
    }
   ],
   "source": [
    "print(get_full_name_kwargs(**the_name_dict))"
   ]
  },
  {
   "cell_type": "markdown",
   "metadata": {},
   "source": [
    "What's intresting is that you can also use this notation to call original function which did not have a any default values:"
   ]
  },
  {
   "cell_type": "code",
   "execution_count": 33,
   "metadata": {},
   "outputs": [
    {
     "name": "stdout",
     "output_type": "stream",
     "text": [
      "Krzysztof Jarzyna\n"
     ]
    }
   ],
   "source": [
    "print(get_full_name(**the_name_dict))"
   ]
  },
  {
   "cell_type": "markdown",
   "metadata": {},
   "source": [
    "That's true because you can always pass in values to function argument by using their names."
   ]
  },
  {
   "cell_type": "markdown",
   "metadata": {},
   "source": [
    "### [Easy] Question 6: class method arguments"
   ]
  },
  {
   "cell_type": "markdown",
   "metadata": {},
   "source": [
    "```\n",
    "6. What is the name of the first argument of the method (function in a class)? \n",
    "* this \n",
    "* self \n",
    "* that \n",
    "* arg \n",
    "```"
   ]
  },
  {
   "cell_type": "markdown",
   "metadata": {},
   "source": [
    "#### Answer\n",
    "\n",
    "Correct answer: `self`\n",
    "\n",
    "The ﬁrst argument the method will receive is a reference pointing to the instance of the class (object) on which the method was called. This argument is passed implicitly (when calling the method, we do not to pass it. Python will \"add it\" automatically running the function call).\n",
    "\n",
    "Method example:"
   ]
  },
  {
   "cell_type": "code",
   "execution_count": 34,
   "metadata": {},
   "outputs": [],
   "source": [
    "class Contract:\n",
    "    def generate(self, law_policy_name):\n",
    "        pass"
   ]
  },
  {
   "cell_type": "markdown",
   "metadata": {},
   "source": [
    "and the method call:"
   ]
  },
  {
   "cell_type": "code",
   "execution_count": 35,
   "metadata": {},
   "outputs": [],
   "source": [
    "employee_contract = Contract()\n",
    "employee_contract.generate(\"polish_law\")"
   ]
  },
  {
   "cell_type": "markdown",
   "metadata": {},
   "source": [
    "In this example, in the body of the `generate` method, using the argument `self`  we can access the  object written in `employee_contract` variable. In the `law_policy` argument, we will ﬁnd the value *polish_law*.  \n",
    "\n",
    "Naming the ﬁrst argument of the method in a diﬀerent way (e.g. `object_reference`)\n",
    "would be syntactically correct (it would work). However, it is inconsistent with the\n",
    "conventions and stylistic rules of Python code, deﬁned by PEP 8:\n",
    "https://www.python.org/dev/peps/pep-0008/#function-and-method-arguments \n",
    "\n",
    "For example following method defition uses different name for the first argument:"
   ]
  },
  {
   "cell_type": "code",
   "execution_count": 36,
   "metadata": {},
   "outputs": [],
   "source": [
    "class More:\n",
    "    def read(i_should_not_be_called_this_way):\n",
    "        print(i_should_not_be_called_this_way)"
   ]
  },
  {
   "cell_type": "markdown",
   "metadata": {},
   "source": [
    "Yet, still by calling this method we can see that the variable `i_should_not_be_called_this_way`, contains reference to the class object itself:"
   ]
  },
  {
   "cell_type": "code",
   "execution_count": 37,
   "metadata": {},
   "outputs": [
    {
     "name": "stdout",
     "output_type": "stream",
     "text": [
      "<__main__.More object at 0x108017f60>\n"
     ]
    }
   ],
   "source": [
    "More().read()"
   ]
  },
  {
   "cell_type": "markdown",
   "metadata": {},
   "source": [
    "**NOTE:** in single line above we've both:\n",
    "1. created object of class `More` by using default contructor (no custom `__init__` method was called) and *not naming it*\n",
    "2. directly called method `read()` against newly created object\n",
    "\n",
    "This combination might be helpful when there's not need for keeping object reference in variable after method execution."
   ]
  },
  {
   "cell_type": "markdown",
   "metadata": {},
   "source": [
    "### [Easy] Question 7: underlines within numbers"
   ]
  },
  {
   "cell_type": "markdown",
   "metadata": {},
   "source": [
    "```\n",
    "What is the result of the action: 1_2 + 3_4 ? \n",
    "* 4.6 \n",
    "* -2 \n",
    "* 46 \n",
    "* this action will cause an error \n",
    "```"
   ]
  },
  {
   "cell_type": "markdown",
   "metadata": {},
   "source": [
    "#### Answer\n",
    "\n",
    "Correct answer is  `46`.\n",
    "\n",
    "Notation `1_2` is equivalent to `12` - it is just a number `12`. Underlines will be ignored by\n",
    "the interpreter. Similarly in the case of `3_4`.  \n",
    "Underline notation was introduced in Python 3.6 to make it easier to write especially large numbers, e.g. instead of:"
   ]
  },
  {
   "cell_type": "code",
   "execution_count": 38,
   "metadata": {},
   "outputs": [],
   "source": [
    "money = 10000000"
   ]
  },
  {
   "cell_type": "markdown",
   "metadata": {},
   "source": [
    "we can write:"
   ]
  },
  {
   "cell_type": "code",
   "execution_count": 39,
   "metadata": {},
   "outputs": [],
   "source": [
    "money = 10_000_000"
   ]
  },
  {
   "cell_type": "markdown",
   "metadata": {},
   "source": [
    "which is easier to read, but the value is the same:"
   ]
  },
  {
   "cell_type": "code",
   "execution_count": 40,
   "metadata": {},
   "outputs": [
    {
     "name": "stdout",
     "output_type": "stream",
     "text": [
      "10000000\n"
     ]
    }
   ],
   "source": [
    "print(money)"
   ]
  },
  {
   "cell_type": "markdown",
   "metadata": {},
   "source": [
    "This idea was introduced by PEP 515:  \n",
    "https://www.python.org/dev/peps/pep-0515/"
   ]
  },
  {
   "cell_type": "markdown",
   "metadata": {},
   "source": [
    "**NOTE:** if you want to print out the big numbers, in a more readable way, you can use, grouping options in (previously introduced) string formatting.\n",
    "\n",
    "To seperate thousands parts, it's possible to use either `,` (comma):"
   ]
  },
  {
   "cell_type": "code",
   "execution_count": 41,
   "metadata": {},
   "outputs": [
    {
     "name": "stdout",
     "output_type": "stream",
     "text": [
      "10,000,000\n"
     ]
    }
   ],
   "source": [
    "print(f\"{money:,}\")"
   ]
  },
  {
   "cell_type": "markdown",
   "metadata": {},
   "source": [
    "or `_` (underline):"
   ]
  },
  {
   "cell_type": "code",
   "execution_count": 42,
   "metadata": {},
   "outputs": [
    {
     "name": "stdout",
     "output_type": "stream",
     "text": [
      "10_000_000\n"
     ]
    }
   ],
   "source": [
    "print(f\"{money:_}\")"
   ]
  },
  {
   "cell_type": "markdown",
   "metadata": {},
   "source": [
    "For more details, look at *Format Specification Mini-Language* :   \n",
    "https://docs.python.org/3.7/library/string.html#format-specification-mini-language"
   ]
  },
  {
   "cell_type": "markdown",
   "metadata": {},
   "source": [
    "### [Easy] Question 8: context managers and `with` keyword"
   ]
  },
  {
   "cell_type": "markdown",
   "metadata": {},
   "source": [
    "```\n",
    "8. Which of the following keywords is used to enable a context manager? \n",
    "* with \n",
    "* using \n",
    "* go \n",
    "* run_manager \n",
    "```"
   ]
  },
  {
   "cell_type": "markdown",
   "metadata": {},
   "source": [
    "#### Answer\n",
    "\n",
    "Correct answer is `with`.\n",
    "\n",
    "Context manager allows to create readable and reusable imptementation of\n",
    "situation in which some instructions should always be executed before and after\n",
    "another dynamic part. A common example is working with ﬁles:\n",
    "\n",
    "```python\n",
    "with open(\"path/to/file\")\n",
    "  for line in data_file:\n",
    "as data_file:\n",
    "    print(line)\n",
    "```\n",
    "\n",
    "\n",
    "When working with various ﬁles we always want to:\n",
    "* open the indicated ﬁle\n",
    "* make speciﬁc operations on ﬁle\n",
    "* close the ﬁle  \n",
    "\n",
    "What is important, the ﬁle should always be closed, regardless of whether the\n",
    "operations performed on it were successful or were aborted by an exception. The\n",
    "usage of context manager guarantees the above.\n",
    "\n",
    "\n",
    "Here's and example of creating file in one context and them opening and reading in second one:"
   ]
  },
  {
   "cell_type": "code",
   "execution_count": 43,
   "metadata": {},
   "outputs": [
    {
     "name": "stdout",
     "output_type": "stream",
     "text": [
      "OK Boomer\n"
     ]
    }
   ],
   "source": [
    "with open('message.txt', 'w') as f:\n",
    "    f.write(\"OK Boomer\")\n",
    "\n",
    "\n",
    "with open('message.txt', 'r') as f:\n",
    "    print(f.read())"
   ]
  },
  {
   "cell_type": "markdown",
   "metadata": {},
   "source": [
    "An alternative syntax would be the\n",
    "usage of: `try (…) except (…) finally`, however, for example when working with ﬁles, this\n",
    "would be a less readable solution and duplicating the logic of error handling and ﬁle\n",
    "closing.\n",
    "\n",
    "More information about context manager:  \n",
    "https://docs.python.org/3/reference/compound_stmts.html#with"
   ]
  },
  {
   "cell_type": "markdown",
   "metadata": {},
   "source": [
    "### [Easy] Question 9: importing modules"
   ]
  },
  {
   "cell_type": "markdown",
   "metadata": {},
   "source": [
    "```\n",
    "9. Which of the following instructions is used to enable a csv module in our code? \n",
    "* require('csv') \n",
    "* use csv \n",
    "* use('csv') \n",
    "* import csv \n",
    "```"
   ]
  },
  {
   "cell_type": "markdown",
   "metadata": {},
   "source": [
    "#### Answer\n",
    "\n",
    "Correct answer is `import csv`.\n",
    "\n",
    "In Python, a module is just a ﬁle containing a Python code. To use a diﬀerent module\n",
    "in the implemented solution (and available functions, classes, variables, etc.), it must\n",
    "be imported. This is the information for the interpreter that in the following code\n",
    "there will most likely be a reference to this module so the interpreter should ﬁnd it.\n",
    "\n",
    "\n",
    "We should notice, that information about where the module is located and under\n",
    "what symbol it will be available, is passed in the same way. The import system should\n",
    "be used with the usage of:\n",
    "* module from the standard library\n",
    "* module from an external, previously installed library\n",
    "* another module implemented within the same application (e.g. class or function\n",
    "from another ﬁle)\n",
    "\n",
    "\n",
    "Modules are organized into hierarchical structures - like ﬁles on hard disk. This\n",
    "structure consists of modules called packages (which are equivalent to a directory\n",
    "on your hard disk), which may contain other packages (subdirectories) or modules\n",
    "that aren’t packages (ﬁles). When importing a speciﬁc module, its location should be\n",
    "indicated using dotted notation to separate subsequent levels of depth:"
   ]
  },
  {
   "cell_type": "code",
   "execution_count": 44,
   "metadata": {},
   "outputs": [
    {
     "name": "stdout",
     "output_type": "stream",
     "text": [
      "directory/file\n"
     ]
    }
   ],
   "source": [
    "import os.path\n",
    "print(os.path.join(\"directory\", \"file\"))"
   ]
  },
  {
   "cell_type": "markdown",
   "metadata": {},
   "source": [
    "To refer to an imported module, function etc. without dot notation, use construction `from (...) import (...)`. For example:"
   ]
  },
  {
   "cell_type": "code",
   "execution_count": 45,
   "metadata": {},
   "outputs": [
    {
     "name": "stdout",
     "output_type": "stream",
     "text": [
      "directory/file\n"
     ]
    }
   ],
   "source": [
    "from os import path\n",
    "print(path.join(\"directory\", \"file\"))"
   ]
  },
  {
   "cell_type": "markdown",
   "metadata": {},
   "source": [
    "It is also possible to give an alias to an imported module and refer to it via this alias:"
   ]
  },
  {
   "cell_type": "code",
   "execution_count": 46,
   "metadata": {},
   "outputs": [
    {
     "name": "stdout",
     "output_type": "stream",
     "text": [
      "directory/file\n"
     ]
    }
   ],
   "source": [
    "from os import path as system_path\n",
    "print(system_path.join(\"directory\", \"file\"))"
   ]
  },
  {
   "cell_type": "markdown",
   "metadata": {},
   "source": [
    "The path to the module can be given both in absolute (preferred in most cases) and\n",
    "relative.\n",
    "\n",
    "More details about modules import in Python:  \n",
    "https://docs.python.org/3/reference/import.html\n",
    "\n",
    "PEP 8 (import):  \n",
    "https://www.python.org/dev/peps/pep-0008/#imports\n",
    "\n",
    "Articles:  \n",
    "https://www.digitalocean.com/community/tutorials/how-to-import-modules-in-python-3  \n",
    "https://realpython.com/absolute-vs-relative-python-imports/"
   ]
  },
  {
   "cell_type": "markdown",
   "metadata": {},
   "source": [
    "### Question 10: `len` function"
   ]
  },
  {
   "cell_type": "markdown",
   "metadata": {},
   "source": [
    "```\n",
    "10 .Which of the following instructions will return the length of the string: \"abc\" \n",
    "(number of letters)? \n",
    "* len(\"abc\") \n",
    "* length(\"abc\") \n",
    "* \"abc\".length() \n",
    "* \"abc\".get_length() \n",
    "```"
   ]
  },
  {
   "cell_type": "markdown",
   "metadata": {},
   "source": [
    "#### Answer\n",
    "\n",
    "Correct answer is"
   ]
  },
  {
   "cell_type": "code",
   "execution_count": 47,
   "metadata": {},
   "outputs": [
    {
     "data": {
      "text/plain": [
       "3"
      ]
     },
     "execution_count": 47,
     "metadata": {},
     "output_type": "execute_result"
    }
   ],
   "source": [
    "len(\"abc\")"
   ]
  },
  {
   "cell_type": "markdown",
   "metadata": {},
   "source": [
    "The built-in `len` function returns the number of elements (length) in a object. The\n",
    "type `str` is a sequence of characters and in this case the function `len` returns the\n",
    "length of the sequence (number of characters / letters).\n",
    "\n",
    "For the list, the function will\n",
    "return the number of elements in the list:"
   ]
  },
  {
   "cell_type": "code",
   "execution_count": 48,
   "metadata": {},
   "outputs": [
    {
     "data": {
      "text/plain": [
       "4"
      ]
     },
     "execution_count": 48,
     "metadata": {},
     "output_type": "execute_result"
    }
   ],
   "source": [
    "len([1,2,3,4])"
   ]
  },
  {
   "cell_type": "markdown",
   "metadata": {},
   "source": [
    "For the dictionary the number of pairs `key: value`:"
   ]
  },
  {
   "cell_type": "code",
   "execution_count": 49,
   "metadata": {},
   "outputs": [
    {
     "data": {
      "text/plain": [
       "3"
      ]
     },
     "execution_count": 49,
     "metadata": {},
     "output_type": "execute_result"
    }
   ],
   "source": [
    "len({'a': 1, 'b': 2, 'c': 3})"
   ]
  },
  {
   "cell_type": "markdown",
   "metadata": {},
   "source": [
    "To enable the len function to work correctly for your own class, you must meet the\n",
    "expected protocol. In this case, implement the `__len__` method. When someone\n",
    "uses the `len` function on an object of this class, the `__len__` method will be called\n",
    "and the returned value will be the result of the `len` function.\n",
    "\n",
    "Also note that `len` is a unique method as it has a special function. However, this is a rare example (in Python) of usage convenience over strict design decisions.\n",
    "\n",
    "Information about `len` function in documentation:  \n",
    "https://docs.python.org/3/library/functions.html#len\n",
    "\n",
    "Basic information about `__len__`:  \n",
    "https://stackoverﬂow.com/questions/2481421/diﬀerence-between-len-and-len"
   ]
  },
  {
   "cell_type": "markdown",
   "metadata": {},
   "source": [
    "### [Medium] Question 11: list comprehensions"
   ]
  },
  {
   "cell_type": "markdown",
   "metadata": {},
   "source": [
    "```\n",
    "11. The following code snippet:\n",
    "\n",
    "some_variable = [number for number in range(10)]\n",
    "\n",
    "is an example of usage of: \n",
    "\n",
    "* List comprehension \n",
    "* Dict comprehension \n",
    "* Generator expression \n",
    "* Tuple expression \n",
    "```"
   ]
  },
  {
   "cell_type": "markdown",
   "metadata": {},
   "source": [
    "#### Answer\n",
    "\n",
    "Correct answer is  *list comprehension*."
   ]
  },
  {
   "cell_type": "markdown",
   "metadata": {},
   "source": [
    "List comprehension is a short form of creating a new list based on an existing one\n",
    "(list or another sequence). This is an alternative to using a standard loop for."
   ]
  },
  {
   "cell_type": "code",
   "execution_count": 50,
   "metadata": {},
   "outputs": [
    {
     "name": "stdout",
     "output_type": "stream",
     "text": [
      "[0, 1, 2, 3, 4, 5, 6, 7, 8, 9]\n"
     ]
    }
   ],
   "source": [
    "some_variable = [number for number in range(10)]\n",
    "print(some_variable)"
   ]
  },
  {
   "cell_type": "markdown",
   "metadata": {},
   "source": [
    "Above statements can also be written in this (longer) way:"
   ]
  },
  {
   "cell_type": "code",
   "execution_count": 51,
   "metadata": {},
   "outputs": [
    {
     "name": "stdout",
     "output_type": "stream",
     "text": [
      "[0, 1, 2, 3, 4, 5, 6, 7, 8, 9]\n"
     ]
    }
   ],
   "source": [
    "some_variable= []\n",
    "for number in range(10):\n",
    "    some_variable.append(number)\n",
    "print(some_variable)"
   ]
  },
  {
   "cell_type": "markdown",
   "metadata": {},
   "source": [
    "In this case, the use of comprehension lists allows to get a concise and easy to read\n",
    "form. In this example, the role of an existing sequence is `range(10)`, which is a\n",
    "sequence of numbers from 0 to 9 inclusive. List comprehension may also have a\n",
    "condition that allows you to ﬁlter the elements: "
   ]
  },
  {
   "cell_type": "code",
   "execution_count": 52,
   "metadata": {},
   "outputs": [
    {
     "name": "stdout",
     "output_type": "stream",
     "text": [
      "[6, 7, 8, 9]\n"
     ]
    }
   ],
   "source": [
    "some_variable = [number for number in range(10) if number > 5]\n",
    "print(some_variable)"
   ]
  },
  {
   "cell_type": "markdown",
   "metadata": {},
   "source": [
    "In an extensive example:"
   ]
  },
  {
   "cell_type": "code",
   "execution_count": 53,
   "metadata": {},
   "outputs": [
    {
     "name": "stdout",
     "output_type": "stream",
     "text": [
      "[Student<grade=5>, Student<grade=6>, Student<grade=5>]\n"
     ]
    }
   ],
   "source": [
    "class Student(object):\n",
    "    def __init__(self, final_grade):\n",
    "        self.final_grade = final_grade\n",
    "        \n",
    "    def __repr__(self):\n",
    "        return f\"Student<grade={self.final_grade}>\"\n",
    "\n",
    "students = [Student(3), Student(5), Student(6), Student(5)]\n",
    "best_students = [student for student in students if student.final_grade > 4]\n",
    "print(best_students)"
   ]
  },
  {
   "cell_type": "markdown",
   "metadata": {},
   "source": [
    "Here's and example of making all names in the list upper case, using list comprehension to create a new list:"
   ]
  },
  {
   "cell_type": "code",
   "execution_count": 54,
   "metadata": {},
   "outputs": [
    {
     "name": "stdout",
     "output_type": "stream",
     "text": [
      "JOHN JOHNNY\n",
      "MAT MATTLY\n",
      "STEVE STEVENEY\n"
     ]
    }
   ],
   "source": [
    "all_user_names = ['John Johnny', 'Mat Mattly', 'Steve Steveney']\n",
    "for upcase_name in [name.upper() for name in all_user_names]:\n",
    "    print(upcase_name)"
   ]
  },
  {
   "cell_type": "markdown",
   "metadata": {},
   "source": [
    "Similarly to creating nested loops, it is also possible to nest comprehension lists.\n",
    "However, you should keep in mind that for more complex expressions, it is better to\n",
    "use a loop approach, because complex list comprehensions become quickly very\n",
    "complicated.\n",
    "\n",
    "In Python, there are also dict comprehensions, set comprehensions (working\n",
    "analogously to list comprehensions, but on other data types) and an expressions\n",
    "generator (working in a similar way).\n",
    "\n",
    "\n",
    "More details:  \n",
    "https://docs.python.org/3/tutorial/datastructures.html#list-comprehensions  \n",
    "and more:  \n",
    "https://djangostars.com/blog/list-comprehensions-and-generator-expressions/\n",
    "\n",
    "Information about ranges:  \n",
    "https://docs.python.org/3.7/library/stdtypes.html#ranges\n"
   ]
  },
  {
   "cell_type": "markdown",
   "metadata": {},
   "source": [
    "### [Medium] Question 12: function definitions"
   ]
  },
  {
   "cell_type": "markdown",
   "metadata": {},
   "source": [
    "```\n",
    "12. Which of the following types is mutable? \n",
    "* bool \n",
    "* str \n",
    "* list \n",
    "* int\n",
    "```"
   ]
  },
  {
   "cell_type": "markdown",
   "metadata": {},
   "source": [
    "#### Answer\n",
    "\n",
    "Correct answer is `list`.\n",
    "\n",
    "\n",
    "In Python, as in most programming languages, data types can be mutable or\n",
    "immutable. Immutable objects can’t be changed. \n",
    "\n",
    "Type `str` is an example and operation of concatenation (merging, check: \"Which of\n",
    "the following commands will assign the string \" Python \" to the `result` variable?\"). To\n",
    "complete the name with the missing part, the `+=` operator can be used:"
   ]
  },
  {
   "cell_type": "code",
   "execution_count": 55,
   "metadata": {},
   "outputs": [
    {
     "name": "stdout",
     "output_type": "stream",
     "text": [
      "4430046968\n",
      "4430047584\n"
     ]
    }
   ],
   "source": [
    "name = \"Mik\"\n",
    "print(id(name))\n",
    "name += \"olaj\"\n",
    "print(id(name))"
   ]
  },
  {
   "cell_type": "markdown",
   "metadata": {},
   "source": [
    "In above example we're using `id` function which returns place in memory (offset) where variable is stored. If `+=` where to modify existing object instead of creating new one, the offsets should be the same. In this case, the values differ, so it's clear that Python underneath create a new `str` object with modified value.\n",
    "\n",
    "This can also be illustrated using `is` operator which compares whether variables point to exactly the same object (not another instance). The check could look like this:"
   ]
  },
  {
   "cell_type": "code",
   "execution_count": 56,
   "metadata": {},
   "outputs": [
    {
     "data": {
      "text/plain": [
       "True"
      ]
     },
     "execution_count": 56,
     "metadata": {},
     "output_type": "execute_result"
    }
   ],
   "source": [
    "part_name = \"Mik\"\n",
    "name = part_name\n",
    "name is part_name"
   ]
  },
  {
   "cell_type": "code",
   "execution_count": 57,
   "metadata": {},
   "outputs": [
    {
     "data": {
      "text/plain": [
       "False"
      ]
     },
     "execution_count": 57,
     "metadata": {},
     "output_type": "execute_result"
    }
   ],
   "source": [
    "name += \"olaj\"\n",
    "name is part_name"
   ]
  },
  {
   "cell_type": "code",
   "execution_count": 58,
   "metadata": {},
   "outputs": [
    {
     "name": "stdout",
     "output_type": "stream",
     "text": [
      "Mikolaj\n"
     ]
    }
   ],
   "source": [
    "print(name)"
   ]
  },
  {
   "cell_type": "code",
   "execution_count": 59,
   "metadata": {},
   "outputs": [
    {
     "name": "stdout",
     "output_type": "stream",
     "text": [
      "Mik\n"
     ]
    }
   ],
   "source": [
    "print(part_name)"
   ]
  },
  {
   "cell_type": "markdown",
   "metadata": {},
   "source": [
    "Therefore, modiﬁcation of the immutable type is not possible. Each time a new\n",
    "object will be created and the \"old\" will remain intact. Among the built-in Python\n",
    "types are immutable:\n",
    "* bool\n",
    "* int\n",
    "* ﬂoat\n",
    "* tuple\n",
    "* frozenset\n",
    "* str\n",
    "\n",
    "On the other hand, a mutable object can be modiﬁed. Example of mutable types:\n",
    "* list\n",
    "* set\n",
    "* dict\n",
    "\n",
    "Newly defined classes are also (typically) mutable by default.\n",
    "\n",
    "A similar example to the previous one, but for `list` object, would look like this:"
   ]
  },
  {
   "cell_type": "code",
   "execution_count": 60,
   "metadata": {},
   "outputs": [
    {
     "data": {
      "text/plain": [
       "True"
      ]
     },
     "execution_count": 60,
     "metadata": {},
     "output_type": "execute_result"
    }
   ],
   "source": [
    "numbers = [1, 2, 3]\n",
    "new_numbers = numbers\n",
    "new_numbers is numbers"
   ]
  },
  {
   "cell_type": "code",
   "execution_count": 61,
   "metadata": {},
   "outputs": [
    {
     "data": {
      "text/plain": [
       "True"
      ]
     },
     "execution_count": 61,
     "metadata": {},
     "output_type": "execute_result"
    }
   ],
   "source": [
    "new_numbers += [4]\n",
    "new_numbers is numbers"
   ]
  },
  {
   "cell_type": "code",
   "execution_count": 62,
   "metadata": {},
   "outputs": [
    {
     "name": "stdout",
     "output_type": "stream",
     "text": [
      "[1, 2, 3, 4]\n"
     ]
    }
   ],
   "source": [
    "print(new_numbers)"
   ]
  },
  {
   "cell_type": "code",
   "execution_count": 63,
   "metadata": {},
   "outputs": [
    {
     "name": "stdout",
     "output_type": "stream",
     "text": [
      "[1, 2, 3, 4]\n"
     ]
    }
   ],
   "source": [
    "print(numbers)"
   ]
  },
  {
   "cell_type": "markdown",
   "metadata": {},
   "source": [
    "In this example, the list object is modiﬁed, and the change is visible in both, the\n",
    "\"new\" and \"old\" variables, because both point to the same object (no new object was\n",
    "created, as in the case of type `str`).\n",
    "\n",
    "NOTE: This property has implications, when deﬁning a function with a mutable argument with the default value. \n",
    "\n",
    "More details:  \n",
    "https://docs.python.org/3/library/stdtypes.html#immutable-sequence-types  \n",
    "https://docs.python.org/3/glossary.html#term-immutable  \n",
    "https://docs.python.org/3/glossary.html#term-mutable  \n",
    "\n",
    "Article:  \n",
    "https://medium.com/@meghamohan/mutable-and-immutable-side-of-python-c2145cf72747\n"
   ]
  },
  {
   "cell_type": "markdown",
   "metadata": {},
   "source": [
    "### [Medium] Question 13: sequential collections slicing"
   ]
  },
  {
   "cell_type": "markdown",
   "metadata": {},
   "source": [
    "```\n",
    "13. How to return the last element from the list: grades = [5, 3, 2, 5]?\n",
    "* grades[last] \n",
    "* grades[-1] \n",
    "* grades[len(grades)] \n",
    "* grades[4] \n",
    "```"
   ]
  },
  {
   "cell_type": "markdown",
   "metadata": {},
   "source": [
    "#### Answer\n",
    "\n",
    "Correct answer is `grades[-1]`:"
   ]
  },
  {
   "cell_type": "code",
   "execution_count": 64,
   "metadata": {},
   "outputs": [
    {
     "data": {
      "text/plain": [
       "5"
      ]
     },
     "execution_count": 64,
     "metadata": {},
     "output_type": "execute_result"
    }
   ],
   "source": [
    "grades = [5, 3, 2, 5]\n",
    "grades[-1]"
   ]
  },
  {
   "cell_type": "markdown",
   "metadata": {},
   "source": [
    "In Python we can reference to individual items in the list by using the index,\n",
    "providing the item number in square brackets. The ﬁrst item in the list has an index\n",
    "of 0.\n",
    "\n",
    "So calling:"
   ]
  },
  {
   "cell_type": "code",
   "execution_count": 65,
   "metadata": {},
   "outputs": [
    {
     "name": "stdout",
     "output_type": "stream",
     "text": [
      "3\n"
     ]
    }
   ],
   "source": [
    "print(grades[1])"
   ]
  },
  {
   "cell_type": "markdown",
   "metadata": {},
   "source": [
    "will write `3`. \n",
    "\n",
    "To start indexing from the end of the list  we use negative values . So `-1` is the index\n",
    "of the last item in the list, `-2` the second to last, etc. \n",
    "\n",
    "As a warm-up to one of the following questions, there's a also a syntax called *slicing* through we you can extract sublists. A couple of examples below. Details will be exaplained later in this notebook:"
   ]
  },
  {
   "cell_type": "code",
   "execution_count": 66,
   "metadata": {},
   "outputs": [
    {
     "name": "stdout",
     "output_type": "stream",
     "text": [
      "[5, 3, 2, 5]\n"
     ]
    }
   ],
   "source": [
    "print(grades[:])"
   ]
  },
  {
   "cell_type": "code",
   "execution_count": 67,
   "metadata": {},
   "outputs": [
    {
     "name": "stdout",
     "output_type": "stream",
     "text": [
      "[5, 3, 2, 5]\n"
     ]
    }
   ],
   "source": [
    "print(grades[-4:])"
   ]
  },
  {
   "cell_type": "code",
   "execution_count": 68,
   "metadata": {},
   "outputs": [
    {
     "name": "stdout",
     "output_type": "stream",
     "text": [
      "[3, 2, 5]\n"
     ]
    }
   ],
   "source": [
    "print(grades[-3:])"
   ]
  },
  {
   "cell_type": "code",
   "execution_count": 69,
   "metadata": {},
   "outputs": [
    {
     "name": "stdout",
     "output_type": "stream",
     "text": [
      "[5, 3, 2, 5]\n"
     ]
    }
   ],
   "source": [
    "print(grades[-5:])"
   ]
  },
  {
   "cell_type": "code",
   "execution_count": 70,
   "metadata": {},
   "outputs": [
    {
     "name": "stdout",
     "output_type": "stream",
     "text": [
      "[5, 3, 2, 5]\n"
     ]
    }
   ],
   "source": [
    "print(grades[-200:120])"
   ]
  },
  {
   "cell_type": "markdown",
   "metadata": {},
   "source": [
    "Sequence operations:  \n",
    "https://docs.python.org/3/library/stdtypes.html#common-sequence-operations\n",
    "\n",
    "Information about lists:  \n",
    "https://www.programiz.com/python-programming/list"
   ]
  },
  {
   "cell_type": "markdown",
   "metadata": {},
   "source": [
    "### [Medium] Question 14: handling exceptions syntax"
   ]
  },
  {
   "cell_type": "markdown",
   "metadata": {},
   "source": [
    "```\n",
    "14. Which keyword is ​NOT ​the element of the block of exception handling (`try …`):\n",
    "* except \n",
    "* finally \n",
    "* catch \n",
    "* else \n",
    "```"
   ]
  },
  {
   "cell_type": "markdown",
   "metadata": {},
   "source": [
    "#### Answer\n",
    "\n",
    "The correct answer is: `catch`.\n",
    "\n",
    "In Python, the exception handling block begins with the keyword `try`: followed by\n",
    "the code executing within the block. Next is the exception handling section (`except`,\n",
    "may occur several times) or the `finally` section, which will always be executed,\n",
    "regardless of whether an exception occurred. After the keyword `except`, you can\n",
    "specify the type of exception to be \"caught\" and handled in the block. If the thrown\n",
    "exception does not match the given type, the interpreter will look for the next `except`\n",
    "section with the matching type. Not specifying any type catches all types of\n",
    "exceptions. This approach is not recommended because it limits the ﬂexibility of\n",
    "implementation. A good practice is to give the most accurate type of exceptions\n",
    "caught. To handle several diﬀerent types of exceptions in a diﬀerent way, prepare a\n",
    "separate `except`. section for each. In the exception handling block it is allowed to\n",
    "omit the `except` or `finally` section, however one of them must occur (if both, then\n",
    "in the order: ﬁrst except then finally). Finally, there may be an optional `else`\n",
    "section if the exception is not thrown.\n",
    "\n",
    "\n",
    "An example of an exception handling block might look like this:"
   ]
  },
  {
   "cell_type": "code",
   "execution_count": 71,
   "metadata": {},
   "outputs": [
    {
     "name": "stdout",
     "output_type": "stream",
     "text": [
      "OK Boomer\n",
      "No problem :)\n"
     ]
    }
   ],
   "source": [
    "data_file = open(\"message.txt\")\n",
    "try:\n",
    "    for line in data_file:\n",
    "        print(line)\n",
    "except IOError:\n",
    "    print(\"Something went wrong...\")\n",
    "else:\n",
    "    print(\"No problem :)\")\n",
    "finally:        \n",
    "    data_file.close()"
   ]
  },
  {
   "cell_type": "markdown",
   "metadata": {},
   "source": [
    "The above example is simpliﬁed, for the purposes of presenting the possibilities of\n",
    "the `try…` structure. This applies primarily to error handling in the `except` block.\n",
    "Writing a message on the screen is not a good way to handle an exceptional cases. If\n",
    "all we should do with a given exception is to save information about its occurrence,\n",
    "one should use e.g. the logging module and store more detailed data in the program\n",
    "log. In terms of ﬁle support itself, the preferred solution is to use the available\n",
    "context manager (check: \"What keyword can we use context manager for?\").\n",
    "\n",
    "Information about exceptions and their handling:  \n",
    "https://docs.python.org/3.7/tutorial/errors.html"
   ]
  },
  {
   "cell_type": "markdown",
   "metadata": {},
   "source": [
    "### [Medium] Question 15: class definition with inheritance"
   ]
  },
  {
   "cell_type": "markdown",
   "metadata": {},
   "source": [
    "```\n",
    "15. How to declare a class 'FullTimeContract', which inherits from the class 'Contract'? \n",
    "* class FullTimeContract(Contract): \n",
    "* class FullTimeContract inherits Contract: \n",
    "* class FullTimeContract implements Contract: \n",
    "* class FullTimeContract: Contract \n",
    "```"
   ]
  },
  {
   "cell_type": "markdown",
   "metadata": {},
   "source": [
    "#### Answer\n",
    "\n",
    "Correct answer is `class FullTimeContract(Contract):`.\n",
    "\n",
    "Inheritance means that the type (inheriting, child) is a more detailed version of the\n",
    "general type (base type, parent). In the example with the contract,\n",
    "`FullTimeContract` is a particular type of general `Contract`. Thus objects of diﬀerent\n",
    "types inheriting from the same parent to be treated in the same way and to\n",
    "determine which class, the method being called, should be derived from when it is\n",
    "called. This concept is called polymorphism."
   ]
  },
  {
   "cell_type": "code",
   "execution_count": 72,
   "metadata": {},
   "outputs": [
    {
     "name": "stdout",
     "output_type": "stream",
     "text": [
      "24000\n"
     ]
    }
   ],
   "source": [
    "class Contract:\n",
    "    def calculate_value(self, salary_per_hour):\n",
    "        return salary_per_hour\n",
    "    \n",
    "class FullTimeContract(Contract):\n",
    "    def calculate_value(self, salary_per_hour):\n",
    "        return 160 * salary_per_hour\n",
    "    \n",
    "class PartTimeContract(Contract):\n",
    "    def calculate_value(self, salary_per_hour):\n",
    "        return 80 * salary_per_hour\n",
    "\n",
    "contracts = [FullTimeContract(), PartTimeContract()]\n",
    "total_amount = 0\n",
    "for contract in contracts:\n",
    "    total_amount += contract.calculate_value(salary_per_hour=100)\n",
    "print(total_amount)"
   ]
  },
  {
   "cell_type": "markdown",
   "metadata": {},
   "source": [
    "In the implementation of a child class, you can refer to the properties and methods\n",
    "deﬁned in the base class using the `super()` construct. The child class can also\n",
    "extend the base class by adding new ﬁelds and methods, as well as overwriting the\n",
    "implementation of a method already deﬁned in the base class. Classes are\n",
    "associated with the object-oriented programming paradigm, which is a very broad\n",
    "topic, but also an important element of programming skills.\n",
    "\n",
    "\n",
    "Information about classes in Python:  \n",
    "https://docs.python.org/3/tutorial/classes.html"
   ]
  },
  {
   "cell_type": "markdown",
   "metadata": {},
   "source": [
    "### [Hard] Question 16: type hints"
   ]
  },
  {
   "cell_type": "markdown",
   "metadata": {},
   "source": [
    "```\n",
    "16. Declaration 'def get_distance() → Optional[int]:' means that function 'get_distance' should: \n",
    "* Always return a value of type 'int' \n",
    "* Take the parameter 'out' of type 'int' \n",
    "* be invoked with any number of parameters of type 'int' \n",
    "* Always return a value of typu 'int' or value 'None'\n",
    "```"
   ]
  },
  {
   "cell_type": "markdown",
   "metadata": {},
   "source": [
    "#### Answer\n",
    "\n",
    "Correct answer is: `Always return a value of type int or a value of None`.\n",
    "\n",
    "\n",
    "The notation used above is *type hints*. It allows to declare expected types for\n",
    "function arguments, returned values, variables. Python is a dynamically typed\n",
    "language - however, the introduction of bigger support for type hints in new versions\n",
    "of the language allows to use additional mechanisms that facilitate reading of\n",
    "existing code and to reduce the number of errors.\n",
    "\n",
    "The above statement won’t\n",
    "prevent the function from being implemented in the following way, where we're returning `str` instead of `int`:"
   ]
  },
  {
   "cell_type": "code",
   "execution_count": 73,
   "metadata": {},
   "outputs": [],
   "source": [
    "from typing import Optional\n",
    "def get_distance() -> Optional[int]:\n",
    "    return \"This is wrong\""
   ]
  },
  {
   "cell_type": "markdown",
   "metadata": {},
   "source": [
    "but it will be easier to detect this type of error:\n",
    "* Development environments (IDE like PyCharm) will indicate this implementation as a potential error\n",
    "* Information about the expected types allows for better syntax suggestion\n",
    "* Using the so-called type checker (e.g. mypy tool) error will be returned when the code is checked (e.g. before joining changes to the common repository), and not when it is executed in a test or production environment\n",
    "\n",
    "The entry `→ int` means that the given function should always return a value of type\n",
    "`int`. \"Packaging\" in `Optional` also allows to return value `None`.\n",
    "\n",
    "Information about the type hints:  \n",
    "https://docs.python.org/3/library/typing.html\n",
    "\n",
    "Mypy tool:  \n",
    "https://github.com/python/mypy\n",
    "\n",
    "Carl Meyer about type hints:  \n",
    "https://youtu.be/pMgmKJyWKn8\n"
   ]
  },
  {
   "cell_type": "markdown",
   "metadata": {},
   "source": [
    "### [Hard] Question 17: dictionary keys requirements"
   ]
  },
  {
   "cell_type": "markdown",
   "metadata": {},
   "source": [
    "```\n",
    "17. What type can NOT be a key in a dictionary? \n",
    "* int \n",
    "* str \n",
    "* bool \n",
    "* list \n",
    "```"
   ]
  },
  {
   "cell_type": "markdown",
   "metadata": {},
   "source": [
    "#### Answer\n",
    "\n",
    "Correct answer is `list`.\n",
    "\n",
    "The key in the dictionary can be any object that is \"hashable\". This means objects for\n",
    "which the hash value doesn’t change and can be compared with others based on\n",
    "their identity, not the value. Thus we should see `TypeError` for following statement, when trying to use `list` objects as keys:"
   ]
  },
  {
   "cell_type": "code",
   "execution_count": 74,
   "metadata": {},
   "outputs": [
    {
     "ename": "TypeError",
     "evalue": "unhashable type: 'list'",
     "output_type": "error",
     "traceback": [
      "\u001b[0;31m---------------------------------------------------------------------------\u001b[0m",
      "\u001b[0;31mTypeError\u001b[0m                                 Traceback (most recent call last)",
      "\u001b[0;32m<ipython-input-74-eb3a8e714c35>\u001b[0m in \u001b[0;36m<module>\u001b[0;34m\u001b[0m\n\u001b[0;32m----> 1\u001b[0;31m \u001b[0mmy_dict\u001b[0m \u001b[0;34m=\u001b[0m \u001b[0;34m{\u001b[0m\u001b[0;34m[\u001b[0m\u001b[0;36m1\u001b[0m\u001b[0;34m,\u001b[0m\u001b[0;36m1\u001b[0m\u001b[0;34m]\u001b[0m \u001b[0;34m:\u001b[0m \u001b[0;34m'a'\u001b[0m\u001b[0;34m,\u001b[0m \u001b[0;34m[\u001b[0m\u001b[0;36m1\u001b[0m\u001b[0;34m,\u001b[0m\u001b[0;36m2\u001b[0m\u001b[0;34m]\u001b[0m \u001b[0;34m:\u001b[0m \u001b[0;34m'b'\u001b[0m\u001b[0;34m}\u001b[0m\u001b[0;34m\u001b[0m\u001b[0;34m\u001b[0m\u001b[0m\n\u001b[0m",
      "\u001b[0;31mTypeError\u001b[0m: unhashable type: 'list'"
     ]
    }
   ],
   "source": [
    "my_dict = {[1,1] : 'a', [1,2] : 'b'}"
   ]
  },
  {
   "cell_type": "markdown",
   "metadata": {},
   "source": [
    "However we can use `tuples` as dictionary keys without problems because these are immutable and hashable:"
   ]
  },
  {
   "cell_type": "code",
   "execution_count": 75,
   "metadata": {},
   "outputs": [],
   "source": [
    "my_dict = {(1,1) : 'a', (1,2) : 'b'}"
   ]
  },
  {
   "cell_type": "markdown",
   "metadata": {},
   "source": [
    "Types `int`, `str` and `bool` are correct dictionary keys. The\n",
    "`list`, like other built-in mutable types, isn’t hashable, and therefore can’t be used as a\n",
    "key in the dictionary.\n",
    "\n",
    "We can make our own classes useful as dictionary keys if we make them *hashable* through implementing `__hash__` method in particular:"
   ]
  },
  {
   "cell_type": "code",
   "execution_count": 76,
   "metadata": {},
   "outputs": [
    {
     "name": "stdout",
     "output_type": "stream",
     "text": [
      "first\n"
     ]
    }
   ],
   "source": [
    "class example(object):\n",
    "    def __init__(self, a):\n",
    "        self.value = a\n",
    "    def __eq__(self, rhs):\n",
    "        return self.value == rhs.value\n",
    "    def __hash__(self):\n",
    "        return hash(self.value)\n",
    "\n",
    "a = example(1)\n",
    "d = {a: \"first\"}\n",
    "a.data = 2\n",
    "print(d[example(1)])"
   ]
  },
  {
   "cell_type": "markdown",
   "metadata": {},
   "source": [
    "Information about dictionary and hashable:    \n",
    "https://docs.python.org/3/library/stdtypes.html#typesmapping  \n",
    "https://docs.python.org/3/glossary.html#term-hashable"
   ]
  },
  {
   "cell_type": "markdown",
   "metadata": {},
   "source": [
    "### [Hard] Question 18: empty list as function argument default value"
   ]
  },
  {
   "cell_type": "markdown",
   "metadata": {},
   "source": [
    "```\n",
    "18 .How to correctly use an empty list as a default argument for a function? \n",
    "* def calculate(numbers=[]): \n",
    "* def calculate(numbers=None): \n",
    "      if numbers is None: \n",
    "          numbers = []\n",
    "* def calculate(): \n",
    "      numbers = [] \n",
    "* def calculate(numbers: []):\n",
    "```"
   ]
  },
  {
   "cell_type": "markdown",
   "metadata": {},
   "source": [
    "#### Answer\n",
    "\n",
    "Correct answer is:\n",
    "```python\n",
    "def calculate(numbers=None):\n",
    "    if numbers is None:\n",
    "        numbers = []\n",
    "```\n",
    "\n",
    "\n",
    "This construction is due to the fact that the list is a mutable type and to the way\n",
    "Python processes the function deﬁnition and default arguments. Default values are\n",
    "assigned to function arguments when the interpreter \"reads\" its deﬁnition for the\n",
    "ﬁrst time, not after each function call. So this only happens once during the whole\n",
    "program execution. Giving an empty list directly as the default argument will cause it\n",
    "to be one and the same list for each call. Because this is a mutable type, all changes\n",
    "made on the ﬁrst call will be visible on the second. The following example illustrates\n",
    "this well:"
   ]
  },
  {
   "cell_type": "code",
   "execution_count": 77,
   "metadata": {},
   "outputs": [],
   "source": [
    "def more_numbers(numbers=[]):\n",
    "    print(numbers)\n",
    "    numbers.append(1)"
   ]
  },
  {
   "cell_type": "code",
   "execution_count": 78,
   "metadata": {},
   "outputs": [
    {
     "name": "stdout",
     "output_type": "stream",
     "text": [
      "[]\n"
     ]
    }
   ],
   "source": [
    "more_numbers()"
   ]
  },
  {
   "cell_type": "code",
   "execution_count": 79,
   "metadata": {},
   "outputs": [
    {
     "name": "stdout",
     "output_type": "stream",
     "text": [
      "[1]\n"
     ]
    }
   ],
   "source": [
    "more_numbers()"
   ]
  },
  {
   "cell_type": "code",
   "execution_count": 80,
   "metadata": {},
   "outputs": [
    {
     "name": "stdout",
     "output_type": "stream",
     "text": [
      "[1, 1]\n"
     ]
    }
   ],
   "source": [
    "more_numbers()"
   ]
  },
  {
   "cell_type": "markdown",
   "metadata": {},
   "source": [
    "In each subsequent call, the function uses the same list that has already been\n",
    "modiﬁed by previous executions. The use of the structure using `None`  as the default\n",
    "value and assigning the list to a variable only in the body of the function is an\n",
    "accepted way to solve this problem. A similar situation applies to all mutable types\n",
    "being used as the default arguments of the function.\n",
    "\n",
    "\n",
    "Default arguments:  \n",
    "https://docs.python.org/3/tutorial/controlﬂow.html#default-argument-values\n",
    "\n",
    "Using mutable types as the default arguments of the function:  \n",
    "https://nikos7am.com/posts/mutable-default-arguments/\n"
   ]
  },
  {
   "cell_type": "markdown",
   "metadata": {},
   "source": [
    "### [Hard] Question 19: function calling (keyword vs positional arguments)"
   ]
  },
  {
   "cell_type": "markdown",
   "metadata": {},
   "source": [
    "```\n",
    "19. Which of the function: 'def download(url, timeout=5):' invocation is NOT correct? \n",
    "* download(\"www.infoshareacademy.com\") \n",
    "* download(url=\"www.infoshareacademy.com\", 10) \n",
    "* download(timeout=10, url=\"www.infoshareacademy.com\") \n",
    "* download(url=\"www.infoshareacademy.com\")\n",
    "```"
   ]
  },
  {
   "cell_type": "markdown",
   "metadata": {},
   "source": [
    "#### Answer\n",
    "\n",
    "Correct answer is:\n",
    "```python\n",
    "download(url=\"www.infoshareacademy.com\", 10)\n",
    "```"
   ]
  },
  {
   "cell_type": "markdown",
   "metadata": {},
   "source": [
    "Such a call will cause an error (`SyntaxError`) resulting from passing a positional\n",
    "argument after the named argument:"
   ]
  },
  {
   "cell_type": "code",
   "execution_count": 81,
   "metadata": {},
   "outputs": [
    {
     "ename": "SyntaxError",
     "evalue": "positional argument follows keyword argument (<ipython-input-81-0c67f225e60d>, line 4)",
     "output_type": "error",
     "traceback": [
      "\u001b[0;36m  File \u001b[0;32m\"<ipython-input-81-0c67f225e60d>\"\u001b[0;36m, line \u001b[0;32m4\u001b[0m\n\u001b[0;31m    download(url=\"www.infoshareacademy.com\", 10)\u001b[0m\n\u001b[0m                                            ^\u001b[0m\n\u001b[0;31mSyntaxError\u001b[0m\u001b[0;31m:\u001b[0m positional argument follows keyword argument\n"
     ]
    }
   ],
   "source": [
    "def download(url, timeout=5):\n",
    "    print(url, timeout)\n",
    "    \n",
    "download(url=\"www.infoshareacademy.com\", 10)"
   ]
  },
  {
   "cell_type": "markdown",
   "metadata": {},
   "source": [
    "Arguments passed to a function or method\n",
    "can be positional arguments (without the argument name and the `=` character) or\n",
    "named arguments (keyword).\n",
    "\n",
    "For a function deﬁned in this example, it’s possible to:\n",
    "* pass both arguments as positional arguments"
   ]
  },
  {
   "cell_type": "code",
   "execution_count": 82,
   "metadata": {},
   "outputs": [
    {
     "ename": "NameError",
     "evalue": "name 'download' is not defined",
     "output_type": "error",
     "traceback": [
      "\u001b[0;31m---------------------------------------------------------------------------\u001b[0m",
      "\u001b[0;31mNameError\u001b[0m                                 Traceback (most recent call last)",
      "\u001b[0;32m<ipython-input-82-385f01b8cb7a>\u001b[0m in \u001b[0;36m<module>\u001b[0;34m\u001b[0m\n\u001b[0;32m----> 1\u001b[0;31m \u001b[0mdownload\u001b[0m\u001b[0;34m(\u001b[0m\u001b[0;34m\"www.infoshareacademy.com\"\u001b[0m\u001b[0;34m,\u001b[0m \u001b[0;36m10\u001b[0m\u001b[0;34m)\u001b[0m\u001b[0;34m\u001b[0m\u001b[0;34m\u001b[0m\u001b[0m\n\u001b[0m",
      "\u001b[0;31mNameError\u001b[0m: name 'download' is not defined"
     ]
    }
   ],
   "source": [
    "download(\"www.infoshareacademy.com\", 10)"
   ]
  },
  {
   "cell_type": "markdown",
   "metadata": {},
   "source": [
    "* pass only the ﬁrst argument as a positional argument (timeout will default)"
   ]
  },
  {
   "cell_type": "code",
   "execution_count": 83,
   "metadata": {},
   "outputs": [
    {
     "ename": "NameError",
     "evalue": "name 'download' is not defined",
     "output_type": "error",
     "traceback": [
      "\u001b[0;31m---------------------------------------------------------------------------\u001b[0m",
      "\u001b[0;31mNameError\u001b[0m                                 Traceback (most recent call last)",
      "\u001b[0;32m<ipython-input-83-a643a774a5ee>\u001b[0m in \u001b[0;36m<module>\u001b[0;34m\u001b[0m\n\u001b[0;32m----> 1\u001b[0;31m \u001b[0mdownload\u001b[0m\u001b[0;34m(\u001b[0m\u001b[0;34m\"www.infoshareacademy.com\"\u001b[0m\u001b[0;34m)\u001b[0m\u001b[0;34m\u001b[0m\u001b[0;34m\u001b[0m\u001b[0m\n\u001b[0m",
      "\u001b[0;31mNameError\u001b[0m: name 'download' is not defined"
     ]
    }
   ],
   "source": [
    "download(\"www.infoshareacademy.com\")"
   ]
  },
  {
   "cell_type": "markdown",
   "metadata": {},
   "source": [
    "* pass only the ﬁrst argument as a keyword argument (timeout will default)"
   ]
  },
  {
   "cell_type": "code",
   "execution_count": 84,
   "metadata": {},
   "outputs": [
    {
     "ename": "NameError",
     "evalue": "name 'download' is not defined",
     "output_type": "error",
     "traceback": [
      "\u001b[0;31m---------------------------------------------------------------------------\u001b[0m",
      "\u001b[0;31mNameError\u001b[0m                                 Traceback (most recent call last)",
      "\u001b[0;32m<ipython-input-84-60c9f4d5628b>\u001b[0m in \u001b[0;36m<module>\u001b[0;34m\u001b[0m\n\u001b[0;32m----> 1\u001b[0;31m \u001b[0mdownload\u001b[0m\u001b[0;34m(\u001b[0m\u001b[0murl\u001b[0m\u001b[0;34m=\u001b[0m\u001b[0;34m\"www.infoshareacademy.com\"\u001b[0m\u001b[0;34m)\u001b[0m\u001b[0;34m\u001b[0m\u001b[0;34m\u001b[0m\u001b[0m\n\u001b[0m",
      "\u001b[0;31mNameError\u001b[0m: name 'download' is not defined"
     ]
    }
   ],
   "source": [
    "download(url=\"www.infoshareacademy.com\")"
   ]
  },
  {
   "cell_type": "markdown",
   "metadata": {},
   "source": [
    "* pass both arguments as keyword arguments"
   ]
  },
  {
   "cell_type": "code",
   "execution_count": 85,
   "metadata": {},
   "outputs": [
    {
     "ename": "NameError",
     "evalue": "name 'download' is not defined",
     "output_type": "error",
     "traceback": [
      "\u001b[0;31m---------------------------------------------------------------------------\u001b[0m",
      "\u001b[0;31mNameError\u001b[0m                                 Traceback (most recent call last)",
      "\u001b[0;32m<ipython-input-85-b5023cb28da6>\u001b[0m in \u001b[0;36m<module>\u001b[0;34m\u001b[0m\n\u001b[0;32m----> 1\u001b[0;31m \u001b[0mdownload\u001b[0m\u001b[0;34m(\u001b[0m\u001b[0murl\u001b[0m\u001b[0;34m=\u001b[0m\u001b[0;34m\"www.infoshareacademy.com\"\u001b[0m\u001b[0;34m,\u001b[0m \u001b[0mtimeout\u001b[0m\u001b[0;34m=\u001b[0m\u001b[0;36m10\u001b[0m\u001b[0;34m)\u001b[0m\u001b[0;34m\u001b[0m\u001b[0;34m\u001b[0m\u001b[0m\n\u001b[0m",
      "\u001b[0;31mNameError\u001b[0m: name 'download' is not defined"
     ]
    }
   ],
   "source": [
    "download(url=\"www.infoshareacademy.com\", timeout=10)"
   ]
  },
  {
   "cell_type": "markdown",
   "metadata": {},
   "source": [
    "or"
   ]
  },
  {
   "cell_type": "code",
   "execution_count": 86,
   "metadata": {},
   "outputs": [
    {
     "ename": "NameError",
     "evalue": "name 'download' is not defined",
     "output_type": "error",
     "traceback": [
      "\u001b[0;31m---------------------------------------------------------------------------\u001b[0m",
      "\u001b[0;31mNameError\u001b[0m                                 Traceback (most recent call last)",
      "\u001b[0;32m<ipython-input-86-48d4ee0ecbfb>\u001b[0m in \u001b[0;36m<module>\u001b[0;34m\u001b[0m\n\u001b[0;32m----> 1\u001b[0;31m \u001b[0mdownload\u001b[0m\u001b[0;34m(\u001b[0m\u001b[0mtimeout\u001b[0m\u001b[0;34m=\u001b[0m\u001b[0;36m10\u001b[0m\u001b[0;34m,\u001b[0m \u001b[0murl\u001b[0m\u001b[0;34m=\u001b[0m\u001b[0;34m\"www.infoshareacademy.com\"\u001b[0m\u001b[0;34m)\u001b[0m\u001b[0;34m\u001b[0m\u001b[0;34m\u001b[0m\u001b[0m\n\u001b[0m",
      "\u001b[0;31mNameError\u001b[0m: name 'download' is not defined"
     ]
    }
   ],
   "source": [
    "download(timeout=10, url=\"www.infoshareacademy.com\")"
   ]
  },
  {
   "cell_type": "markdown",
   "metadata": {},
   "source": [
    "The order of keyword arguments isn’t important (the interpreter knows which value\n",
    "should be assigned to which argument). The order of positional arguments is\n",
    "important because it corresponds to their assignment to individual variables. It is not\n",
    "allowed to pass the positional argument after keyword arguments, or is it allowed to\n",
    "omit an argument that has no default value.\n",
    "\n",
    "Introduced in PEP 3102 concept of the Keyword-Only Arguments allows you to force\n",
    "some (or all) arguments in the form of keyword arguments. This is to increase\n",
    "readability in situations where the value of the argument isn’t obvious in the context\n",
    "of the function being called. To apply this convention, you must use an asterisk when\n",
    "you declare function arguments. This will cause all subsequent arguments to be\n",
    "passed as keywords arguments:"
   ]
  },
  {
   "cell_type": "code",
   "execution_count": 87,
   "metadata": {},
   "outputs": [],
   "source": [
    "def something(could_be_positional, *, only_keyword):\n",
    "    pass"
   ]
  },
  {
   "cell_type": "markdown",
   "metadata": {},
   "source": [
    "Above function cannot be called using 2 positional arguments, as shown for the original `download` function. Calling it like this will result in `TypeError`: "
   ]
  },
  {
   "cell_type": "code",
   "execution_count": 88,
   "metadata": {},
   "outputs": [
    {
     "ename": "TypeError",
     "evalue": "something() takes 1 positional argument but 2 were given",
     "output_type": "error",
     "traceback": [
      "\u001b[0;31m---------------------------------------------------------------------------\u001b[0m",
      "\u001b[0;31mTypeError\u001b[0m                                 Traceback (most recent call last)",
      "\u001b[0;32m<ipython-input-88-206da1ff17bb>\u001b[0m in \u001b[0;36m<module>\u001b[0;34m\u001b[0m\n\u001b[0;32m----> 1\u001b[0;31m \u001b[0msomething\u001b[0m\u001b[0;34m(\u001b[0m\u001b[0;34m\"first_arg\"\u001b[0m\u001b[0;34m,\u001b[0m \u001b[0;34m\"second_arg\"\u001b[0m\u001b[0;34m)\u001b[0m\u001b[0;34m\u001b[0m\u001b[0;34m\u001b[0m\u001b[0m\n\u001b[0m",
      "\u001b[0;31mTypeError\u001b[0m: something() takes 1 positional argument but 2 were given"
     ]
    }
   ],
   "source": [
    "something(\"first_arg\", \"second_arg\")"
   ]
  },
  {
   "cell_type": "markdown",
   "metadata": {},
   "source": [
    "Whereas passing in `only_keyword` argument through keyword will work without any errors:"
   ]
  },
  {
   "cell_type": "code",
   "execution_count": 89,
   "metadata": {},
   "outputs": [],
   "source": [
    "something(\"first_arg\", only_keyword=\"second_arg\")"
   ]
  },
  {
   "cell_type": "markdown",
   "metadata": {},
   "source": [
    "Information about arguments of the function:  \n",
    "https://docs.python.org/3/tutorial/controlﬂow.html#more-on-deﬁning-functions\n",
    "\n",
    "PEP 3102:  \n",
    "https://www.python.org/dev/peps/pep-3102/"
   ]
  },
  {
   "cell_type": "markdown",
   "metadata": {},
   "source": [
    "### [Hard] Question 20: list slicing"
   ]
  },
  {
   "cell_type": "markdown",
   "metadata": {},
   "source": [
    "```\n",
    "20. How to return a list, having elements indexed 1, 2 and 3 from the list: 'grades = [5, 3, 2, 5, 6]'? \n",
    "* grades[1:] \n",
    "* grades[1][2][3] \n",
    "* grades[1:2:3] \n",
    "* grades[1:4] \n",
    "```"
   ]
  },
  {
   "cell_type": "markdown",
   "metadata": {},
   "source": [
    "#### Answer\n",
    "\n",
    "Correct answer is:\n",
    "```python\n",
    "grades[1:4]\n",
    "```\n",
    "\n",
    "Let's see this the results:"
   ]
  },
  {
   "cell_type": "code",
   "execution_count": 90,
   "metadata": {},
   "outputs": [
    {
     "data": {
      "text/plain": [
       "[3, 2, 5]"
      ]
     },
     "execution_count": 90,
     "metadata": {},
     "output_type": "execute_result"
    }
   ],
   "source": [
    "grades = [5, 3, 2, 5, 6]\n",
    "grades[1:4]"
   ]
  },
  {
   "cell_type": "markdown",
   "metadata": {},
   "source": [
    "By referencing the list (or other sequence) using an index and a colon, you can\n",
    "perform the slice operation. This operation allows you to receive:\n",
    "    \n",
    "* list of items from the beginning to the given index `[:index]` (exluding the element under index `index`):"
   ]
  },
  {
   "cell_type": "code",
   "execution_count": 91,
   "metadata": {},
   "outputs": [
    {
     "data": {
      "text/plain": [
       "[5, 3]"
      ]
     },
     "execution_count": 91,
     "metadata": {},
     "output_type": "execute_result"
    }
   ],
   "source": [
    "grades[:2]"
   ]
  },
  {
   "cell_type": "markdown",
   "metadata": {},
   "source": [
    "* list of items from the given index to the end `[index:]` (including the element under index `index`):"
   ]
  },
  {
   "cell_type": "code",
   "execution_count": 92,
   "metadata": {},
   "outputs": [
    {
     "data": {
      "text/plain": [
       "[3, 2, 5, 6]"
      ]
     },
     "execution_count": 92,
     "metadata": {},
     "output_type": "execute_result"
    }
   ],
   "source": [
    "grades[1:]"
   ]
  },
  {
   "cell_type": "markdown",
   "metadata": {},
   "source": [
    "* list of items between two indexes `[start:end]` (including the element under index `start`,\n",
    "exluding the element under index `end`):"
   ]
  },
  {
   "cell_type": "code",
   "execution_count": 93,
   "metadata": {},
   "outputs": [
    {
     "data": {
      "text/plain": [
       "[3, 2]"
      ]
     },
     "execution_count": 93,
     "metadata": {},
     "output_type": "execute_result"
    }
   ],
   "source": [
    "grades[1:3]"
   ]
  },
  {
   "cell_type": "markdown",
   "metadata": {},
   "source": [
    "* list of elements between two indexes, containing every  n-th element `[start:end:n]` (including the element under index `start`,  then the element at index `start + n` etc., exluding the element under index `end`):"
   ]
  },
  {
   "cell_type": "code",
   "execution_count": 94,
   "metadata": {},
   "outputs": [
    {
     "data": {
      "text/plain": [
       "[3, 5]"
      ]
     },
     "execution_count": 94,
     "metadata": {},
     "output_type": "execute_result"
    }
   ],
   "source": [
    "grades[1:5:2]"
   ]
  },
  {
   "cell_type": "markdown",
   "metadata": {},
   "source": [
    "Slice operations are a convenient way to get a selected subset of elements from a\n",
    "longer sequence. When using a slice, remember: \n",
    "* the ﬁrst element of the list has the index `0`:"
   ]
  },
  {
   "cell_type": "code",
   "execution_count": 95,
   "metadata": {},
   "outputs": [
    {
     "data": {
      "text/plain": [
       "5"
      ]
     },
     "execution_count": 95,
     "metadata": {},
     "output_type": "execute_result"
    }
   ],
   "source": [
    "grades[0]"
   ]
  },
  {
   "cell_type": "markdown",
   "metadata": {},
   "source": [
    "* last element of the list assigned to the variable numbers has index `-1` or\n",
    "`len(numbers) - 1`:"
   ]
  },
  {
   "cell_type": "code",
   "execution_count": 96,
   "metadata": {},
   "outputs": [
    {
     "name": "stdout",
     "output_type": "stream",
     "text": [
      "6\n",
      "6\n"
     ]
    }
   ],
   "source": [
    "print(grades[-1])\n",
    "print(grades[len(grades)-1])"
   ]
  },
  {
   "cell_type": "markdown",
   "metadata": {},
   "source": [
    "* the use of complicated slices (e.g. using negative indexes and selecting every n-\n",
    "th element) signiﬁcantly reduces the clearness of the code. In such case, it is\n",
    "worth carrying out the planned operation e.g. in several steps"
   ]
  },
  {
   "cell_type": "markdown",
   "metadata": {},
   "source": [
    "What's interesing indexes used within slicing syntax do not have to within range of valid indexes. See example below working without errors:"
   ]
  },
  {
   "cell_type": "code",
   "execution_count": 97,
   "metadata": {},
   "outputs": [
    {
     "data": {
      "text/plain": [
       "[5, 3, 2, 5, 6]"
      ]
     },
     "execution_count": 97,
     "metadata": {},
     "output_type": "execute_result"
    }
   ],
   "source": [
    "grades[-100:]"
   ]
  },
  {
   "cell_type": "code",
   "execution_count": 98,
   "metadata": {},
   "outputs": [
    {
     "data": {
      "text/plain": [
       "[5, 3, 2, 5, 6]"
      ]
     },
     "execution_count": 98,
     "metadata": {},
     "output_type": "execute_result"
    }
   ],
   "source": [
    "grades[:300]"
   ]
  },
  {
   "cell_type": "code",
   "execution_count": 99,
   "metadata": {},
   "outputs": [
    {
     "data": {
      "text/plain": [
       "[5, 3, 2, 5, 6]"
      ]
     },
     "execution_count": 99,
     "metadata": {},
     "output_type": "execute_result"
    }
   ],
   "source": [
    "grades[-150:300]"
   ]
  },
  {
   "cell_type": "markdown",
   "metadata": {},
   "source": [
    "Lists and list operations:  \n",
    "https://docs.python.org/3/tutorial/introduction.html#lists  \n",
    "https://docs.python.org/3/library/stdtypes.html#common-sequence-operations"
   ]
  },
  {
   "cell_type": "markdown",
   "metadata": {},
   "source": [
    "## Task 1: functions, list comprehensions, string operations\n",
    "\n",
    "### Task\n",
    "Implement a function that should take one parameter as input called the_list.\n",
    "\n",
    "Function should return a new list that is based only on last 5 elements of input list.\n",
    "\n",
    "Elements of new list should be squared values of original element, but only if original element contained digit `7`.\n",
    "\n",
    "For example, for input list:\n",
    "\n",
    "`[1, 1, 3, 4, 7, 7, 2]`\n",
    "\n",
    "The return list should be:\n",
    "\n",
    "`[49, 49]`\n",
    "\n",
    "LEVEL UP: try to use as few lines of code as possible.\n",
    "\n",
    "\n",
    "### Helpful: checking for character presence in a number"
   ]
  },
  {
   "cell_type": "code",
   "execution_count": 100,
   "metadata": {},
   "outputs": [
    {
     "data": {
      "text/plain": [
       "777"
      ]
     },
     "execution_count": 100,
     "metadata": {},
     "output_type": "execute_result"
    }
   ],
   "source": [
    "a = 777\n",
    "a"
   ]
  },
  {
   "cell_type": "markdown",
   "metadata": {},
   "source": [
    "Converting a number to string:"
   ]
  },
  {
   "cell_type": "code",
   "execution_count": 101,
   "metadata": {},
   "outputs": [
    {
     "data": {
      "text/plain": [
       "'777'"
      ]
     },
     "execution_count": 101,
     "metadata": {},
     "output_type": "execute_result"
    }
   ],
   "source": [
    "str(a)"
   ]
  },
  {
   "cell_type": "code",
   "execution_count": 102,
   "metadata": {},
   "outputs": [],
   "source": [
    "str_a = str(a)"
   ]
  },
  {
   "cell_type": "markdown",
   "metadata": {},
   "source": [
    "Checking whether there's digit `8` present in our number:"
   ]
  },
  {
   "cell_type": "code",
   "execution_count": 103,
   "metadata": {},
   "outputs": [
    {
     "data": {
      "text/plain": [
       "False"
      ]
     },
     "execution_count": 103,
     "metadata": {},
     "output_type": "execute_result"
    }
   ],
   "source": [
    "'8' in str_a"
   ]
  },
  {
   "cell_type": "markdown",
   "metadata": {},
   "source": [
    "There same for digit `7`:"
   ]
  },
  {
   "cell_type": "code",
   "execution_count": 104,
   "metadata": {},
   "outputs": [
    {
     "data": {
      "text/plain": [
       "True"
      ]
     },
     "execution_count": 104,
     "metadata": {},
     "output_type": "execute_result"
    }
   ],
   "source": [
    "'7' in str_a"
   ]
  },
  {
   "cell_type": "markdown",
   "metadata": {},
   "source": [
    "### Solution 1 (straightforward, not very pythonic)"
   ]
  },
  {
   "cell_type": "code",
   "execution_count": 105,
   "metadata": {},
   "outputs": [
    {
     "ename": "NameError",
     "evalue": "name 'func_task1_sol2' is not defined",
     "output_type": "error",
     "traceback": [
      "\u001b[0;31m---------------------------------------------------------------------------\u001b[0m",
      "\u001b[0;31mNameError\u001b[0m                                 Traceback (most recent call last)",
      "\u001b[0;32m<ipython-input-105-7238a962eb2d>\u001b[0m in \u001b[0;36m<module>\u001b[0;34m\u001b[0m\n\u001b[1;32m     14\u001b[0m             \u001b[0mresult_list\u001b[0m\u001b[0;34m.\u001b[0m\u001b[0mappend\u001b[0m\u001b[0;34m(\u001b[0m\u001b[0melem_squared\u001b[0m\u001b[0;34m)\u001b[0m\u001b[0;34m\u001b[0m\u001b[0;34m\u001b[0m\u001b[0m\n\u001b[1;32m     15\u001b[0m \u001b[0;34m\u001b[0m\u001b[0m\n\u001b[0;32m---> 16\u001b[0;31m \u001b[0mfunc_task1_sol2\u001b[0m\u001b[0;34m(\u001b[0m\u001b[0mthe_list\u001b[0m\u001b[0;34m)\u001b[0m\u001b[0;34m\u001b[0m\u001b[0;34m\u001b[0m\u001b[0m\n\u001b[0m",
      "\u001b[0;31mNameError\u001b[0m: name 'func_task1_sol2' is not defined"
     ]
    }
   ],
   "source": [
    "the_list = [1, 1, 3, 4, 7, 7, 2]\n",
    "def func_task1_sol1(L):\n",
    "    # Creating empty list for storing results.\n",
    "    result_list = []\n",
    "    # We want to process only last 5 elements of the list, so slicing is done.\n",
    "    newL = L[-5:]\n",
    "    \n",
    "    for elem in newL:\n",
    "        # Checking whether there is digit '7' within number.\n",
    "        if '7' in str(elem):\n",
    "            # Calculating square of the element.\n",
    "            elem_squared = elem**2\n",
    "            # Using append method to add new element to existing list.\n",
    "            result_list.append(elem_squared)\n",
    "            \n",
    "func_task1_sol2(the_list)"
   ]
  },
  {
   "cell_type": "markdown",
   "metadata": {},
   "source": [
    "### Solution 2 (whole code in one line, pythonic way)"
   ]
  },
  {
   "cell_type": "code",
   "execution_count": 106,
   "metadata": {},
   "outputs": [
    {
     "data": {
      "text/plain": [
       "[49, 49]"
      ]
     },
     "execution_count": 106,
     "metadata": {},
     "output_type": "execute_result"
    }
   ],
   "source": [
    "the_list = [1, 1, 3, 4, 7, 7, 2]\n",
    "\n",
    "def func_task1_sol2(L):\n",
    "    return [n**2 for n in L[-5:] if '7' in str(n)]\n",
    "\n",
    "func_task1_sol2(the_list)"
   ]
  },
  {
   "cell_type": "markdown",
   "metadata": {},
   "source": [
    "## Task 2: using dictionaries, creating classes\n",
    "\n",
    "### Task\n",
    "\n",
    "Create a class called `Zoo`. It should store a count of animals per species/kind, e.g. ammount of lions, crocodiles, etc.\n",
    "\n",
    "You should be able to create the class by passing the ammounts as keyword parameters.\n",
    "\n",
    "Create method `update`, that takes keyword parameters and adjust the count for each keyword.\n",
    "\n",
    "Example creation:\n",
    "\n",
    "`z = Zoo(lion=3, panther=2)`\n",
    "\n",
    "Example update:\n",
    "\n",
    "`z.update(lion=-1, cheetah=2)`\n",
    "\n",
    "Example initial animals count:\n",
    "\n",
    "`initial_count = {'lion' : 2, 'tiger' : 4, 'parrot': 11, 'giraffe' : 2}`\n",
    "\n",
    "\n",
    "### Solution "
   ]
  },
  {
   "cell_type": "code",
   "execution_count": 107,
   "metadata": {},
   "outputs": [
    {
     "name": "stdout",
     "output_type": "stream",
     "text": [
      "{'lion': 1, 'tiger': 4, 'parrot': 11, 'giraffe': 2, 'cheetah': 2}\n"
     ]
    }
   ],
   "source": [
    "initial_count = {'lion' : 2, 'tiger' : 4, 'parrot': 11, 'giraffe' : 2}\n",
    "\n",
    "class Zoo(object):\n",
    "    def __init__(self, **kwargs):\n",
    "        self.count = kwargs\n",
    "        \n",
    "    def update(self, **kwargs):\n",
    "        for k in kwargs:\n",
    "            self.count[k] = self.count.get(k, 0) + kwargs[k]\n",
    "            \n",
    "z = Zoo(**initial_count)\n",
    "\n",
    "z.update(lion=-1, cheetah=2)\n",
    "\n",
    "print(z.count)"
   ]
  },
  {
   "cell_type": "markdown",
   "metadata": {},
   "source": [
    "## Task 3: `__repr__` method\n",
    "### Task\n",
    "\n",
    "Implement `__repr__` method for class `Zoo`.\n",
    "\n",
    "\n",
    "### Helpful: example implementation of `__repr__`"
   ]
  },
  {
   "cell_type": "code",
   "execution_count": 108,
   "metadata": {},
   "outputs": [
    {
     "name": "stdout",
     "output_type": "stream",
     "text": [
      "Car(blue, 0)\n"
     ]
    }
   ],
   "source": [
    "class OriginalCar(object):\n",
    "    def __init__(self, color, speed=0):\n",
    "        self.color = color\n",
    "        self.speed = speed\n",
    "        \n",
    "    def __repr__(self):\n",
    "        return f\"Car({self.color}, {self.speed})\"\n",
    "    \n",
    "print(OriginalCar(\"blue\"))"
   ]
  },
  {
   "cell_type": "markdown",
   "metadata": {},
   "source": [
    "### Solution"
   ]
  },
  {
   "cell_type": "code",
   "execution_count": 109,
   "metadata": {},
   "outputs": [
    {
     "name": "stdout",
     "output_type": "stream",
     "text": [
      "{'lion': 2, 'tiger': 4, 'parrot': 11, 'giraffe': 2}\n"
     ]
    }
   ],
   "source": [
    "class Zoo(object):\n",
    "    def __init__(self, **kwargs):\n",
    "        self.count = kwargs\n",
    "        \n",
    "    def update(self, **kwargs):\n",
    "        for k in kwargs:\n",
    "            self.count[k] = self.count.get(k, 0) + kwargs[k]\n",
    "            \n",
    "    def __repr__(self):\n",
    "        return str(self.count)\n",
    "    \n",
    "    def __len__(self):\n",
    "        return sum(self.count.values())    \n",
    "    \n",
    "print(Zoo(**initial_count))"
   ]
  },
  {
   "cell_type": "markdown",
   "metadata": {},
   "source": [
    "## Task 4\n",
    "\n",
    "### Task\n",
    "Implement `__len__` method and use it in `__repr__` method implementation.\n",
    "\n",
    "`len` should return ammount of all animals (every kind) currently in the Zoo.\n",
    "\n",
    "### Solution"
   ]
  },
  {
   "cell_type": "code",
   "execution_count": 110,
   "metadata": {},
   "outputs": [
    {
     "name": "stdout",
     "output_type": "stream",
     "text": [
      "Zoo(overall=19\n",
      "lion=2\n",
      "tiger=4\n",
      "parrot=11\n",
      "giraffe=2\n",
      ")\n"
     ]
    }
   ],
   "source": [
    "class Zoo(object):\n",
    "    def __init__(self, **kwargs):\n",
    "        self.count = kwargs\n",
    "        \n",
    "    def update(self, **kwargs):\n",
    "        for k in kwargs:\n",
    "            self.count[k] = self.count.get(k, 0) + kwargs[k]\n",
    "            \n",
    "    def __repr__(self):\n",
    "        output = f\"Zoo(overall={len(self)}\\n\"\n",
    "        output += \"\\n\".join((f\"{k}={v}\" for k, v in self.count.items() if v > 0))\n",
    "        output += \"\\n)\"\n",
    "        return output            \n",
    "    \n",
    "    def __len__(self):\n",
    "        return sum(self.count.values())    \n",
    "    \n",
    "print(Zoo(**initial_count))"
   ]
  },
  {
   "cell_type": "markdown",
   "metadata": {},
   "source": [
    "## Task 5\n",
    "\n",
    "### Task\n",
    "Sort list of cars by the ratio of `max_speed` to `weight` of car.\n",
    "\n",
    "`Car` class basic implementation:\n",
    "\n",
    "```python\n",
    "class Car(object):\n",
    "    def __init__(self, max_speed, weight):\n",
    "        self.max_speed = max_speed\n",
    "        self.weight = weight\n",
    "    \n",
    "    def __repr__(self):\n",
    "        return f\"Car(max_speed={self.max_speed}, weight={self.weight})\"\n",
    "```\n",
    "\n",
    "\n",
    "Example list of cars to process:\n",
    "\n",
    "`cars = [Car(202, 2250), Car(190, 2200), Car(180, 2100), Car(160, 1100)]`\n",
    "\n",
    "\n"
   ]
  },
  {
   "cell_type": "markdown",
   "metadata": {},
   "source": [
    "### Helpful: how to sort list of objects?"
   ]
  },
  {
   "cell_type": "code",
   "execution_count": 111,
   "metadata": {},
   "outputs": [
    {
     "ename": "NameError",
     "evalue": "name 'Car' is not defined",
     "output_type": "error",
     "traceback": [
      "\u001b[0;31m---------------------------------------------------------------------------\u001b[0m",
      "\u001b[0;31mNameError\u001b[0m                                 Traceback (most recent call last)",
      "\u001b[0;32m<ipython-input-111-92b4bda6ab27>\u001b[0m in \u001b[0;36m<module>\u001b[0;34m\u001b[0m\n\u001b[0;32m----> 1\u001b[0;31m \u001b[0mcars\u001b[0m \u001b[0;34m=\u001b[0m \u001b[0;34m[\u001b[0m\u001b[0mCar\u001b[0m\u001b[0;34m(\u001b[0m\u001b[0;36m202\u001b[0m\u001b[0;34m,\u001b[0m \u001b[0;36m2250\u001b[0m\u001b[0;34m)\u001b[0m\u001b[0;34m,\u001b[0m \u001b[0mCar\u001b[0m\u001b[0;34m(\u001b[0m\u001b[0;36m190\u001b[0m\u001b[0;34m,\u001b[0m \u001b[0;36m2200\u001b[0m\u001b[0;34m)\u001b[0m\u001b[0;34m,\u001b[0m \u001b[0mCar\u001b[0m\u001b[0;34m(\u001b[0m\u001b[0;36m180\u001b[0m\u001b[0;34m,\u001b[0m \u001b[0;36m2100\u001b[0m\u001b[0;34m)\u001b[0m\u001b[0;34m,\u001b[0m \u001b[0mCar\u001b[0m\u001b[0;34m(\u001b[0m\u001b[0;36m160\u001b[0m\u001b[0;34m,\u001b[0m \u001b[0;36m1100\u001b[0m\u001b[0;34m)\u001b[0m\u001b[0;34m]\u001b[0m\u001b[0;34m\u001b[0m\u001b[0;34m\u001b[0m\u001b[0m\n\u001b[0m",
      "\u001b[0;31mNameError\u001b[0m: name 'Car' is not defined"
     ]
    }
   ],
   "source": [
    "cars = [Car(202, 2250), Car(190, 2200), Car(180, 2100), Car(160, 1100)]"
   ]
  },
  {
   "cell_type": "code",
   "execution_count": 112,
   "metadata": {},
   "outputs": [
    {
     "ename": "NameError",
     "evalue": "name 'cars' is not defined",
     "output_type": "error",
     "traceback": [
      "\u001b[0;31m---------------------------------------------------------------------------\u001b[0m",
      "\u001b[0;31mNameError\u001b[0m                                 Traceback (most recent call last)",
      "\u001b[0;32m<ipython-input-112-8a296308862e>\u001b[0m in \u001b[0;36m<module>\u001b[0;34m\u001b[0m\n\u001b[0;32m----> 1\u001b[0;31m \u001b[0mcars\u001b[0m\u001b[0;34m.\u001b[0m\u001b[0msort\u001b[0m\u001b[0;34m(\u001b[0m\u001b[0;34m)\u001b[0m\u001b[0;34m\u001b[0m\u001b[0;34m\u001b[0m\u001b[0m\n\u001b[0m\u001b[1;32m      2\u001b[0m \u001b[0;32mfrom\u001b[0m \u001b[0mpprint\u001b[0m \u001b[0;32mimport\u001b[0m \u001b[0mpprint\u001b[0m\u001b[0;34m\u001b[0m\u001b[0;34m\u001b[0m\u001b[0m\n\u001b[1;32m      3\u001b[0m \u001b[0mpprint\u001b[0m\u001b[0;34m(\u001b[0m\u001b[0mcars\u001b[0m\u001b[0;34m)\u001b[0m\u001b[0;34m\u001b[0m\u001b[0;34m\u001b[0m\u001b[0m\n",
      "\u001b[0;31mNameError\u001b[0m: name 'cars' is not defined"
     ]
    }
   ],
   "source": [
    "cars.sort()\n",
    "from pprint import pprint\n",
    "pprint(cars)"
   ]
  },
  {
   "cell_type": "code",
   "execution_count": 113,
   "metadata": {},
   "outputs": [
    {
     "ename": "NameError",
     "evalue": "name 'cars' is not defined",
     "output_type": "error",
     "traceback": [
      "\u001b[0;31m---------------------------------------------------------------------------\u001b[0m",
      "\u001b[0;31mNameError\u001b[0m                                 Traceback (most recent call last)",
      "\u001b[0;32m<ipython-input-113-0138b9c9fa01>\u001b[0m in \u001b[0;36m<module>\u001b[0;34m\u001b[0m\n\u001b[0;32m----> 1\u001b[0;31m \u001b[0msorted\u001b[0m\u001b[0;34m(\u001b[0m\u001b[0mcars\u001b[0m\u001b[0;34m)\u001b[0m\u001b[0;34m\u001b[0m\u001b[0;34m\u001b[0m\u001b[0m\n\u001b[0m",
      "\u001b[0;31mNameError\u001b[0m: name 'cars' is not defined"
     ]
    }
   ],
   "source": [
    "sorted(cars)"
   ]
  },
  {
   "cell_type": "code",
   "execution_count": 114,
   "metadata": {},
   "outputs": [
    {
     "ename": "NameError",
     "evalue": "name 'cars' is not defined",
     "output_type": "error",
     "traceback": [
      "\u001b[0;31m---------------------------------------------------------------------------\u001b[0m",
      "\u001b[0;31mNameError\u001b[0m                                 Traceback (most recent call last)",
      "\u001b[0;32m<ipython-input-114-bbf2cecdcec8>\u001b[0m in \u001b[0;36m<module>\u001b[0;34m\u001b[0m\n\u001b[0;32m----> 1\u001b[0;31m \u001b[0msorted\u001b[0m\u001b[0;34m(\u001b[0m\u001b[0mcars\u001b[0m\u001b[0;34m,\u001b[0m \u001b[0mkey\u001b[0m\u001b[0;34m=\u001b[0m\u001b[0;32mlambda\u001b[0m \u001b[0mcar\u001b[0m\u001b[0;34m:\u001b[0m \u001b[0mcar\u001b[0m\u001b[0;34m.\u001b[0m\u001b[0mmax_speed\u001b[0m\u001b[0;34m)\u001b[0m\u001b[0;34m\u001b[0m\u001b[0;34m\u001b[0m\u001b[0m\n\u001b[0m",
      "\u001b[0;31mNameError\u001b[0m: name 'cars' is not defined"
     ]
    }
   ],
   "source": [
    "sorted(cars, key=lambda car: car.max_speed)"
   ]
  },
  {
   "cell_type": "code",
   "execution_count": 115,
   "metadata": {},
   "outputs": [
    {
     "ename": "NameError",
     "evalue": "name 'cars' is not defined",
     "output_type": "error",
     "traceback": [
      "\u001b[0;31m---------------------------------------------------------------------------\u001b[0m",
      "\u001b[0;31mNameError\u001b[0m                                 Traceback (most recent call last)",
      "\u001b[0;32m<ipython-input-115-9d1b3f8b3972>\u001b[0m in \u001b[0;36m<module>\u001b[0;34m\u001b[0m\n\u001b[0;32m----> 1\u001b[0;31m \u001b[0msorted\u001b[0m\u001b[0;34m(\u001b[0m\u001b[0mcars\u001b[0m\u001b[0;34m,\u001b[0m \u001b[0mkey\u001b[0m\u001b[0;34m=\u001b[0m\u001b[0;32mlambda\u001b[0m \u001b[0mcar\u001b[0m\u001b[0;34m:\u001b[0m \u001b[0mcar\u001b[0m\u001b[0;34m.\u001b[0m\u001b[0mweight\u001b[0m\u001b[0;34m)\u001b[0m\u001b[0;34m\u001b[0m\u001b[0;34m\u001b[0m\u001b[0m\n\u001b[0m",
      "\u001b[0;31mNameError\u001b[0m: name 'cars' is not defined"
     ]
    }
   ],
   "source": [
    "sorted(cars, key=lambda car: car.weight)"
   ]
  },
  {
   "cell_type": "code",
   "execution_count": 116,
   "metadata": {},
   "outputs": [
    {
     "ename": "NameError",
     "evalue": "name 'cars' is not defined",
     "output_type": "error",
     "traceback": [
      "\u001b[0;31m---------------------------------------------------------------------------\u001b[0m",
      "\u001b[0;31mNameError\u001b[0m                                 Traceback (most recent call last)",
      "\u001b[0;32m<ipython-input-116-59a0bdcb4cc0>\u001b[0m in \u001b[0;36m<module>\u001b[0;34m\u001b[0m\n\u001b[0;32m----> 1\u001b[0;31m \u001b[0msorted\u001b[0m\u001b[0;34m(\u001b[0m\u001b[0mcars\u001b[0m\u001b[0;34m,\u001b[0m \u001b[0mkey\u001b[0m\u001b[0;34m=\u001b[0m\u001b[0;32mlambda\u001b[0m \u001b[0mcar\u001b[0m\u001b[0;34m:\u001b[0m \u001b[0mcar\u001b[0m\u001b[0;34m.\u001b[0m\u001b[0mmax_speed\u001b[0m\u001b[0;34m/\u001b[0m\u001b[0mcar\u001b[0m\u001b[0;34m.\u001b[0m\u001b[0mweight\u001b[0m\u001b[0;34m)\u001b[0m\u001b[0;34m\u001b[0m\u001b[0;34m\u001b[0m\u001b[0m\n\u001b[0m",
      "\u001b[0;31mNameError\u001b[0m: name 'cars' is not defined"
     ]
    }
   ],
   "source": [
    "sorted(cars, key=lambda car: car.max_speed/car.weight)"
   ]
  },
  {
   "cell_type": "code",
   "execution_count": 117,
   "metadata": {},
   "outputs": [
    {
     "ename": "NameError",
     "evalue": "name 'cars' is not defined",
     "output_type": "error",
     "traceback": [
      "\u001b[0;31m---------------------------------------------------------------------------\u001b[0m",
      "\u001b[0;31mNameError\u001b[0m                                 Traceback (most recent call last)",
      "\u001b[0;32m<ipython-input-117-23be28ac48d7>\u001b[0m in \u001b[0;36m<module>\u001b[0;34m\u001b[0m\n\u001b[0;32m----> 1\u001b[0;31m \u001b[0msorted\u001b[0m\u001b[0;34m(\u001b[0m\u001b[0mcars\u001b[0m\u001b[0;34m,\u001b[0m \u001b[0mkey\u001b[0m\u001b[0;34m=\u001b[0m\u001b[0;32mlambda\u001b[0m \u001b[0mcar\u001b[0m\u001b[0;34m:\u001b[0m \u001b[0mcar\u001b[0m\u001b[0;34m.\u001b[0m\u001b[0mratio\u001b[0m\u001b[0;34m)\u001b[0m\u001b[0;34m\u001b[0m\u001b[0;34m\u001b[0m\u001b[0m\n\u001b[0m",
      "\u001b[0;31mNameError\u001b[0m: name 'cars' is not defined"
     ]
    }
   ],
   "source": [
    "sorted(cars, key=lambda car: car.ratio)"
   ]
  },
  {
   "cell_type": "code",
   "execution_count": 118,
   "metadata": {},
   "outputs": [
    {
     "ename": "NameError",
     "evalue": "name 'cars' is not defined",
     "output_type": "error",
     "traceback": [
      "\u001b[0;31m---------------------------------------------------------------------------\u001b[0m",
      "\u001b[0;31mNameError\u001b[0m                                 Traceback (most recent call last)",
      "\u001b[0;32m<ipython-input-118-2d061b67f686>\u001b[0m in \u001b[0;36m<module>\u001b[0;34m\u001b[0m\n\u001b[1;32m      1\u001b[0m \u001b[0;32mfrom\u001b[0m \u001b[0moperator\u001b[0m \u001b[0;32mimport\u001b[0m \u001b[0mitemgetter\u001b[0m\u001b[0;34m,\u001b[0m \u001b[0mattrgetter\u001b[0m\u001b[0;34m\u001b[0m\u001b[0;34m\u001b[0m\u001b[0m\n\u001b[0;32m----> 2\u001b[0;31m \u001b[0msorted\u001b[0m\u001b[0;34m(\u001b[0m\u001b[0mcars\u001b[0m\u001b[0;34m,\u001b[0m \u001b[0mkey\u001b[0m\u001b[0;34m=\u001b[0m\u001b[0mattrgetter\u001b[0m\u001b[0;34m(\u001b[0m\u001b[0;34m'ratio'\u001b[0m\u001b[0;34m)\u001b[0m\u001b[0;34m)\u001b[0m\u001b[0;34m\u001b[0m\u001b[0;34m\u001b[0m\u001b[0m\n\u001b[0m",
      "\u001b[0;31mNameError\u001b[0m: name 'cars' is not defined"
     ]
    }
   ],
   "source": [
    "from operator import itemgetter, attrgetter\n",
    "sorted(cars, key=attrgetter('ratio'))"
   ]
  },
  {
   "cell_type": "code",
   "execution_count": 119,
   "metadata": {},
   "outputs": [
    {
     "name": "stdout",
     "output_type": "stream",
     "text": [
      "[(1, 2, 3), (1, 77, 9), (1, 33, 3)]\n"
     ]
    },
    {
     "data": {
      "text/plain": [
       "[(1, 2, 3), (1, 33, 3), (1, 77, 9)]"
      ]
     },
     "execution_count": 119,
     "metadata": {},
     "output_type": "execute_result"
    }
   ],
   "source": [
    "t = [(1,2,3),(1,77,9),(1,33,3)]\n",
    "print(t)\n",
    "sorted(t, key=itemgetter(2))"
   ]
  },
  {
   "cell_type": "markdown",
   "metadata": {},
   "source": [
    "### Solution"
   ]
  },
  {
   "cell_type": "code",
   "execution_count": 120,
   "metadata": {},
   "outputs": [
    {
     "data": {
      "text/plain": [
       "[Car(max_speed=180, weight=2100, ratio=0.08571428571428572),\n",
       " Car(max_speed=190, weight=2200, ratio=0.08636363636363636),\n",
       " Car(max_speed=202, weight=2250, ratio=0.08977777777777778),\n",
       " Car(max_speed=160, weight=1100, ratio=0.14545454545454545)]"
      ]
     },
     "execution_count": 120,
     "metadata": {},
     "output_type": "execute_result"
    }
   ],
   "source": [
    "class Car(object):\n",
    "    def __init__(self, max_speed, weight):\n",
    "        self.max_speed = max_speed\n",
    "        self.weight = weight\n",
    "        self.ratio = max_speed/weight\n",
    "        \n",
    "    def __lt__(self, rlt):\n",
    "        return self.ratio < rlt.ratio\n",
    "    \n",
    "    def __repr__(self):\n",
    "        return f\"Car(max_speed={self.max_speed}, weight={self.weight}, ratio={self.ratio})\"\n",
    "    \n",
    "    \n",
    "cars = [Car(202, 2250), Car(190, 2200), Car(180, 2100), Car(160, 1100)]\n",
    "sorted(cars, key=lambda car: car.ratio)"
   ]
  },
  {
   "cell_type": "markdown",
   "metadata": {},
   "source": [
    "## Task 6: method decorators\n",
    "\n",
    "### Task\n",
    "\n",
    "Implement `log` decorator function that will print out into console (standard out) information that includes:\n",
    "\n",
    "1. what is the name of called function/method?\n",
    "1. what are positional attributes passed to function/method?\n",
    "1. what are keyword attributes passed to function/method?\n",
    "\n",
    "\n",
    "### Helpful: examples of function decorators"
   ]
  },
  {
   "cell_type": "markdown",
   "metadata": {},
   "source": [
    "Example code of decorator with example usage. Observe that exception is raised if user is not admin. This means that decorator `check_is_admin` was called."
   ]
  },
  {
   "cell_type": "code",
   "execution_count": 121,
   "metadata": {},
   "outputs": [
    {
     "data": {
      "text/plain": [
       "{}"
      ]
     },
     "execution_count": 121,
     "metadata": {},
     "output_type": "execute_result"
    }
   ],
   "source": [
    "def check_is_admin(f):\n",
    "    def wrapper(*args, **kwargs):\n",
    "        if kwargs['username'] != 'admin':\n",
    "            raise Exception(\"User not allowed.\")\n",
    "        return f(*args, **kwargs)    \n",
    "        \n",
    "    return wrapper\n",
    "\n",
    "class Store(object):\n",
    "    \n",
    "    @check_is_admin\n",
    "    def get_food(self, username, food):\n",
    "        return {}\n",
    "    \n",
    "    @check_is_admin\n",
    "    def put_food(self, username, food):\n",
    "        return\n",
    "\n",
    "\n",
    "# Everything is fine. User is admin. No exeception will be raised.\n",
    "Store().get_food(username=\"admin\", food=[])"
   ]
  },
  {
   "cell_type": "code",
   "execution_count": 122,
   "metadata": {},
   "outputs": [
    {
     "ename": "Exception",
     "evalue": "User not allowed.",
     "output_type": "error",
     "traceback": [
      "\u001b[0;31m---------------------------------------------------------------------------\u001b[0m",
      "\u001b[0;31mException\u001b[0m                                 Traceback (most recent call last)",
      "\u001b[0;32m<ipython-input-122-977376e945f1>\u001b[0m in \u001b[0;36m<module>\u001b[0;34m\u001b[0m\n\u001b[1;32m      1\u001b[0m \u001b[0;31m# Line below will raise exception\u001b[0m\u001b[0;34m\u001b[0m\u001b[0;34m\u001b[0m\u001b[0;34m\u001b[0m\u001b[0m\n\u001b[0;32m----> 2\u001b[0;31m \u001b[0mStore\u001b[0m\u001b[0;34m(\u001b[0m\u001b[0;34m)\u001b[0m\u001b[0;34m.\u001b[0m\u001b[0mget_food\u001b[0m\u001b[0;34m(\u001b[0m\u001b[0musername\u001b[0m\u001b[0;34m=\u001b[0m\u001b[0;34m\"normaluser\"\u001b[0m\u001b[0;34m,\u001b[0m \u001b[0mfood\u001b[0m\u001b[0;34m=\u001b[0m\u001b[0;34m[\u001b[0m\u001b[0;34m]\u001b[0m\u001b[0;34m)\u001b[0m\u001b[0;34m\u001b[0m\u001b[0;34m\u001b[0m\u001b[0m\n\u001b[0m",
      "\u001b[0;32m<ipython-input-121-918703f2fce7>\u001b[0m in \u001b[0;36mwrapper\u001b[0;34m(*args, **kwargs)\u001b[0m\n\u001b[1;32m      2\u001b[0m     \u001b[0;32mdef\u001b[0m \u001b[0mwrapper\u001b[0m\u001b[0;34m(\u001b[0m\u001b[0;34m*\u001b[0m\u001b[0margs\u001b[0m\u001b[0;34m,\u001b[0m \u001b[0;34m**\u001b[0m\u001b[0mkwargs\u001b[0m\u001b[0;34m)\u001b[0m\u001b[0;34m:\u001b[0m\u001b[0;34m\u001b[0m\u001b[0;34m\u001b[0m\u001b[0m\n\u001b[1;32m      3\u001b[0m         \u001b[0;32mif\u001b[0m \u001b[0mkwargs\u001b[0m\u001b[0;34m[\u001b[0m\u001b[0;34m'username'\u001b[0m\u001b[0;34m]\u001b[0m \u001b[0;34m!=\u001b[0m \u001b[0;34m'admin'\u001b[0m\u001b[0;34m:\u001b[0m\u001b[0;34m\u001b[0m\u001b[0;34m\u001b[0m\u001b[0m\n\u001b[0;32m----> 4\u001b[0;31m             \u001b[0;32mraise\u001b[0m \u001b[0mException\u001b[0m\u001b[0;34m(\u001b[0m\u001b[0;34m\"User not allowed.\"\u001b[0m\u001b[0;34m)\u001b[0m\u001b[0;34m\u001b[0m\u001b[0;34m\u001b[0m\u001b[0m\n\u001b[0m\u001b[1;32m      5\u001b[0m         \u001b[0;32mreturn\u001b[0m \u001b[0mf\u001b[0m\u001b[0;34m(\u001b[0m\u001b[0;34m*\u001b[0m\u001b[0margs\u001b[0m\u001b[0;34m,\u001b[0m \u001b[0;34m**\u001b[0m\u001b[0mkwargs\u001b[0m\u001b[0;34m)\u001b[0m\u001b[0;34m\u001b[0m\u001b[0;34m\u001b[0m\u001b[0m\n\u001b[1;32m      6\u001b[0m \u001b[0;34m\u001b[0m\u001b[0m\n",
      "\u001b[0;31mException\u001b[0m: User not allowed."
     ]
    }
   ],
   "source": [
    "# Line below will raise exception\n",
    "Store().get_food(username=\"normaluser\", food=[])"
   ]
  },
  {
   "cell_type": "markdown",
   "metadata": {},
   "source": [
    "### Solution"
   ]
  },
  {
   "cell_type": "code",
   "execution_count": 123,
   "metadata": {},
   "outputs": [
    {
     "name": "stdout",
     "output_type": "stream",
     "text": [
      "Called get_food (Store(),) {'username': 'admin', 'food': []}\n",
      "Called get_food (Store(),) {'username': 'normaluser', 'food': []}\n"
     ]
    },
    {
     "data": {
      "text/plain": [
       "{}"
      ]
     },
     "execution_count": 123,
     "metadata": {},
     "output_type": "execute_result"
    }
   ],
   "source": [
    "def log(f):\n",
    "    def wrapper(*args, **kwargs):\n",
    "        print(f\"Called {f.__name__} {args} {kwargs}\")\n",
    "        return f(*args, **kwargs)    \n",
    "        \n",
    "    return wrapper\n",
    "\n",
    "class Store(object):\n",
    "    \n",
    "    @log\n",
    "    def get_food(self, username, food):\n",
    "        return {}\n",
    "    \n",
    "    @log\n",
    "    def put_food(self, username, food):\n",
    "        return\n",
    "    \n",
    "    def __repr__(self):\n",
    "        return f\"Store()\"\n",
    "\n",
    "\n",
    "# Everything is fine. User is admin. No exeception will be raised.\n",
    "Store().get_food(username=\"admin\", food=[])\n",
    "# Line below will raise exception\n",
    "Store().get_food(username=\"normaluser\", food=[])"
   ]
  },
  {
   "cell_type": "markdown",
   "metadata": {},
   "source": [
    "## Task 7: counting using dictionaries\n",
    "\n",
    "### Task\n",
    "\n",
    "Create a function that takes in a list of names (strings) and creates a dictionary where:\n",
    "\n",
    "1. keys a are lengths of the names\n",
    "1. values are list of all names that have the same length\n",
    "\n",
    "Example. For following names list:\n",
    "\n",
    "`['John', 'Johnny', 'Kate', 'Chris', 'Mike', 'Anna', 'Jon', 'Lex']`\n",
    "\n",
    "the following dictionary should be returned:\n",
    "\n",
    "`{ 3 : ['Jon',  'Lex'], 4 : ['John', 'Kate', Mike', 'Anna'], 5 : ['Chris'], 6 : ['Johnny']}`\n",
    "\n",
    "**BONUS:** what is a simpler way to implement it?\n",
    "\n",
    "### Solution"
   ]
  },
  {
   "cell_type": "code",
   "execution_count": 124,
   "metadata": {},
   "outputs": [],
   "source": [
    "names_list = ['John', 'Johnny', 'Kate', 'Chris', 'Mike', 'Anna', 'Jon', 'Lex']"
   ]
  },
  {
   "cell_type": "code",
   "execution_count": 125,
   "metadata": {},
   "outputs": [
    {
     "ename": "NameError",
     "evalue": "name 'pprint' is not defined",
     "output_type": "error",
     "traceback": [
      "\u001b[0;31m---------------------------------------------------------------------------\u001b[0m",
      "\u001b[0;31mNameError\u001b[0m                                 Traceback (most recent call last)",
      "\u001b[0;32m<ipython-input-125-963085a91867>\u001b[0m in \u001b[0;36m<module>\u001b[0;34m\u001b[0m\n\u001b[1;32m      6\u001b[0m         \u001b[0md\u001b[0m\u001b[0;34m[\u001b[0m\u001b[0mkey\u001b[0m\u001b[0;34m]\u001b[0m\u001b[0;34m.\u001b[0m\u001b[0mappend\u001b[0m\u001b[0;34m(\u001b[0m\u001b[0mn\u001b[0m\u001b[0;34m)\u001b[0m\u001b[0;34m\u001b[0m\u001b[0;34m\u001b[0m\u001b[0m\n\u001b[1;32m      7\u001b[0m     \u001b[0;32mreturn\u001b[0m \u001b[0md\u001b[0m\u001b[0;34m\u001b[0m\u001b[0;34m\u001b[0m\u001b[0m\n\u001b[0;32m----> 8\u001b[0;31m \u001b[0mpprint\u001b[0m\u001b[0;34m(\u001b[0m\u001b[0mcd\u001b[0m\u001b[0;34m(\u001b[0m\u001b[0mnames_list\u001b[0m\u001b[0;34m)\u001b[0m\u001b[0;34m)\u001b[0m\u001b[0;34m\u001b[0m\u001b[0;34m\u001b[0m\u001b[0m\n\u001b[0m",
      "\u001b[0;31mNameError\u001b[0m: name 'pprint' is not defined"
     ]
    }
   ],
   "source": [
    "from collections import defaultdict\n",
    "def cd(L):\n",
    "    d = defaultdict(list)\n",
    "    for n in L:\n",
    "        key = len(n)\n",
    "        d[key].append(n)\n",
    "    return d\n",
    "pprint(cd(names_list))"
   ]
  },
  {
   "cell_type": "markdown",
   "metadata": {},
   "source": [
    "## Task 8: utility classes, fuctional programming, named tuples\n",
    "\n",
    "### Task\n",
    "\n",
    "Create a class called utils that has 3 methods:\n",
    "\n",
    "1. Method `contains_zero` which takes list as input, and returns `True` if there is a value in the list that is considered zero.\n",
    "\n",
    "2. Method `first_letters_up` which takes list of strings as input, and return a list of the same strings, but with first letter of each word in upper-case, e.g.\n",
    "\n",
    "Input: `['anna kalinowska', 'robert rachwal']`\n",
    "\n",
    "Result: `['Anna Kalinowska', 'Rober Rachwal']`\n",
    "\n",
    "3. Method `name_the_tuple` which takes two parameters: a tuple as first and a list of strings as second. It should return named tuple object with content of tuple and fields sames from string list.\n",
    "\n",
    "\n",
    "### Helpful: namedtuple usage\n",
    "\n",
    "Example namedtuple definition and usage:\n",
    "\n",
    "Person = namedtuple('Person', ['name', 'age', 'gender'])\n",
    "p = Person(\"John\", 33, \"male\")\n",
    "\n",
    "### Solution\n",
    "\n"
   ]
  },
  {
   "cell_type": "code",
   "execution_count": 126,
   "metadata": {},
   "outputs": [],
   "source": [
    "from collections import namedtuple\n",
    "class Utils(object):\n",
    "    \n",
    "    def contains_zero(self, ll):\n",
    "        return not all(ll)\n",
    "    \n",
    "    def first_letter_up(self, strlist):\n",
    "        return [s.title() for s in strlist]\n",
    "    \n",
    "    def name_the_tuple(self, data, attr_names):\n",
    "        tt = namedtuple('tt', attr_names)\n",
    "        return tt(*data)"
   ]
  },
  {
   "cell_type": "code",
   "execution_count": 127,
   "metadata": {},
   "outputs": [
    {
     "name": "stdout",
     "output_type": "stream",
     "text": [
      "True\n",
      "False\n"
     ]
    }
   ],
   "source": [
    "L1 = [1,1,1,1,\"\"]\n",
    "print(Utils().contains_zero(L1))\n",
    "L2 = [1,1,1,1,\"1\"]\n",
    "print(Utils().contains_zero(L2))"
   ]
  },
  {
   "cell_type": "code",
   "execution_count": 128,
   "metadata": {},
   "outputs": [
    {
     "name": "stdout",
     "output_type": "stream",
     "text": [
      "['Anna Kalinowska', 'Robert Rachwal']\n"
     ]
    }
   ],
   "source": [
    "L3 = ['anna kalinowska', 'robert rachwal']\n",
    "print(Utils().first_letter_up(L3))"
   ]
  },
  {
   "cell_type": "code",
   "execution_count": 129,
   "metadata": {},
   "outputs": [
    {
     "name": "stdout",
     "output_type": "stream",
     "text": [
      "tt(name='Anna', last_name='Kalinowska')\n",
      "Anna\n",
      "Kalinowska\n"
     ]
    }
   ],
   "source": [
    "the_tuple = Utils().name_the_tuple(('Anna', 'Kalinowska'), (\"name\", \"last_name\"))\n",
    "print(the_tuple)\n",
    "print(the_tuple.name)\n",
    "print(the_tuple.last_name)"
   ]
  },
  {
   "cell_type": "markdown",
   "metadata": {},
   "source": [
    "## Task 9: sets and finding unique values\n",
    "\n",
    "### Task\n",
    "\n",
    "Create a function to find unique values in dictionary.\n",
    "\n",
    "For input:\n",
    "\n",
    "`{1: \"a\", 2: \"b\", 3:\"a\"}`\n",
    "\n",
    "The result output should be:\n",
    "\n",
    "`[\"a\", \"b\"]`\n",
    "\n",
    "### Solution\n",
    "\n"
   ]
  },
  {
   "cell_type": "markdown",
   "metadata": {},
   "source": [
    "Most intuitive soltion (step by step):"
   ]
  },
  {
   "cell_type": "code",
   "execution_count": 130,
   "metadata": {},
   "outputs": [
    {
     "data": {
      "text/plain": [
       "['a', 'b']"
      ]
     },
     "execution_count": 130,
     "metadata": {},
     "output_type": "execute_result"
    }
   ],
   "source": [
    "def unique_values(dd):\n",
    "    unique_values_list = []\n",
    "    \n",
    "    for v in dd.values():\n",
    "        if not v in unique_values_list:\n",
    "            unique_values_list.append(v)\n",
    "            \n",
    "    return unique_values_list\n",
    "\n",
    "dd = {1: \"a\", 2: \"b\", 3:\"a\"}\n",
    "unique_values(dd)"
   ]
  },
  {
   "cell_type": "markdown",
   "metadata": {},
   "source": [
    "Much shorter version using `set` as core structure. In sets there are not duplicates. Whenever you have to find unique values, check whether sets might help you."
   ]
  },
  {
   "cell_type": "code",
   "execution_count": 131,
   "metadata": {},
   "outputs": [
    {
     "data": {
      "text/plain": [
       "{'a', 'b'}"
      ]
     },
     "execution_count": 131,
     "metadata": {},
     "output_type": "execute_result"
    }
   ],
   "source": [
    "def unique_values2(dd):\n",
    "    return set(dd.values())\n",
    "\n",
    "dd = {1: \"a\", 2: \"b\", 3:\"a\"}\n",
    "unique_values2(dd)"
   ]
  },
  {
   "cell_type": "markdown",
   "metadata": {},
   "source": [
    "### Helpful: sets usage"
   ]
  },
  {
   "cell_type": "code",
   "execution_count": 132,
   "metadata": {},
   "outputs": [],
   "source": [
    "A = {'a', 'b'}"
   ]
  },
  {
   "cell_type": "code",
   "execution_count": 133,
   "metadata": {},
   "outputs": [],
   "source": [
    "B = {'a', 'b', 'c'}"
   ]
  },
  {
   "cell_type": "code",
   "execution_count": 134,
   "metadata": {},
   "outputs": [],
   "source": [
    "C = B - A"
   ]
  },
  {
   "cell_type": "code",
   "execution_count": 135,
   "metadata": {},
   "outputs": [
    {
     "name": "stdout",
     "output_type": "stream",
     "text": [
      "{'c'}\n"
     ]
    }
   ],
   "source": [
    "print(C)"
   ]
  },
  {
   "cell_type": "markdown",
   "metadata": {},
   "source": [
    "## Task 10: sets used for input validation\n",
    "\n",
    "### Task\n",
    "\n",
    "Implement function has_invalid_fields that take list of strings as input. It should return `True` if there are parametrs other than:\n",
    "\n",
    "`['name', 'id', 'age']` \n",
    "\n",
    "Return `False` otherwise. Which will mean that there are only above mentioned strings on the list.\n",
    "\n",
    "Example input:\n",
    "\n",
    "`['name', 'name', 'id', 'age', 'name', 'id', 'dummy']`\n",
    "\n",
    "Result: `True`\n",
    "    \n",
    "### Solution    "
   ]
  },
  {
   "cell_type": "code",
   "execution_count": 136,
   "metadata": {},
   "outputs": [],
   "source": [
    "def has_invalid_fields(fields):\n",
    "    return bool(set(fields) - set(['name', 'id', 'age']))"
   ]
  },
  {
   "cell_type": "code",
   "execution_count": 137,
   "metadata": {},
   "outputs": [
    {
     "data": {
      "text/plain": [
       "True"
      ]
     },
     "execution_count": 137,
     "metadata": {},
     "output_type": "execute_result"
    }
   ],
   "source": [
    "has_invalid_fields(['name', 'name', 'id', 'age', 'name', 'id', 'dummy'])"
   ]
  },
  {
   "cell_type": "code",
   "execution_count": 138,
   "metadata": {},
   "outputs": [
    {
     "data": {
      "text/plain": [
       "False"
      ]
     },
     "execution_count": 138,
     "metadata": {},
     "output_type": "execute_result"
    }
   ],
   "source": [
    "has_invalid_fields(['name', 'name', 'id', 'age', 'name', 'id'])"
   ]
  },
  {
   "cell_type": "markdown",
   "metadata": {},
   "source": [
    "## Task 11: sanitazing text file\n",
    "\n",
    "### Task\n",
    "\n",
    "Get rid of all whitespace characters (spaces, tabs, newlines, etc.) in a file to reveal a message. Print it out as one line.\n",
    "\n",
    "File to download (use 'Save Page As...' in Browser 'File' menu): https://raw.githubusercontent.com/infoshareacademy/py-ubs1/master/labs/files/msg.txt\n",
    "\n",
    "### Helpful: opening file and read from it"
   ]
  },
  {
   "cell_type": "code",
   "execution_count": 139,
   "metadata": {},
   "outputs": [
    {
     "name": "stdout",
     "output_type": "stream",
     "text": [
      "['13.13121\\n', '1.31331  \\n', '13.21\\n', '131.3131\\n', '444.111\\n', '12313.23']\n"
     ]
    }
   ],
   "source": [
    "with open('files/base.txt') as file_object:\n",
    "    lines = file_object.readlines()\n",
    "    print(lines)"
   ]
  },
  {
   "cell_type": "markdown",
   "metadata": {},
   "source": [
    "### Helpful: getting rid of whitespaces"
   ]
  },
  {
   "cell_type": "code",
   "execution_count": 140,
   "metadata": {},
   "outputs": [
    {
     "name": "stdout",
     "output_type": "stream",
     "text": [
      "Original lines:\n",
      "['    13.13121     \\t\\n', '\\n', '\\n', '\\n', '\\n', '      1.31331  \\n', '    13.21\\n', '\\t\\t\\t131.3131\\n', '\\n', '      444.111\\n', '\\n', '   12313.23']\n",
      "Modified lines\n",
      "['13.13121', '', '', '', '', '1.31331', '13.21', '131.3131', '', '444.111', '', '12313.23']\n",
      "Modified lines joined into one string with multiple lines:\n",
      "13.13121\n",
      "1.31331\n",
      "13.21\n",
      "131.3131\n",
      "444.111\n",
      "12313.23\n"
     ]
    }
   ],
   "source": [
    "with open('files/base2.txt') as file_object:\n",
    "    lines = file_object.readlines()\n",
    "    print(\"Original lines:\")\n",
    "    print(lines)\n",
    "    \n",
    "    new_lines = [l.strip() for l in lines]\n",
    "    print(\"Modified lines\")\n",
    "    print(new_lines)\n",
    "    \n",
    "    print(\"Modified lines joined into one string with multiple lines:\")\n",
    "    print(\"\\n\".join([l for l in new_lines if l]))"
   ]
  },
  {
   "cell_type": "markdown",
   "metadata": {},
   "source": [
    "### Solution"
   ]
  },
  {
   "cell_type": "code",
   "execution_count": 141,
   "metadata": {},
   "outputs": [
    {
     "name": "stdout",
     "output_type": "stream",
     "text": [
      "MerryChristmas!!\n"
     ]
    }
   ],
   "source": [
    "with open('files/msg.txt') as file_object:\n",
    "    lines = file_object.readlines()    \n",
    "    new_lines = [l.strip() for l in lines]\n",
    "    \n",
    "    msg = \"\".join([l for l in new_lines if l])\n",
    "    print(msg)"
   ]
  },
  {
   "cell_type": "markdown",
   "metadata": {},
   "source": [
    "## Task 12\n",
    "\n",
    "### Task\n",
    "List for counters for words present in the file. What are the 10 most popular words?\n",
    "\n",
    "File to process: https://raw.githubusercontent.com/infoshareacademy/py-ubs1/master/labs/files/pg28198.txt\n",
    "\n",
    "### Helpful: replacing characters in strings"
   ]
  },
  {
   "cell_type": "code",
   "execution_count": 142,
   "metadata": {},
   "outputs": [
    {
     "name": "stdout",
     "output_type": "stream",
     "text": [
      "MerryChristmas!!\n",
      "MerryChristmas.\n",
      "MerryChristmas!!\n",
      "MerryChristmas\n",
      "MerryChristmas\n"
     ]
    }
   ],
   "source": [
    "print(msg)\n",
    "print(msg.replace(\"!!\", \".\"))\n",
    "print(msg.replace(\"!!!\", \".\"))\n",
    "print(msg.replace(\"!\", \"\"))\n",
    "import string\n",
    "print((msg+\"     .\").strip(string.whitespace + \".!\"))"
   ]
  },
  {
   "cell_type": "markdown",
   "metadata": {},
   "source": [
    "### Solution"
   ]
  },
  {
   "cell_type": "code",
   "execution_count": 143,
   "metadata": {},
   "outputs": [
    {
     "name": "stdout",
     "output_type": "stream",
     "text": [
      "[('the', 5021), ('and', 3489), ('to', 2236), ('of', 2084), ('a', 2034), ('in', 1478), ('he', 1288), ('was', 1271), ('it', 1179), ('i', 1049)]\n"
     ]
    }
   ],
   "source": [
    "from collections import defaultdict\n",
    "from operator import itemgetter\n",
    "with open(\"files/pg28198.txt\") as f:\n",
    "    lines = f.readlines()\n",
    "    d = defaultdict(int)\n",
    "    for line in lines:\n",
    "        for c in \"\".join((string.punctuation,\n",
    "                          string.digits,\n",
    "                          '\\ufeff')):\n",
    "            line = line.replace(c, \"\")\n",
    "            \n",
    "    \n",
    "        for word in line.split():\n",
    "            word = word.strip().lower()\n",
    "            d[word] += 1\n",
    "            \n",
    "    print(sorted(list(d.items()),\n",
    "                 reverse=True,\n",
    "                 key=itemgetter(1))[:10])   "
   ]
  },
  {
   "cell_type": "markdown",
   "metadata": {},
   "source": [
    "### Solution: using specialized `Counter` collection"
   ]
  },
  {
   "cell_type": "code",
   "execution_count": 144,
   "metadata": {},
   "outputs": [
    {
     "name": "stdout",
     "output_type": "stream",
     "text": [
      "[('the', 5021), ('and', 3489), ('to', 2236), ('of', 2084), ('a', 2034), ('in', 1478), ('he', 1288), ('was', 1271), ('it', 1179), ('i', 1049)]\n"
     ]
    }
   ],
   "source": [
    "from collections import Counter\n",
    "from operator import itemgetter\n",
    "with open(\"files/pg28198.txt\") as f:\n",
    "    lines = f.readlines()\n",
    "    d = Counter()\n",
    "    for line in lines:\n",
    "        for c in \"\".join((string.punctuation,\n",
    "                          string.digits,\n",
    "                          '\\ufeff')):\n",
    "            line = line.replace(c, \"\")\n",
    "            \n",
    "    \n",
    "        for word in line.split():\n",
    "            word = word.strip().lower()\n",
    "            d[word] += 1\n",
    "            \n",
    "    print(d.most_common(10))"
   ]
  },
  {
   "cell_type": "markdown",
   "metadata": {},
   "source": [
    "## Task 13\n",
    "\n",
    "### Task\n",
    "Based on the same file as in the previous task. File to process: https://raw.githubusercontent.com/infoshareacademy/py-ubs1/master/labs/files/pg28198.txt\n",
    "\n",
    "Get some additional info:\n",
    "\n",
    "1. What's the number of unique words?\n",
    "2. What's the most popular word that ends a sentence?\n",
    "3. What's the longest sentence in text?\n",
    "4. What's the most popular pair of words?\n",
    "\n",
    "### Helpful: characters replacements with translation table"
   ]
  },
  {
   "cell_type": "code",
   "execution_count": 145,
   "metadata": {},
   "outputs": [
    {
     "name": "stdout",
     "output_type": "stream",
     "text": [
      "!\"#$%&'()*+,-./:;<=>?@[\\]^_`{|}~\n"
     ]
    }
   ],
   "source": [
    "import string\n",
    "print(string.punctuation)"
   ]
  },
  {
   "cell_type": "code",
   "execution_count": 146,
   "metadata": {},
   "outputs": [],
   "source": [
    "line = \"Hello! bunny@storez.com That's really $$$ and ####\""
   ]
  },
  {
   "cell_type": "markdown",
   "metadata": {},
   "source": [
    "Translation table store information on which character should be substituted and with what. However, character are identified by their ordinal value (a number which represents this character, instead of character itself). Thus we must use `ord` function to unique this ordinal value, e.g.:"
   ]
  },
  {
   "cell_type": "code",
   "execution_count": 147,
   "metadata": {},
   "outputs": [
    {
     "data": {
      "text/plain": [
       "33"
      ]
     },
     "execution_count": 147,
     "metadata": {},
     "output_type": "execute_result"
    }
   ],
   "source": [
    "ord('!')"
   ]
  },
  {
   "cell_type": "markdown",
   "metadata": {},
   "source": [
    "Creating translation table from a string with characters to be removed:"
   ]
  },
  {
   "cell_type": "code",
   "execution_count": 148,
   "metadata": {},
   "outputs": [
    {
     "name": "stdout",
     "output_type": "stream",
     "text": [
      "{33: None, 34: None, 35: None, 36: None, 37: None, 38: None, 39: None, 40: None, 41: None, 42: None, 43: None, 44: None, 45: None, 46: None, 47: None, 58: None, 59: None, 60: None, 61: None, 62: None, 63: None, 64: None, 91: None, 92: None, 93: None, 94: None, 95: None, 96: None, 123: None, 124: None, 125: None, 126: None}\n"
     ]
    }
   ],
   "source": [
    "trans_table = dict.fromkeys(map(ord, string.punctuation), None)\n",
    "print(trans_table)"
   ]
  },
  {
   "cell_type": "markdown",
   "metadata": {},
   "source": [
    "Using the translation table:"
   ]
  },
  {
   "cell_type": "code",
   "execution_count": 149,
   "metadata": {},
   "outputs": [
    {
     "name": "stdout",
     "output_type": "stream",
     "text": [
      "Hello bunnystorezcom Thats really  and \n"
     ]
    }
   ],
   "source": [
    "line = line.translate(trans_table)\n",
    "print(line)"
   ]
  },
  {
   "cell_type": "markdown",
   "metadata": {},
   "source": [
    "Helpful: using `re` module to replace characters"
   ]
  },
  {
   "cell_type": "code",
   "execution_count": 150,
   "metadata": {},
   "outputs": [
    {
     "name": "stdout",
     "output_type": "stream",
     "text": [
      "Hello bunnystorez.com Thats really  and \n"
     ]
    }
   ],
   "source": [
    "import re\n",
    "\n",
    "line = \"Hello! bunny@storez.com That's really $$$ and ####\"\n",
    "line = re.sub('[!@#\\'$]', '', line)\n",
    "print(line)"
   ]
  },
  {
   "cell_type": "markdown",
   "metadata": {},
   "source": [
    "### Solution"
   ]
  },
  {
   "cell_type": "code",
   "execution_count": 151,
   "metadata": {},
   "outputs": [
    {
     "name": "stdout",
     "output_type": "stream",
     "text": [
      "[('it', 146), ('him', 107), ('Mrs', 84), ('me', 81), ('her', 77), ('you', 65), ('Mr', 61), ('Scrooge', 54), ('again', 47), ('said', 38)]\n"
     ]
    }
   ],
   "source": [
    "import string\n",
    "import re\n",
    "from collections import defaultdict\n",
    "from operator import itemgetter\n",
    "trans_table = dict.fromkeys(map(ord, string.punctuation+string.digits), None)\n",
    "\n",
    "with open(\"files/pg28198.txt\") as f:\n",
    "    lines = f.read()\n",
    "    \n",
    "    sentences = re.split('[\\!\\?\\.]', lines)\n",
    "    \n",
    "    d = defaultdict(int)\n",
    "    \n",
    "    for sentence in sentences:\n",
    "        sentence = sentence.translate(trans_table).strip()\n",
    "        if sentence:\n",
    "            word = sentence.split()[-1]\n",
    "            d[word] += 1\n",
    "    \n",
    "    print(sorted(list(d.items()), key=itemgetter(1), reverse=True)[:10])"
   ]
  },
  {
   "cell_type": "markdown",
   "metadata": {},
   "source": [
    "## Task 14: transforming text file into CSV file\n",
    "\n",
    "### Task\n",
    "\n",
    "Covert file `the_list.txt` into CSV format and save as new file (e.g.`the_list.csv`). Figure out what is the number of columns and how are they named.\n",
    "\n",
    "File: https://raw.githubusercontent.com/infoshareacademy/py-ubs1/master/labs/files/the_list.txt\n",
    "\n",
    "### Solution\n",
    "\n"
   ]
  },
  {
   "cell_type": "code",
   "execution_count": 152,
   "metadata": {},
   "outputs": [
    {
     "name": "stdout",
     "output_type": "stream",
     "text": [
      "User name,Email,Score,Group Name\n",
      "John Kerry,john.kerry@santaswarehouse.com,3,Group 3\n",
      "Clickety Click,ckekek.click@santaswarehouse.com,4,Group 3\n",
      "Jack Jackly,jack.jackly@santaswarehouse.com,4,Group 3\n",
      "Ducky Duck,ducky.duck@santaswarehouse.com,5,Group 3\n",
      "Sporty Rusty,sporty.rusty@santaswarehouse.com,6,Group 3\n",
      "Gigelly Goon,gigelly.goon@santaswarehouse.com,7,Group 3\n",
      "Trouble Thrumpet,trouble.thrumpet@santaswarehouse.com,8,Group 3\n",
      "Gal Gally,gal.gally@santaswarehouse.com,8,Group 3\n",
      "Funny Fonny,funny.fonny@santaswarehouse.com,8,Group 3\n",
      "Adam Abacus,adam.abacus@santaswarehouse.com,8,Group 3\n",
      "Quicky Quiver,quicky.quiver@santaswarehouse.com,9,Group 3\n",
      "Roman Romanov,roman.romanov@santaswarehouse.com,10,Group 3\n",
      "Greedy Garlic,greedy.garlic@santaswarehouse.com,8,Group 4\n",
      "Creative Carl,creative.karl@santaswarehouse.com,8,Group 4\n",
      "Monty Mount,monty.mount@santaswarehouse.com,9,Group 4\n",
      "General Glass,general.glass@santaswarehouse.com,9,Group 4\n",
      "Lonely Lucker,lonely.lucker@santaswarehouse.com,11,Group 4\n",
      "Triple Trouble,jack.jackly@santaswarehouse.com,11,Group 4\n",
      "Granty Grant,granty.brant@santaswarehouse.com,12,Group 4\n",
      "Gideon Gerry,gideon.gerry@santaswarehouse.com,12,Group 4\n",
      "Zooper Zack,zooper.zack@santaswarehouse.com,12,Group 4\n",
      "Horsly Hat,horsly.hat@santaswarehouse.com,12,Group 4\n",
      "Tricky Track,tricky.track@santaswarehouse.com,12,Group 4\n",
      "Planty Plum,planty.plum@santaswarehouse.com,13,Group 4\n"
     ]
    }
   ],
   "source": [
    "with open(\"files/the_list.txt\") as f, open(\"files/the_list.csv\", \"w\") as f_out:\n",
    "    lines = f.readlines()\n",
    "    lines = [line.strip() for line in lines]\n",
    "    \n",
    "    \n",
    "    rows = \"\\n\".join([\",\".join(lines[i:i+4]) for i in range(0, len(lines), 4)])\n",
    "    \n",
    "    print(rows)\n",
    "    \n",
    "    f_out.write(rows)"
   ]
  },
  {
   "cell_type": "markdown",
   "metadata": {},
   "source": [
    "## Task 15: data manipulation and analysis using *Pandas* library\n",
    "\n",
    "\n",
    "CSV file to process (this is the same CSV as the on generated in previous task): https://github.com/infoshareacademy/py-ubs1/blob/master/labs/files/the_list.csv\n",
    "        \n",
    "0. Read CSV file you've created in previous task.\n",
    "1. Add column `magic` to `DataFrame` with random numbers from normal distribution.\n",
    "2. Add `4` to every `Score` and multiply it by `5`. The result should be stored in the same column. Use transformation here.\n",
    "3. Create column `percent` and insert `Score` column value there divided by `100`.\n",
    "4. What's the average `Score` in `Group 4`?\n",
    "\n",
    "\n",
    "\n",
    "**BONUS tasks:**\n",
    "\n",
    "5. Add additional column called `AltGroup` with random values for each row. The values should be strings from the following list:\n",
    "\n",
    "```\n",
    "Runners\n",
    "Cooks\n",
    "Hikers\n",
    "```\n",
    "\n",
    "6. Get average, min and max values of `Score` and `Magic Score` columns for each combination of `Group Name` and `AltGroup` column.\n",
    "\n",
    "Example result for one combination:\n",
    "```\n",
    "                      Score        Magic Score\n",
    "Group 3    Cooks      8.000000     9.525938\n",
    "```\n",
    "\n",
    "7.  Change values in column `Group Name` from \n",
    "\n",
    "```\n",
    "Group 1, Group 2, ...\n",
    "```\n",
    "to\n",
    "```\n",
    "G.01, G.02, ...\n",
    "```"
   ]
  },
  {
   "cell_type": "markdown",
   "metadata": {},
   "source": [
    "### Helpful: example data reading, processing and analysis using *NumPy* and *Pandas*"
   ]
  },
  {
   "cell_type": "code",
   "execution_count": 153,
   "metadata": {},
   "outputs": [],
   "source": [
    "import numpy as np\n",
    "import pandas as pd"
   ]
  },
  {
   "cell_type": "code",
   "execution_count": 154,
   "metadata": {},
   "outputs": [],
   "source": [
    "df = pd.read_csv('files/the_list.csv')"
   ]
  },
  {
   "cell_type": "code",
   "execution_count": 155,
   "metadata": {},
   "outputs": [
    {
     "data": {
      "text/html": [
       "<div>\n",
       "<style scoped>\n",
       "    .dataframe tbody tr th:only-of-type {\n",
       "        vertical-align: middle;\n",
       "    }\n",
       "\n",
       "    .dataframe tbody tr th {\n",
       "        vertical-align: top;\n",
       "    }\n",
       "\n",
       "    .dataframe thead th {\n",
       "        text-align: right;\n",
       "    }\n",
       "</style>\n",
       "<table border=\"1\" class=\"dataframe\">\n",
       "  <thead>\n",
       "    <tr style=\"text-align: right;\">\n",
       "      <th></th>\n",
       "      <th>User name</th>\n",
       "      <th>Email</th>\n",
       "      <th>Score</th>\n",
       "      <th>Group Name</th>\n",
       "    </tr>\n",
       "  </thead>\n",
       "  <tbody>\n",
       "    <tr>\n",
       "      <th>0</th>\n",
       "      <td>John Kerry</td>\n",
       "      <td>john.kerry@santaswarehouse.com</td>\n",
       "      <td>3</td>\n",
       "      <td>Group 3</td>\n",
       "    </tr>\n",
       "    <tr>\n",
       "      <th>1</th>\n",
       "      <td>Clickety Click</td>\n",
       "      <td>ckekek.click@santaswarehouse.com</td>\n",
       "      <td>4</td>\n",
       "      <td>Group 3</td>\n",
       "    </tr>\n",
       "    <tr>\n",
       "      <th>2</th>\n",
       "      <td>Jack Jackly</td>\n",
       "      <td>jack.jackly@santaswarehouse.com</td>\n",
       "      <td>4</td>\n",
       "      <td>Group 3</td>\n",
       "    </tr>\n",
       "    <tr>\n",
       "      <th>3</th>\n",
       "      <td>Ducky Duck</td>\n",
       "      <td>ducky.duck@santaswarehouse.com</td>\n",
       "      <td>5</td>\n",
       "      <td>Group 3</td>\n",
       "    </tr>\n",
       "    <tr>\n",
       "      <th>4</th>\n",
       "      <td>Sporty Rusty</td>\n",
       "      <td>sporty.rusty@santaswarehouse.com</td>\n",
       "      <td>6</td>\n",
       "      <td>Group 3</td>\n",
       "    </tr>\n",
       "    <tr>\n",
       "      <th>5</th>\n",
       "      <td>Gigelly Goon</td>\n",
       "      <td>gigelly.goon@santaswarehouse.com</td>\n",
       "      <td>7</td>\n",
       "      <td>Group 3</td>\n",
       "    </tr>\n",
       "    <tr>\n",
       "      <th>6</th>\n",
       "      <td>Trouble Thrumpet</td>\n",
       "      <td>trouble.thrumpet@santaswarehouse.com</td>\n",
       "      <td>8</td>\n",
       "      <td>Group 3</td>\n",
       "    </tr>\n",
       "    <tr>\n",
       "      <th>7</th>\n",
       "      <td>Gal Gally</td>\n",
       "      <td>gal.gally@santaswarehouse.com</td>\n",
       "      <td>8</td>\n",
       "      <td>Group 3</td>\n",
       "    </tr>\n",
       "    <tr>\n",
       "      <th>8</th>\n",
       "      <td>Funny Fonny</td>\n",
       "      <td>funny.fonny@santaswarehouse.com</td>\n",
       "      <td>8</td>\n",
       "      <td>Group 3</td>\n",
       "    </tr>\n",
       "    <tr>\n",
       "      <th>9</th>\n",
       "      <td>Adam Abacus</td>\n",
       "      <td>adam.abacus@santaswarehouse.com</td>\n",
       "      <td>8</td>\n",
       "      <td>Group 3</td>\n",
       "    </tr>\n",
       "    <tr>\n",
       "      <th>10</th>\n",
       "      <td>Quicky Quiver</td>\n",
       "      <td>quicky.quiver@santaswarehouse.com</td>\n",
       "      <td>9</td>\n",
       "      <td>Group 3</td>\n",
       "    </tr>\n",
       "    <tr>\n",
       "      <th>11</th>\n",
       "      <td>Roman Romanov</td>\n",
       "      <td>roman.romanov@santaswarehouse.com</td>\n",
       "      <td>10</td>\n",
       "      <td>Group 3</td>\n",
       "    </tr>\n",
       "    <tr>\n",
       "      <th>12</th>\n",
       "      <td>Greedy Garlic</td>\n",
       "      <td>greedy.garlic@santaswarehouse.com</td>\n",
       "      <td>8</td>\n",
       "      <td>Group 4</td>\n",
       "    </tr>\n",
       "    <tr>\n",
       "      <th>13</th>\n",
       "      <td>Creative Carl</td>\n",
       "      <td>creative.karl@santaswarehouse.com</td>\n",
       "      <td>8</td>\n",
       "      <td>Group 4</td>\n",
       "    </tr>\n",
       "    <tr>\n",
       "      <th>14</th>\n",
       "      <td>Monty Mount</td>\n",
       "      <td>monty.mount@santaswarehouse.com</td>\n",
       "      <td>9</td>\n",
       "      <td>Group 4</td>\n",
       "    </tr>\n",
       "    <tr>\n",
       "      <th>15</th>\n",
       "      <td>General Glass</td>\n",
       "      <td>general.glass@santaswarehouse.com</td>\n",
       "      <td>9</td>\n",
       "      <td>Group 4</td>\n",
       "    </tr>\n",
       "    <tr>\n",
       "      <th>16</th>\n",
       "      <td>Lonely Lucker</td>\n",
       "      <td>lonely.lucker@santaswarehouse.com</td>\n",
       "      <td>11</td>\n",
       "      <td>Group 4</td>\n",
       "    </tr>\n",
       "    <tr>\n",
       "      <th>17</th>\n",
       "      <td>Triple Trouble</td>\n",
       "      <td>jack.jackly@santaswarehouse.com</td>\n",
       "      <td>11</td>\n",
       "      <td>Group 4</td>\n",
       "    </tr>\n",
       "    <tr>\n",
       "      <th>18</th>\n",
       "      <td>Granty Grant</td>\n",
       "      <td>granty.brant@santaswarehouse.com</td>\n",
       "      <td>12</td>\n",
       "      <td>Group 4</td>\n",
       "    </tr>\n",
       "    <tr>\n",
       "      <th>19</th>\n",
       "      <td>Gideon Gerry</td>\n",
       "      <td>gideon.gerry@santaswarehouse.com</td>\n",
       "      <td>12</td>\n",
       "      <td>Group 4</td>\n",
       "    </tr>\n",
       "    <tr>\n",
       "      <th>20</th>\n",
       "      <td>Zooper Zack</td>\n",
       "      <td>zooper.zack@santaswarehouse.com</td>\n",
       "      <td>12</td>\n",
       "      <td>Group 4</td>\n",
       "    </tr>\n",
       "    <tr>\n",
       "      <th>21</th>\n",
       "      <td>Horsly Hat</td>\n",
       "      <td>horsly.hat@santaswarehouse.com</td>\n",
       "      <td>12</td>\n",
       "      <td>Group 4</td>\n",
       "    </tr>\n",
       "    <tr>\n",
       "      <th>22</th>\n",
       "      <td>Tricky Track</td>\n",
       "      <td>tricky.track@santaswarehouse.com</td>\n",
       "      <td>12</td>\n",
       "      <td>Group 4</td>\n",
       "    </tr>\n",
       "    <tr>\n",
       "      <th>23</th>\n",
       "      <td>Planty Plum</td>\n",
       "      <td>planty.plum@santaswarehouse.com</td>\n",
       "      <td>13</td>\n",
       "      <td>Group 4</td>\n",
       "    </tr>\n",
       "  </tbody>\n",
       "</table>\n",
       "</div>"
      ],
      "text/plain": [
       "           User name                                 Email  Score Group Name\n",
       "0         John Kerry        john.kerry@santaswarehouse.com      3    Group 3\n",
       "1     Clickety Click      ckekek.click@santaswarehouse.com      4    Group 3\n",
       "2        Jack Jackly       jack.jackly@santaswarehouse.com      4    Group 3\n",
       "3         Ducky Duck        ducky.duck@santaswarehouse.com      5    Group 3\n",
       "4       Sporty Rusty      sporty.rusty@santaswarehouse.com      6    Group 3\n",
       "5       Gigelly Goon      gigelly.goon@santaswarehouse.com      7    Group 3\n",
       "6   Trouble Thrumpet  trouble.thrumpet@santaswarehouse.com      8    Group 3\n",
       "7          Gal Gally         gal.gally@santaswarehouse.com      8    Group 3\n",
       "8        Funny Fonny       funny.fonny@santaswarehouse.com      8    Group 3\n",
       "9        Adam Abacus       adam.abacus@santaswarehouse.com      8    Group 3\n",
       "10     Quicky Quiver     quicky.quiver@santaswarehouse.com      9    Group 3\n",
       "11     Roman Romanov     roman.romanov@santaswarehouse.com     10    Group 3\n",
       "12     Greedy Garlic     greedy.garlic@santaswarehouse.com      8    Group 4\n",
       "13     Creative Carl     creative.karl@santaswarehouse.com      8    Group 4\n",
       "14       Monty Mount       monty.mount@santaswarehouse.com      9    Group 4\n",
       "15     General Glass     general.glass@santaswarehouse.com      9    Group 4\n",
       "16     Lonely Lucker     lonely.lucker@santaswarehouse.com     11    Group 4\n",
       "17    Triple Trouble       jack.jackly@santaswarehouse.com     11    Group 4\n",
       "18      Granty Grant      granty.brant@santaswarehouse.com     12    Group 4\n",
       "19      Gideon Gerry      gideon.gerry@santaswarehouse.com     12    Group 4\n",
       "20       Zooper Zack       zooper.zack@santaswarehouse.com     12    Group 4\n",
       "21        Horsly Hat        horsly.hat@santaswarehouse.com     12    Group 4\n",
       "22      Tricky Track      tricky.track@santaswarehouse.com     12    Group 4\n",
       "23       Planty Plum       planty.plum@santaswarehouse.com     13    Group 4"
      ]
     },
     "execution_count": 155,
     "metadata": {},
     "output_type": "execute_result"
    }
   ],
   "source": [
    "df"
   ]
  },
  {
   "cell_type": "code",
   "execution_count": 156,
   "metadata": {},
   "outputs": [
    {
     "data": {
      "text/html": [
       "<div>\n",
       "<style scoped>\n",
       "    .dataframe tbody tr th:only-of-type {\n",
       "        vertical-align: middle;\n",
       "    }\n",
       "\n",
       "    .dataframe tbody tr th {\n",
       "        vertical-align: top;\n",
       "    }\n",
       "\n",
       "    .dataframe thead th {\n",
       "        text-align: right;\n",
       "    }\n",
       "</style>\n",
       "<table border=\"1\" class=\"dataframe\">\n",
       "  <thead>\n",
       "    <tr style=\"text-align: right;\">\n",
       "      <th></th>\n",
       "      <th>Score</th>\n",
       "    </tr>\n",
       "  </thead>\n",
       "  <tbody>\n",
       "    <tr>\n",
       "      <th>count</th>\n",
       "      <td>24.000000</td>\n",
       "    </tr>\n",
       "    <tr>\n",
       "      <th>mean</th>\n",
       "      <td>8.708333</td>\n",
       "    </tr>\n",
       "    <tr>\n",
       "      <th>std</th>\n",
       "      <td>2.866283</td>\n",
       "    </tr>\n",
       "    <tr>\n",
       "      <th>min</th>\n",
       "      <td>3.000000</td>\n",
       "    </tr>\n",
       "    <tr>\n",
       "      <th>25%</th>\n",
       "      <td>7.750000</td>\n",
       "    </tr>\n",
       "    <tr>\n",
       "      <th>50%</th>\n",
       "      <td>8.500000</td>\n",
       "    </tr>\n",
       "    <tr>\n",
       "      <th>75%</th>\n",
       "      <td>11.250000</td>\n",
       "    </tr>\n",
       "    <tr>\n",
       "      <th>max</th>\n",
       "      <td>13.000000</td>\n",
       "    </tr>\n",
       "  </tbody>\n",
       "</table>\n",
       "</div>"
      ],
      "text/plain": [
       "           Score\n",
       "count  24.000000\n",
       "mean    8.708333\n",
       "std     2.866283\n",
       "min     3.000000\n",
       "25%     7.750000\n",
       "50%     8.500000\n",
       "75%    11.250000\n",
       "max    13.000000"
      ]
     },
     "execution_count": 156,
     "metadata": {},
     "output_type": "execute_result"
    }
   ],
   "source": [
    "df.describe()"
   ]
  },
  {
   "cell_type": "code",
   "execution_count": 157,
   "metadata": {},
   "outputs": [
    {
     "data": {
      "text/html": [
       "<div>\n",
       "<style scoped>\n",
       "    .dataframe tbody tr th:only-of-type {\n",
       "        vertical-align: middle;\n",
       "    }\n",
       "\n",
       "    .dataframe tbody tr th {\n",
       "        vertical-align: top;\n",
       "    }\n",
       "\n",
       "    .dataframe thead th {\n",
       "        text-align: right;\n",
       "    }\n",
       "</style>\n",
       "<table border=\"1\" class=\"dataframe\">\n",
       "  <thead>\n",
       "    <tr style=\"text-align: right;\">\n",
       "      <th></th>\n",
       "      <th>User name</th>\n",
       "      <th>Email</th>\n",
       "      <th>Score</th>\n",
       "      <th>Group Name</th>\n",
       "    </tr>\n",
       "  </thead>\n",
       "  <tbody>\n",
       "    <tr>\n",
       "      <th>0</th>\n",
       "      <td>John Kerry</td>\n",
       "      <td>john.kerry@santaswarehouse.com</td>\n",
       "      <td>3</td>\n",
       "      <td>Group 3</td>\n",
       "    </tr>\n",
       "    <tr>\n",
       "      <th>1</th>\n",
       "      <td>Clickety Click</td>\n",
       "      <td>ckekek.click@santaswarehouse.com</td>\n",
       "      <td>4</td>\n",
       "      <td>Group 3</td>\n",
       "    </tr>\n",
       "    <tr>\n",
       "      <th>2</th>\n",
       "      <td>Jack Jackly</td>\n",
       "      <td>jack.jackly@santaswarehouse.com</td>\n",
       "      <td>4</td>\n",
       "      <td>Group 3</td>\n",
       "    </tr>\n",
       "    <tr>\n",
       "      <th>3</th>\n",
       "      <td>Ducky Duck</td>\n",
       "      <td>ducky.duck@santaswarehouse.com</td>\n",
       "      <td>5</td>\n",
       "      <td>Group 3</td>\n",
       "    </tr>\n",
       "    <tr>\n",
       "      <th>4</th>\n",
       "      <td>Sporty Rusty</td>\n",
       "      <td>sporty.rusty@santaswarehouse.com</td>\n",
       "      <td>6</td>\n",
       "      <td>Group 3</td>\n",
       "    </tr>\n",
       "  </tbody>\n",
       "</table>\n",
       "</div>"
      ],
      "text/plain": [
       "        User name                             Email  Score Group Name\n",
       "0      John Kerry    john.kerry@santaswarehouse.com      3    Group 3\n",
       "1  Clickety Click  ckekek.click@santaswarehouse.com      4    Group 3\n",
       "2     Jack Jackly   jack.jackly@santaswarehouse.com      4    Group 3\n",
       "3      Ducky Duck    ducky.duck@santaswarehouse.com      5    Group 3\n",
       "4    Sporty Rusty  sporty.rusty@santaswarehouse.com      6    Group 3"
      ]
     },
     "execution_count": 157,
     "metadata": {},
     "output_type": "execute_result"
    }
   ],
   "source": [
    "df.head()"
   ]
  },
  {
   "cell_type": "code",
   "execution_count": 158,
   "metadata": {},
   "outputs": [
    {
     "data": {
      "text/html": [
       "<div>\n",
       "<style scoped>\n",
       "    .dataframe tbody tr th:only-of-type {\n",
       "        vertical-align: middle;\n",
       "    }\n",
       "\n",
       "    .dataframe tbody tr th {\n",
       "        vertical-align: top;\n",
       "    }\n",
       "\n",
       "    .dataframe thead th {\n",
       "        text-align: right;\n",
       "    }\n",
       "</style>\n",
       "<table border=\"1\" class=\"dataframe\">\n",
       "  <thead>\n",
       "    <tr style=\"text-align: right;\">\n",
       "      <th></th>\n",
       "      <th>User name</th>\n",
       "      <th>Email</th>\n",
       "      <th>Score</th>\n",
       "      <th>Group Name</th>\n",
       "    </tr>\n",
       "  </thead>\n",
       "  <tbody>\n",
       "    <tr>\n",
       "      <th>4</th>\n",
       "      <td>Sporty Rusty</td>\n",
       "      <td>sporty.rusty@santaswarehouse.com</td>\n",
       "      <td>6</td>\n",
       "      <td>Group 3</td>\n",
       "    </tr>\n",
       "    <tr>\n",
       "      <th>5</th>\n",
       "      <td>Gigelly Goon</td>\n",
       "      <td>gigelly.goon@santaswarehouse.com</td>\n",
       "      <td>7</td>\n",
       "      <td>Group 3</td>\n",
       "    </tr>\n",
       "    <tr>\n",
       "      <th>6</th>\n",
       "      <td>Trouble Thrumpet</td>\n",
       "      <td>trouble.thrumpet@santaswarehouse.com</td>\n",
       "      <td>8</td>\n",
       "      <td>Group 3</td>\n",
       "    </tr>\n",
       "    <tr>\n",
       "      <th>7</th>\n",
       "      <td>Gal Gally</td>\n",
       "      <td>gal.gally@santaswarehouse.com</td>\n",
       "      <td>8</td>\n",
       "      <td>Group 3</td>\n",
       "    </tr>\n",
       "    <tr>\n",
       "      <th>8</th>\n",
       "      <td>Funny Fonny</td>\n",
       "      <td>funny.fonny@santaswarehouse.com</td>\n",
       "      <td>8</td>\n",
       "      <td>Group 3</td>\n",
       "    </tr>\n",
       "    <tr>\n",
       "      <th>9</th>\n",
       "      <td>Adam Abacus</td>\n",
       "      <td>adam.abacus@santaswarehouse.com</td>\n",
       "      <td>8</td>\n",
       "      <td>Group 3</td>\n",
       "    </tr>\n",
       "    <tr>\n",
       "      <th>10</th>\n",
       "      <td>Quicky Quiver</td>\n",
       "      <td>quicky.quiver@santaswarehouse.com</td>\n",
       "      <td>9</td>\n",
       "      <td>Group 3</td>\n",
       "    </tr>\n",
       "    <tr>\n",
       "      <th>11</th>\n",
       "      <td>Roman Romanov</td>\n",
       "      <td>roman.romanov@santaswarehouse.com</td>\n",
       "      <td>10</td>\n",
       "      <td>Group 3</td>\n",
       "    </tr>\n",
       "    <tr>\n",
       "      <th>12</th>\n",
       "      <td>Greedy Garlic</td>\n",
       "      <td>greedy.garlic@santaswarehouse.com</td>\n",
       "      <td>8</td>\n",
       "      <td>Group 4</td>\n",
       "    </tr>\n",
       "    <tr>\n",
       "      <th>13</th>\n",
       "      <td>Creative Carl</td>\n",
       "      <td>creative.karl@santaswarehouse.com</td>\n",
       "      <td>8</td>\n",
       "      <td>Group 4</td>\n",
       "    </tr>\n",
       "    <tr>\n",
       "      <th>14</th>\n",
       "      <td>Monty Mount</td>\n",
       "      <td>monty.mount@santaswarehouse.com</td>\n",
       "      <td>9</td>\n",
       "      <td>Group 4</td>\n",
       "    </tr>\n",
       "    <tr>\n",
       "      <th>15</th>\n",
       "      <td>General Glass</td>\n",
       "      <td>general.glass@santaswarehouse.com</td>\n",
       "      <td>9</td>\n",
       "      <td>Group 4</td>\n",
       "    </tr>\n",
       "    <tr>\n",
       "      <th>16</th>\n",
       "      <td>Lonely Lucker</td>\n",
       "      <td>lonely.lucker@santaswarehouse.com</td>\n",
       "      <td>11</td>\n",
       "      <td>Group 4</td>\n",
       "    </tr>\n",
       "    <tr>\n",
       "      <th>17</th>\n",
       "      <td>Triple Trouble</td>\n",
       "      <td>jack.jackly@santaswarehouse.com</td>\n",
       "      <td>11</td>\n",
       "      <td>Group 4</td>\n",
       "    </tr>\n",
       "    <tr>\n",
       "      <th>18</th>\n",
       "      <td>Granty Grant</td>\n",
       "      <td>granty.brant@santaswarehouse.com</td>\n",
       "      <td>12</td>\n",
       "      <td>Group 4</td>\n",
       "    </tr>\n",
       "    <tr>\n",
       "      <th>19</th>\n",
       "      <td>Gideon Gerry</td>\n",
       "      <td>gideon.gerry@santaswarehouse.com</td>\n",
       "      <td>12</td>\n",
       "      <td>Group 4</td>\n",
       "    </tr>\n",
       "    <tr>\n",
       "      <th>20</th>\n",
       "      <td>Zooper Zack</td>\n",
       "      <td>zooper.zack@santaswarehouse.com</td>\n",
       "      <td>12</td>\n",
       "      <td>Group 4</td>\n",
       "    </tr>\n",
       "    <tr>\n",
       "      <th>21</th>\n",
       "      <td>Horsly Hat</td>\n",
       "      <td>horsly.hat@santaswarehouse.com</td>\n",
       "      <td>12</td>\n",
       "      <td>Group 4</td>\n",
       "    </tr>\n",
       "    <tr>\n",
       "      <th>22</th>\n",
       "      <td>Tricky Track</td>\n",
       "      <td>tricky.track@santaswarehouse.com</td>\n",
       "      <td>12</td>\n",
       "      <td>Group 4</td>\n",
       "    </tr>\n",
       "    <tr>\n",
       "      <th>23</th>\n",
       "      <td>Planty Plum</td>\n",
       "      <td>planty.plum@santaswarehouse.com</td>\n",
       "      <td>13</td>\n",
       "      <td>Group 4</td>\n",
       "    </tr>\n",
       "  </tbody>\n",
       "</table>\n",
       "</div>"
      ],
      "text/plain": [
       "           User name                                 Email  Score Group Name\n",
       "4       Sporty Rusty      sporty.rusty@santaswarehouse.com      6    Group 3\n",
       "5       Gigelly Goon      gigelly.goon@santaswarehouse.com      7    Group 3\n",
       "6   Trouble Thrumpet  trouble.thrumpet@santaswarehouse.com      8    Group 3\n",
       "7          Gal Gally         gal.gally@santaswarehouse.com      8    Group 3\n",
       "8        Funny Fonny       funny.fonny@santaswarehouse.com      8    Group 3\n",
       "9        Adam Abacus       adam.abacus@santaswarehouse.com      8    Group 3\n",
       "10     Quicky Quiver     quicky.quiver@santaswarehouse.com      9    Group 3\n",
       "11     Roman Romanov     roman.romanov@santaswarehouse.com     10    Group 3\n",
       "12     Greedy Garlic     greedy.garlic@santaswarehouse.com      8    Group 4\n",
       "13     Creative Carl     creative.karl@santaswarehouse.com      8    Group 4\n",
       "14       Monty Mount       monty.mount@santaswarehouse.com      9    Group 4\n",
       "15     General Glass     general.glass@santaswarehouse.com      9    Group 4\n",
       "16     Lonely Lucker     lonely.lucker@santaswarehouse.com     11    Group 4\n",
       "17    Triple Trouble       jack.jackly@santaswarehouse.com     11    Group 4\n",
       "18      Granty Grant      granty.brant@santaswarehouse.com     12    Group 4\n",
       "19      Gideon Gerry      gideon.gerry@santaswarehouse.com     12    Group 4\n",
       "20       Zooper Zack       zooper.zack@santaswarehouse.com     12    Group 4\n",
       "21        Horsly Hat        horsly.hat@santaswarehouse.com     12    Group 4\n",
       "22      Tricky Track      tricky.track@santaswarehouse.com     12    Group 4\n",
       "23       Planty Plum       planty.plum@santaswarehouse.com     13    Group 4"
      ]
     },
     "execution_count": 158,
     "metadata": {},
     "output_type": "execute_result"
    }
   ],
   "source": [
    "df[df['Score'] > 5]"
   ]
  },
  {
   "cell_type": "code",
   "execution_count": 159,
   "metadata": {},
   "outputs": [],
   "source": [
    "df_minscore_and_above = df[df['Score'] > 5]"
   ]
  },
  {
   "cell_type": "code",
   "execution_count": 160,
   "metadata": {},
   "outputs": [
    {
     "data": {
      "text/html": [
       "<div>\n",
       "<style scoped>\n",
       "    .dataframe tbody tr th:only-of-type {\n",
       "        vertical-align: middle;\n",
       "    }\n",
       "\n",
       "    .dataframe tbody tr th {\n",
       "        vertical-align: top;\n",
       "    }\n",
       "\n",
       "    .dataframe thead th {\n",
       "        text-align: right;\n",
       "    }\n",
       "</style>\n",
       "<table border=\"1\" class=\"dataframe\">\n",
       "  <thead>\n",
       "    <tr style=\"text-align: right;\">\n",
       "      <th></th>\n",
       "      <th>User name</th>\n",
       "      <th>Email</th>\n",
       "      <th>Score</th>\n",
       "      <th>Group Name</th>\n",
       "    </tr>\n",
       "  </thead>\n",
       "  <tbody>\n",
       "    <tr>\n",
       "      <th>4</th>\n",
       "      <td>Sporty Rusty</td>\n",
       "      <td>sporty.rusty@santaswarehouse.com</td>\n",
       "      <td>6</td>\n",
       "      <td>Group 3</td>\n",
       "    </tr>\n",
       "    <tr>\n",
       "      <th>5</th>\n",
       "      <td>Gigelly Goon</td>\n",
       "      <td>gigelly.goon@santaswarehouse.com</td>\n",
       "      <td>7</td>\n",
       "      <td>Group 3</td>\n",
       "    </tr>\n",
       "    <tr>\n",
       "      <th>6</th>\n",
       "      <td>Trouble Thrumpet</td>\n",
       "      <td>trouble.thrumpet@santaswarehouse.com</td>\n",
       "      <td>8</td>\n",
       "      <td>Group 3</td>\n",
       "    </tr>\n",
       "    <tr>\n",
       "      <th>7</th>\n",
       "      <td>Gal Gally</td>\n",
       "      <td>gal.gally@santaswarehouse.com</td>\n",
       "      <td>8</td>\n",
       "      <td>Group 3</td>\n",
       "    </tr>\n",
       "    <tr>\n",
       "      <th>8</th>\n",
       "      <td>Funny Fonny</td>\n",
       "      <td>funny.fonny@santaswarehouse.com</td>\n",
       "      <td>8</td>\n",
       "      <td>Group 3</td>\n",
       "    </tr>\n",
       "  </tbody>\n",
       "</table>\n",
       "</div>"
      ],
      "text/plain": [
       "          User name                                 Email  Score Group Name\n",
       "4      Sporty Rusty      sporty.rusty@santaswarehouse.com      6    Group 3\n",
       "5      Gigelly Goon      gigelly.goon@santaswarehouse.com      7    Group 3\n",
       "6  Trouble Thrumpet  trouble.thrumpet@santaswarehouse.com      8    Group 3\n",
       "7         Gal Gally         gal.gally@santaswarehouse.com      8    Group 3\n",
       "8       Funny Fonny       funny.fonny@santaswarehouse.com      8    Group 3"
      ]
     },
     "execution_count": 160,
     "metadata": {},
     "output_type": "execute_result"
    }
   ],
   "source": [
    "df_minscore_and_above.head()"
   ]
  },
  {
   "cell_type": "code",
   "execution_count": 161,
   "metadata": {},
   "outputs": [
    {
     "data": {
      "text/html": [
       "<div>\n",
       "<style scoped>\n",
       "    .dataframe tbody tr th:only-of-type {\n",
       "        vertical-align: middle;\n",
       "    }\n",
       "\n",
       "    .dataframe tbody tr th {\n",
       "        vertical-align: top;\n",
       "    }\n",
       "\n",
       "    .dataframe thead th {\n",
       "        text-align: right;\n",
       "    }\n",
       "</style>\n",
       "<table border=\"1\" class=\"dataframe\">\n",
       "  <thead>\n",
       "    <tr style=\"text-align: right;\">\n",
       "      <th></th>\n",
       "      <th>User name</th>\n",
       "      <th>Email</th>\n",
       "      <th>Score</th>\n",
       "      <th>Group Name</th>\n",
       "    </tr>\n",
       "  </thead>\n",
       "  <tbody>\n",
       "    <tr>\n",
       "      <th>4</th>\n",
       "      <td>Sporty Rusty</td>\n",
       "      <td>sporty.rusty@santaswarehouse.com</td>\n",
       "      <td>6</td>\n",
       "      <td>Group 3</td>\n",
       "    </tr>\n",
       "    <tr>\n",
       "      <th>5</th>\n",
       "      <td>Gigelly Goon</td>\n",
       "      <td>gigelly.goon@santaswarehouse.com</td>\n",
       "      <td>7</td>\n",
       "      <td>Group 3</td>\n",
       "    </tr>\n",
       "    <tr>\n",
       "      <th>6</th>\n",
       "      <td>Trouble Thrumpet</td>\n",
       "      <td>trouble.thrumpet@santaswarehouse.com</td>\n",
       "      <td>8</td>\n",
       "      <td>Group 3</td>\n",
       "    </tr>\n",
       "    <tr>\n",
       "      <th>7</th>\n",
       "      <td>Gal Gally</td>\n",
       "      <td>gal.gally@santaswarehouse.com</td>\n",
       "      <td>8</td>\n",
       "      <td>Group 3</td>\n",
       "    </tr>\n",
       "    <tr>\n",
       "      <th>8</th>\n",
       "      <td>Funny Fonny</td>\n",
       "      <td>funny.fonny@santaswarehouse.com</td>\n",
       "      <td>8</td>\n",
       "      <td>Group 3</td>\n",
       "    </tr>\n",
       "    <tr>\n",
       "      <th>9</th>\n",
       "      <td>Adam Abacus</td>\n",
       "      <td>adam.abacus@santaswarehouse.com</td>\n",
       "      <td>8</td>\n",
       "      <td>Group 3</td>\n",
       "    </tr>\n",
       "    <tr>\n",
       "      <th>10</th>\n",
       "      <td>Quicky Quiver</td>\n",
       "      <td>quicky.quiver@santaswarehouse.com</td>\n",
       "      <td>9</td>\n",
       "      <td>Group 3</td>\n",
       "    </tr>\n",
       "    <tr>\n",
       "      <th>11</th>\n",
       "      <td>Roman Romanov</td>\n",
       "      <td>roman.romanov@santaswarehouse.com</td>\n",
       "      <td>10</td>\n",
       "      <td>Group 3</td>\n",
       "    </tr>\n",
       "  </tbody>\n",
       "</table>\n",
       "</div>"
      ],
      "text/plain": [
       "           User name                                 Email  Score Group Name\n",
       "4       Sporty Rusty      sporty.rusty@santaswarehouse.com      6    Group 3\n",
       "5       Gigelly Goon      gigelly.goon@santaswarehouse.com      7    Group 3\n",
       "6   Trouble Thrumpet  trouble.thrumpet@santaswarehouse.com      8    Group 3\n",
       "7          Gal Gally         gal.gally@santaswarehouse.com      8    Group 3\n",
       "8        Funny Fonny       funny.fonny@santaswarehouse.com      8    Group 3\n",
       "9        Adam Abacus       adam.abacus@santaswarehouse.com      8    Group 3\n",
       "10     Quicky Quiver     quicky.quiver@santaswarehouse.com      9    Group 3\n",
       "11     Roman Romanov     roman.romanov@santaswarehouse.com     10    Group 3"
      ]
     },
     "execution_count": 161,
     "metadata": {},
     "output_type": "execute_result"
    }
   ],
   "source": [
    "df_minscore_and_above[df_minscore_and_above['Group Name'] == 'Group 3']"
   ]
  },
  {
   "cell_type": "code",
   "execution_count": 162,
   "metadata": {},
   "outputs": [],
   "source": [
    "df_group3_min_score = df_minscore_and_above[df_minscore_and_above['Group Name'] == 'Group 3']"
   ]
  },
  {
   "cell_type": "code",
   "execution_count": 163,
   "metadata": {},
   "outputs": [
    {
     "data": {
      "text/plain": [
       "8.0"
      ]
     },
     "execution_count": 163,
     "metadata": {},
     "output_type": "execute_result"
    }
   ],
   "source": [
    "np.mean(df_group3_min_score['Score'])"
   ]
  },
  {
   "cell_type": "code",
   "execution_count": 164,
   "metadata": {},
   "outputs": [
    {
     "data": {
      "text/plain": [
       "8.0"
      ]
     },
     "execution_count": 164,
     "metadata": {},
     "output_type": "execute_result"
    }
   ],
   "source": [
    "np.median(df_group3_min_score['Score'])"
   ]
  },
  {
   "cell_type": "code",
   "execution_count": 165,
   "metadata": {},
   "outputs": [],
   "source": [
    "grouped = df.groupby(df['Group Name'])"
   ]
  },
  {
   "cell_type": "code",
   "execution_count": 166,
   "metadata": {},
   "outputs": [
    {
     "data": {
      "text/html": [
       "<div>\n",
       "<style scoped>\n",
       "    .dataframe tbody tr th:only-of-type {\n",
       "        vertical-align: middle;\n",
       "    }\n",
       "\n",
       "    .dataframe tbody tr th {\n",
       "        vertical-align: top;\n",
       "    }\n",
       "\n",
       "    .dataframe thead th {\n",
       "        text-align: right;\n",
       "    }\n",
       "</style>\n",
       "<table border=\"1\" class=\"dataframe\">\n",
       "  <thead>\n",
       "    <tr style=\"text-align: right;\">\n",
       "      <th></th>\n",
       "      <th>Score</th>\n",
       "    </tr>\n",
       "    <tr>\n",
       "      <th>Group Name</th>\n",
       "      <th></th>\n",
       "    </tr>\n",
       "  </thead>\n",
       "  <tbody>\n",
       "    <tr>\n",
       "      <th>Group 3</th>\n",
       "      <td>6.666667</td>\n",
       "    </tr>\n",
       "    <tr>\n",
       "      <th>Group 4</th>\n",
       "      <td>10.750000</td>\n",
       "    </tr>\n",
       "  </tbody>\n",
       "</table>\n",
       "</div>"
      ],
      "text/plain": [
       "                Score\n",
       "Group Name           \n",
       "Group 3      6.666667\n",
       "Group 4     10.750000"
      ]
     },
     "execution_count": 166,
     "metadata": {},
     "output_type": "execute_result"
    }
   ],
   "source": [
    "grouped.mean()"
   ]
  },
  {
   "cell_type": "code",
   "execution_count": 167,
   "metadata": {},
   "outputs": [
    {
     "data": {
      "text/plain": [
       "(24, 4)"
      ]
     },
     "execution_count": 167,
     "metadata": {},
     "output_type": "execute_result"
    }
   ],
   "source": [
    "df.shape"
   ]
  },
  {
   "cell_type": "code",
   "execution_count": 168,
   "metadata": {},
   "outputs": [
    {
     "data": {
      "text/plain": [
       "array([ 1.84300678, -0.54578569, -2.41403193, -0.68097633, -0.51053806,\n",
       "       -0.0051895 ,  1.64759063,  1.17693418, -0.48818672,  0.63110899,\n",
       "       -0.56914372,  0.02816768, -0.07344332,  0.30277263,  0.08475747,\n",
       "       -0.38089672, -0.20441115,  0.24852721,  0.03992678,  2.21642557,\n",
       "        1.35356008, -2.08877286, -1.36143839, -0.37996375])"
      ]
     },
     "execution_count": 168,
     "metadata": {},
     "output_type": "execute_result"
    }
   ],
   "source": [
    "np.random.randn(df.shape[0])"
   ]
  },
  {
   "cell_type": "code",
   "execution_count": 169,
   "metadata": {},
   "outputs": [],
   "source": [
    "new_df = pd.DataFrame({'magic_score' : np.random.randn(df.shape[0])})"
   ]
  },
  {
   "cell_type": "code",
   "execution_count": 170,
   "metadata": {},
   "outputs": [
    {
     "data": {
      "text/html": [
       "<div>\n",
       "<style scoped>\n",
       "    .dataframe tbody tr th:only-of-type {\n",
       "        vertical-align: middle;\n",
       "    }\n",
       "\n",
       "    .dataframe tbody tr th {\n",
       "        vertical-align: top;\n",
       "    }\n",
       "\n",
       "    .dataframe thead th {\n",
       "        text-align: right;\n",
       "    }\n",
       "</style>\n",
       "<table border=\"1\" class=\"dataframe\">\n",
       "  <thead>\n",
       "    <tr style=\"text-align: right;\">\n",
       "      <th></th>\n",
       "      <th>magic_score</th>\n",
       "    </tr>\n",
       "  </thead>\n",
       "  <tbody>\n",
       "    <tr>\n",
       "      <th>0</th>\n",
       "      <td>0.330501</td>\n",
       "    </tr>\n",
       "    <tr>\n",
       "      <th>1</th>\n",
       "      <td>-0.638508</td>\n",
       "    </tr>\n",
       "    <tr>\n",
       "      <th>2</th>\n",
       "      <td>0.584839</td>\n",
       "    </tr>\n",
       "    <tr>\n",
       "      <th>3</th>\n",
       "      <td>0.483646</td>\n",
       "    </tr>\n",
       "    <tr>\n",
       "      <th>4</th>\n",
       "      <td>0.719996</td>\n",
       "    </tr>\n",
       "    <tr>\n",
       "      <th>5</th>\n",
       "      <td>1.200826</td>\n",
       "    </tr>\n",
       "    <tr>\n",
       "      <th>6</th>\n",
       "      <td>0.057846</td>\n",
       "    </tr>\n",
       "    <tr>\n",
       "      <th>7</th>\n",
       "      <td>0.594079</td>\n",
       "    </tr>\n",
       "    <tr>\n",
       "      <th>8</th>\n",
       "      <td>0.196016</td>\n",
       "    </tr>\n",
       "    <tr>\n",
       "      <th>9</th>\n",
       "      <td>-1.294138</td>\n",
       "    </tr>\n",
       "    <tr>\n",
       "      <th>10</th>\n",
       "      <td>1.594258</td>\n",
       "    </tr>\n",
       "    <tr>\n",
       "      <th>11</th>\n",
       "      <td>0.450054</td>\n",
       "    </tr>\n",
       "    <tr>\n",
       "      <th>12</th>\n",
       "      <td>0.239208</td>\n",
       "    </tr>\n",
       "    <tr>\n",
       "      <th>13</th>\n",
       "      <td>-0.362481</td>\n",
       "    </tr>\n",
       "    <tr>\n",
       "      <th>14</th>\n",
       "      <td>-1.788205</td>\n",
       "    </tr>\n",
       "    <tr>\n",
       "      <th>15</th>\n",
       "      <td>-0.067629</td>\n",
       "    </tr>\n",
       "    <tr>\n",
       "      <th>16</th>\n",
       "      <td>0.210262</td>\n",
       "    </tr>\n",
       "    <tr>\n",
       "      <th>17</th>\n",
       "      <td>-0.627594</td>\n",
       "    </tr>\n",
       "    <tr>\n",
       "      <th>18</th>\n",
       "      <td>-0.816171</td>\n",
       "    </tr>\n",
       "    <tr>\n",
       "      <th>19</th>\n",
       "      <td>-0.314086</td>\n",
       "    </tr>\n",
       "    <tr>\n",
       "      <th>20</th>\n",
       "      <td>-0.019958</td>\n",
       "    </tr>\n",
       "    <tr>\n",
       "      <th>21</th>\n",
       "      <td>0.298114</td>\n",
       "    </tr>\n",
       "    <tr>\n",
       "      <th>22</th>\n",
       "      <td>0.963249</td>\n",
       "    </tr>\n",
       "    <tr>\n",
       "      <th>23</th>\n",
       "      <td>0.680871</td>\n",
       "    </tr>\n",
       "  </tbody>\n",
       "</table>\n",
       "</div>"
      ],
      "text/plain": [
       "    magic_score\n",
       "0      0.330501\n",
       "1     -0.638508\n",
       "2      0.584839\n",
       "3      0.483646\n",
       "4      0.719996\n",
       "5      1.200826\n",
       "6      0.057846\n",
       "7      0.594079\n",
       "8      0.196016\n",
       "9     -1.294138\n",
       "10     1.594258\n",
       "11     0.450054\n",
       "12     0.239208\n",
       "13    -0.362481\n",
       "14    -1.788205\n",
       "15    -0.067629\n",
       "16     0.210262\n",
       "17    -0.627594\n",
       "18    -0.816171\n",
       "19    -0.314086\n",
       "20    -0.019958\n",
       "21     0.298114\n",
       "22     0.963249\n",
       "23     0.680871"
      ]
     },
     "execution_count": 170,
     "metadata": {},
     "output_type": "execute_result"
    }
   ],
   "source": [
    "new_df"
   ]
  },
  {
   "cell_type": "code",
   "execution_count": 171,
   "metadata": {},
   "outputs": [],
   "source": [
    "df_copy = df.copy()"
   ]
  },
  {
   "cell_type": "code",
   "execution_count": 172,
   "metadata": {},
   "outputs": [
    {
     "data": {
      "text/plain": [
       "(24, 1)"
      ]
     },
     "execution_count": 172,
     "metadata": {},
     "output_type": "execute_result"
    }
   ],
   "source": [
    "new_df.shape"
   ]
  },
  {
   "cell_type": "code",
   "execution_count": 173,
   "metadata": {},
   "outputs": [],
   "source": [
    "df_copy['Magic score'] = new_df"
   ]
  },
  {
   "cell_type": "code",
   "execution_count": 174,
   "metadata": {},
   "outputs": [
    {
     "data": {
      "text/html": [
       "<div>\n",
       "<style scoped>\n",
       "    .dataframe tbody tr th:only-of-type {\n",
       "        vertical-align: middle;\n",
       "    }\n",
       "\n",
       "    .dataframe tbody tr th {\n",
       "        vertical-align: top;\n",
       "    }\n",
       "\n",
       "    .dataframe thead th {\n",
       "        text-align: right;\n",
       "    }\n",
       "</style>\n",
       "<table border=\"1\" class=\"dataframe\">\n",
       "  <thead>\n",
       "    <tr style=\"text-align: right;\">\n",
       "      <th></th>\n",
       "      <th>User name</th>\n",
       "      <th>Email</th>\n",
       "      <th>Score</th>\n",
       "      <th>Group Name</th>\n",
       "      <th>Magic score</th>\n",
       "    </tr>\n",
       "  </thead>\n",
       "  <tbody>\n",
       "    <tr>\n",
       "      <th>0</th>\n",
       "      <td>John Kerry</td>\n",
       "      <td>john.kerry@santaswarehouse.com</td>\n",
       "      <td>3</td>\n",
       "      <td>Group 3</td>\n",
       "      <td>0.330501</td>\n",
       "    </tr>\n",
       "    <tr>\n",
       "      <th>1</th>\n",
       "      <td>Clickety Click</td>\n",
       "      <td>ckekek.click@santaswarehouse.com</td>\n",
       "      <td>4</td>\n",
       "      <td>Group 3</td>\n",
       "      <td>-0.638508</td>\n",
       "    </tr>\n",
       "    <tr>\n",
       "      <th>2</th>\n",
       "      <td>Jack Jackly</td>\n",
       "      <td>jack.jackly@santaswarehouse.com</td>\n",
       "      <td>4</td>\n",
       "      <td>Group 3</td>\n",
       "      <td>0.584839</td>\n",
       "    </tr>\n",
       "    <tr>\n",
       "      <th>3</th>\n",
       "      <td>Ducky Duck</td>\n",
       "      <td>ducky.duck@santaswarehouse.com</td>\n",
       "      <td>5</td>\n",
       "      <td>Group 3</td>\n",
       "      <td>0.483646</td>\n",
       "    </tr>\n",
       "    <tr>\n",
       "      <th>4</th>\n",
       "      <td>Sporty Rusty</td>\n",
       "      <td>sporty.rusty@santaswarehouse.com</td>\n",
       "      <td>6</td>\n",
       "      <td>Group 3</td>\n",
       "      <td>0.719996</td>\n",
       "    </tr>\n",
       "    <tr>\n",
       "      <th>5</th>\n",
       "      <td>Gigelly Goon</td>\n",
       "      <td>gigelly.goon@santaswarehouse.com</td>\n",
       "      <td>7</td>\n",
       "      <td>Group 3</td>\n",
       "      <td>1.200826</td>\n",
       "    </tr>\n",
       "    <tr>\n",
       "      <th>6</th>\n",
       "      <td>Trouble Thrumpet</td>\n",
       "      <td>trouble.thrumpet@santaswarehouse.com</td>\n",
       "      <td>8</td>\n",
       "      <td>Group 3</td>\n",
       "      <td>0.057846</td>\n",
       "    </tr>\n",
       "    <tr>\n",
       "      <th>7</th>\n",
       "      <td>Gal Gally</td>\n",
       "      <td>gal.gally@santaswarehouse.com</td>\n",
       "      <td>8</td>\n",
       "      <td>Group 3</td>\n",
       "      <td>0.594079</td>\n",
       "    </tr>\n",
       "    <tr>\n",
       "      <th>8</th>\n",
       "      <td>Funny Fonny</td>\n",
       "      <td>funny.fonny@santaswarehouse.com</td>\n",
       "      <td>8</td>\n",
       "      <td>Group 3</td>\n",
       "      <td>0.196016</td>\n",
       "    </tr>\n",
       "    <tr>\n",
       "      <th>9</th>\n",
       "      <td>Adam Abacus</td>\n",
       "      <td>adam.abacus@santaswarehouse.com</td>\n",
       "      <td>8</td>\n",
       "      <td>Group 3</td>\n",
       "      <td>-1.294138</td>\n",
       "    </tr>\n",
       "    <tr>\n",
       "      <th>10</th>\n",
       "      <td>Quicky Quiver</td>\n",
       "      <td>quicky.quiver@santaswarehouse.com</td>\n",
       "      <td>9</td>\n",
       "      <td>Group 3</td>\n",
       "      <td>1.594258</td>\n",
       "    </tr>\n",
       "    <tr>\n",
       "      <th>11</th>\n",
       "      <td>Roman Romanov</td>\n",
       "      <td>roman.romanov@santaswarehouse.com</td>\n",
       "      <td>10</td>\n",
       "      <td>Group 3</td>\n",
       "      <td>0.450054</td>\n",
       "    </tr>\n",
       "    <tr>\n",
       "      <th>12</th>\n",
       "      <td>Greedy Garlic</td>\n",
       "      <td>greedy.garlic@santaswarehouse.com</td>\n",
       "      <td>8</td>\n",
       "      <td>Group 4</td>\n",
       "      <td>0.239208</td>\n",
       "    </tr>\n",
       "    <tr>\n",
       "      <th>13</th>\n",
       "      <td>Creative Carl</td>\n",
       "      <td>creative.karl@santaswarehouse.com</td>\n",
       "      <td>8</td>\n",
       "      <td>Group 4</td>\n",
       "      <td>-0.362481</td>\n",
       "    </tr>\n",
       "    <tr>\n",
       "      <th>14</th>\n",
       "      <td>Monty Mount</td>\n",
       "      <td>monty.mount@santaswarehouse.com</td>\n",
       "      <td>9</td>\n",
       "      <td>Group 4</td>\n",
       "      <td>-1.788205</td>\n",
       "    </tr>\n",
       "    <tr>\n",
       "      <th>15</th>\n",
       "      <td>General Glass</td>\n",
       "      <td>general.glass@santaswarehouse.com</td>\n",
       "      <td>9</td>\n",
       "      <td>Group 4</td>\n",
       "      <td>-0.067629</td>\n",
       "    </tr>\n",
       "    <tr>\n",
       "      <th>16</th>\n",
       "      <td>Lonely Lucker</td>\n",
       "      <td>lonely.lucker@santaswarehouse.com</td>\n",
       "      <td>11</td>\n",
       "      <td>Group 4</td>\n",
       "      <td>0.210262</td>\n",
       "    </tr>\n",
       "    <tr>\n",
       "      <th>17</th>\n",
       "      <td>Triple Trouble</td>\n",
       "      <td>jack.jackly@santaswarehouse.com</td>\n",
       "      <td>11</td>\n",
       "      <td>Group 4</td>\n",
       "      <td>-0.627594</td>\n",
       "    </tr>\n",
       "    <tr>\n",
       "      <th>18</th>\n",
       "      <td>Granty Grant</td>\n",
       "      <td>granty.brant@santaswarehouse.com</td>\n",
       "      <td>12</td>\n",
       "      <td>Group 4</td>\n",
       "      <td>-0.816171</td>\n",
       "    </tr>\n",
       "    <tr>\n",
       "      <th>19</th>\n",
       "      <td>Gideon Gerry</td>\n",
       "      <td>gideon.gerry@santaswarehouse.com</td>\n",
       "      <td>12</td>\n",
       "      <td>Group 4</td>\n",
       "      <td>-0.314086</td>\n",
       "    </tr>\n",
       "    <tr>\n",
       "      <th>20</th>\n",
       "      <td>Zooper Zack</td>\n",
       "      <td>zooper.zack@santaswarehouse.com</td>\n",
       "      <td>12</td>\n",
       "      <td>Group 4</td>\n",
       "      <td>-0.019958</td>\n",
       "    </tr>\n",
       "    <tr>\n",
       "      <th>21</th>\n",
       "      <td>Horsly Hat</td>\n",
       "      <td>horsly.hat@santaswarehouse.com</td>\n",
       "      <td>12</td>\n",
       "      <td>Group 4</td>\n",
       "      <td>0.298114</td>\n",
       "    </tr>\n",
       "    <tr>\n",
       "      <th>22</th>\n",
       "      <td>Tricky Track</td>\n",
       "      <td>tricky.track@santaswarehouse.com</td>\n",
       "      <td>12</td>\n",
       "      <td>Group 4</td>\n",
       "      <td>0.963249</td>\n",
       "    </tr>\n",
       "    <tr>\n",
       "      <th>23</th>\n",
       "      <td>Planty Plum</td>\n",
       "      <td>planty.plum@santaswarehouse.com</td>\n",
       "      <td>13</td>\n",
       "      <td>Group 4</td>\n",
       "      <td>0.680871</td>\n",
       "    </tr>\n",
       "  </tbody>\n",
       "</table>\n",
       "</div>"
      ],
      "text/plain": [
       "           User name                                 Email  Score Group Name  \\\n",
       "0         John Kerry        john.kerry@santaswarehouse.com      3    Group 3   \n",
       "1     Clickety Click      ckekek.click@santaswarehouse.com      4    Group 3   \n",
       "2        Jack Jackly       jack.jackly@santaswarehouse.com      4    Group 3   \n",
       "3         Ducky Duck        ducky.duck@santaswarehouse.com      5    Group 3   \n",
       "4       Sporty Rusty      sporty.rusty@santaswarehouse.com      6    Group 3   \n",
       "5       Gigelly Goon      gigelly.goon@santaswarehouse.com      7    Group 3   \n",
       "6   Trouble Thrumpet  trouble.thrumpet@santaswarehouse.com      8    Group 3   \n",
       "7          Gal Gally         gal.gally@santaswarehouse.com      8    Group 3   \n",
       "8        Funny Fonny       funny.fonny@santaswarehouse.com      8    Group 3   \n",
       "9        Adam Abacus       adam.abacus@santaswarehouse.com      8    Group 3   \n",
       "10     Quicky Quiver     quicky.quiver@santaswarehouse.com      9    Group 3   \n",
       "11     Roman Romanov     roman.romanov@santaswarehouse.com     10    Group 3   \n",
       "12     Greedy Garlic     greedy.garlic@santaswarehouse.com      8    Group 4   \n",
       "13     Creative Carl     creative.karl@santaswarehouse.com      8    Group 4   \n",
       "14       Monty Mount       monty.mount@santaswarehouse.com      9    Group 4   \n",
       "15     General Glass     general.glass@santaswarehouse.com      9    Group 4   \n",
       "16     Lonely Lucker     lonely.lucker@santaswarehouse.com     11    Group 4   \n",
       "17    Triple Trouble       jack.jackly@santaswarehouse.com     11    Group 4   \n",
       "18      Granty Grant      granty.brant@santaswarehouse.com     12    Group 4   \n",
       "19      Gideon Gerry      gideon.gerry@santaswarehouse.com     12    Group 4   \n",
       "20       Zooper Zack       zooper.zack@santaswarehouse.com     12    Group 4   \n",
       "21        Horsly Hat        horsly.hat@santaswarehouse.com     12    Group 4   \n",
       "22      Tricky Track      tricky.track@santaswarehouse.com     12    Group 4   \n",
       "23       Planty Plum       planty.plum@santaswarehouse.com     13    Group 4   \n",
       "\n",
       "    Magic score  \n",
       "0      0.330501  \n",
       "1     -0.638508  \n",
       "2      0.584839  \n",
       "3      0.483646  \n",
       "4      0.719996  \n",
       "5      1.200826  \n",
       "6      0.057846  \n",
       "7      0.594079  \n",
       "8      0.196016  \n",
       "9     -1.294138  \n",
       "10     1.594258  \n",
       "11     0.450054  \n",
       "12     0.239208  \n",
       "13    -0.362481  \n",
       "14    -1.788205  \n",
       "15    -0.067629  \n",
       "16     0.210262  \n",
       "17    -0.627594  \n",
       "18    -0.816171  \n",
       "19    -0.314086  \n",
       "20    -0.019958  \n",
       "21     0.298114  \n",
       "22     0.963249  \n",
       "23     0.680871  "
      ]
     },
     "execution_count": 174,
     "metadata": {},
     "output_type": "execute_result"
    }
   ],
   "source": [
    "df_copy"
   ]
  },
  {
   "cell_type": "code",
   "execution_count": 175,
   "metadata": {},
   "outputs": [],
   "source": [
    "df_copy['Magic score'] = df_copy['Magic score'].transform(lambda x: x + 10)"
   ]
  },
  {
   "cell_type": "code",
   "execution_count": 176,
   "metadata": {},
   "outputs": [
    {
     "data": {
      "text/html": [
       "<div>\n",
       "<style scoped>\n",
       "    .dataframe tbody tr th:only-of-type {\n",
       "        vertical-align: middle;\n",
       "    }\n",
       "\n",
       "    .dataframe tbody tr th {\n",
       "        vertical-align: top;\n",
       "    }\n",
       "\n",
       "    .dataframe thead th {\n",
       "        text-align: right;\n",
       "    }\n",
       "</style>\n",
       "<table border=\"1\" class=\"dataframe\">\n",
       "  <thead>\n",
       "    <tr style=\"text-align: right;\">\n",
       "      <th></th>\n",
       "      <th>User name</th>\n",
       "      <th>Email</th>\n",
       "      <th>Score</th>\n",
       "      <th>Group Name</th>\n",
       "      <th>Magic score</th>\n",
       "    </tr>\n",
       "  </thead>\n",
       "  <tbody>\n",
       "    <tr>\n",
       "      <th>0</th>\n",
       "      <td>John Kerry</td>\n",
       "      <td>john.kerry@santaswarehouse.com</td>\n",
       "      <td>3</td>\n",
       "      <td>Group 3</td>\n",
       "      <td>10.330501</td>\n",
       "    </tr>\n",
       "    <tr>\n",
       "      <th>1</th>\n",
       "      <td>Clickety Click</td>\n",
       "      <td>ckekek.click@santaswarehouse.com</td>\n",
       "      <td>4</td>\n",
       "      <td>Group 3</td>\n",
       "      <td>9.361492</td>\n",
       "    </tr>\n",
       "    <tr>\n",
       "      <th>2</th>\n",
       "      <td>Jack Jackly</td>\n",
       "      <td>jack.jackly@santaswarehouse.com</td>\n",
       "      <td>4</td>\n",
       "      <td>Group 3</td>\n",
       "      <td>10.584839</td>\n",
       "    </tr>\n",
       "    <tr>\n",
       "      <th>3</th>\n",
       "      <td>Ducky Duck</td>\n",
       "      <td>ducky.duck@santaswarehouse.com</td>\n",
       "      <td>5</td>\n",
       "      <td>Group 3</td>\n",
       "      <td>10.483646</td>\n",
       "    </tr>\n",
       "    <tr>\n",
       "      <th>4</th>\n",
       "      <td>Sporty Rusty</td>\n",
       "      <td>sporty.rusty@santaswarehouse.com</td>\n",
       "      <td>6</td>\n",
       "      <td>Group 3</td>\n",
       "      <td>10.719996</td>\n",
       "    </tr>\n",
       "    <tr>\n",
       "      <th>5</th>\n",
       "      <td>Gigelly Goon</td>\n",
       "      <td>gigelly.goon@santaswarehouse.com</td>\n",
       "      <td>7</td>\n",
       "      <td>Group 3</td>\n",
       "      <td>11.200826</td>\n",
       "    </tr>\n",
       "    <tr>\n",
       "      <th>6</th>\n",
       "      <td>Trouble Thrumpet</td>\n",
       "      <td>trouble.thrumpet@santaswarehouse.com</td>\n",
       "      <td>8</td>\n",
       "      <td>Group 3</td>\n",
       "      <td>10.057846</td>\n",
       "    </tr>\n",
       "    <tr>\n",
       "      <th>7</th>\n",
       "      <td>Gal Gally</td>\n",
       "      <td>gal.gally@santaswarehouse.com</td>\n",
       "      <td>8</td>\n",
       "      <td>Group 3</td>\n",
       "      <td>10.594079</td>\n",
       "    </tr>\n",
       "    <tr>\n",
       "      <th>8</th>\n",
       "      <td>Funny Fonny</td>\n",
       "      <td>funny.fonny@santaswarehouse.com</td>\n",
       "      <td>8</td>\n",
       "      <td>Group 3</td>\n",
       "      <td>10.196016</td>\n",
       "    </tr>\n",
       "    <tr>\n",
       "      <th>9</th>\n",
       "      <td>Adam Abacus</td>\n",
       "      <td>adam.abacus@santaswarehouse.com</td>\n",
       "      <td>8</td>\n",
       "      <td>Group 3</td>\n",
       "      <td>8.705862</td>\n",
       "    </tr>\n",
       "    <tr>\n",
       "      <th>10</th>\n",
       "      <td>Quicky Quiver</td>\n",
       "      <td>quicky.quiver@santaswarehouse.com</td>\n",
       "      <td>9</td>\n",
       "      <td>Group 3</td>\n",
       "      <td>11.594258</td>\n",
       "    </tr>\n",
       "    <tr>\n",
       "      <th>11</th>\n",
       "      <td>Roman Romanov</td>\n",
       "      <td>roman.romanov@santaswarehouse.com</td>\n",
       "      <td>10</td>\n",
       "      <td>Group 3</td>\n",
       "      <td>10.450054</td>\n",
       "    </tr>\n",
       "    <tr>\n",
       "      <th>12</th>\n",
       "      <td>Greedy Garlic</td>\n",
       "      <td>greedy.garlic@santaswarehouse.com</td>\n",
       "      <td>8</td>\n",
       "      <td>Group 4</td>\n",
       "      <td>10.239208</td>\n",
       "    </tr>\n",
       "    <tr>\n",
       "      <th>13</th>\n",
       "      <td>Creative Carl</td>\n",
       "      <td>creative.karl@santaswarehouse.com</td>\n",
       "      <td>8</td>\n",
       "      <td>Group 4</td>\n",
       "      <td>9.637519</td>\n",
       "    </tr>\n",
       "    <tr>\n",
       "      <th>14</th>\n",
       "      <td>Monty Mount</td>\n",
       "      <td>monty.mount@santaswarehouse.com</td>\n",
       "      <td>9</td>\n",
       "      <td>Group 4</td>\n",
       "      <td>8.211795</td>\n",
       "    </tr>\n",
       "    <tr>\n",
       "      <th>15</th>\n",
       "      <td>General Glass</td>\n",
       "      <td>general.glass@santaswarehouse.com</td>\n",
       "      <td>9</td>\n",
       "      <td>Group 4</td>\n",
       "      <td>9.932371</td>\n",
       "    </tr>\n",
       "    <tr>\n",
       "      <th>16</th>\n",
       "      <td>Lonely Lucker</td>\n",
       "      <td>lonely.lucker@santaswarehouse.com</td>\n",
       "      <td>11</td>\n",
       "      <td>Group 4</td>\n",
       "      <td>10.210262</td>\n",
       "    </tr>\n",
       "    <tr>\n",
       "      <th>17</th>\n",
       "      <td>Triple Trouble</td>\n",
       "      <td>jack.jackly@santaswarehouse.com</td>\n",
       "      <td>11</td>\n",
       "      <td>Group 4</td>\n",
       "      <td>9.372406</td>\n",
       "    </tr>\n",
       "    <tr>\n",
       "      <th>18</th>\n",
       "      <td>Granty Grant</td>\n",
       "      <td>granty.brant@santaswarehouse.com</td>\n",
       "      <td>12</td>\n",
       "      <td>Group 4</td>\n",
       "      <td>9.183829</td>\n",
       "    </tr>\n",
       "    <tr>\n",
       "      <th>19</th>\n",
       "      <td>Gideon Gerry</td>\n",
       "      <td>gideon.gerry@santaswarehouse.com</td>\n",
       "      <td>12</td>\n",
       "      <td>Group 4</td>\n",
       "      <td>9.685914</td>\n",
       "    </tr>\n",
       "    <tr>\n",
       "      <th>20</th>\n",
       "      <td>Zooper Zack</td>\n",
       "      <td>zooper.zack@santaswarehouse.com</td>\n",
       "      <td>12</td>\n",
       "      <td>Group 4</td>\n",
       "      <td>9.980042</td>\n",
       "    </tr>\n",
       "    <tr>\n",
       "      <th>21</th>\n",
       "      <td>Horsly Hat</td>\n",
       "      <td>horsly.hat@santaswarehouse.com</td>\n",
       "      <td>12</td>\n",
       "      <td>Group 4</td>\n",
       "      <td>10.298114</td>\n",
       "    </tr>\n",
       "    <tr>\n",
       "      <th>22</th>\n",
       "      <td>Tricky Track</td>\n",
       "      <td>tricky.track@santaswarehouse.com</td>\n",
       "      <td>12</td>\n",
       "      <td>Group 4</td>\n",
       "      <td>10.963249</td>\n",
       "    </tr>\n",
       "    <tr>\n",
       "      <th>23</th>\n",
       "      <td>Planty Plum</td>\n",
       "      <td>planty.plum@santaswarehouse.com</td>\n",
       "      <td>13</td>\n",
       "      <td>Group 4</td>\n",
       "      <td>10.680871</td>\n",
       "    </tr>\n",
       "  </tbody>\n",
       "</table>\n",
       "</div>"
      ],
      "text/plain": [
       "           User name                                 Email  Score Group Name  \\\n",
       "0         John Kerry        john.kerry@santaswarehouse.com      3    Group 3   \n",
       "1     Clickety Click      ckekek.click@santaswarehouse.com      4    Group 3   \n",
       "2        Jack Jackly       jack.jackly@santaswarehouse.com      4    Group 3   \n",
       "3         Ducky Duck        ducky.duck@santaswarehouse.com      5    Group 3   \n",
       "4       Sporty Rusty      sporty.rusty@santaswarehouse.com      6    Group 3   \n",
       "5       Gigelly Goon      gigelly.goon@santaswarehouse.com      7    Group 3   \n",
       "6   Trouble Thrumpet  trouble.thrumpet@santaswarehouse.com      8    Group 3   \n",
       "7          Gal Gally         gal.gally@santaswarehouse.com      8    Group 3   \n",
       "8        Funny Fonny       funny.fonny@santaswarehouse.com      8    Group 3   \n",
       "9        Adam Abacus       adam.abacus@santaswarehouse.com      8    Group 3   \n",
       "10     Quicky Quiver     quicky.quiver@santaswarehouse.com      9    Group 3   \n",
       "11     Roman Romanov     roman.romanov@santaswarehouse.com     10    Group 3   \n",
       "12     Greedy Garlic     greedy.garlic@santaswarehouse.com      8    Group 4   \n",
       "13     Creative Carl     creative.karl@santaswarehouse.com      8    Group 4   \n",
       "14       Monty Mount       monty.mount@santaswarehouse.com      9    Group 4   \n",
       "15     General Glass     general.glass@santaswarehouse.com      9    Group 4   \n",
       "16     Lonely Lucker     lonely.lucker@santaswarehouse.com     11    Group 4   \n",
       "17    Triple Trouble       jack.jackly@santaswarehouse.com     11    Group 4   \n",
       "18      Granty Grant      granty.brant@santaswarehouse.com     12    Group 4   \n",
       "19      Gideon Gerry      gideon.gerry@santaswarehouse.com     12    Group 4   \n",
       "20       Zooper Zack       zooper.zack@santaswarehouse.com     12    Group 4   \n",
       "21        Horsly Hat        horsly.hat@santaswarehouse.com     12    Group 4   \n",
       "22      Tricky Track      tricky.track@santaswarehouse.com     12    Group 4   \n",
       "23       Planty Plum       planty.plum@santaswarehouse.com     13    Group 4   \n",
       "\n",
       "    Magic score  \n",
       "0     10.330501  \n",
       "1      9.361492  \n",
       "2     10.584839  \n",
       "3     10.483646  \n",
       "4     10.719996  \n",
       "5     11.200826  \n",
       "6     10.057846  \n",
       "7     10.594079  \n",
       "8     10.196016  \n",
       "9      8.705862  \n",
       "10    11.594258  \n",
       "11    10.450054  \n",
       "12    10.239208  \n",
       "13     9.637519  \n",
       "14     8.211795  \n",
       "15     9.932371  \n",
       "16    10.210262  \n",
       "17     9.372406  \n",
       "18     9.183829  \n",
       "19     9.685914  \n",
       "20     9.980042  \n",
       "21    10.298114  \n",
       "22    10.963249  \n",
       "23    10.680871  "
      ]
     },
     "execution_count": 176,
     "metadata": {},
     "output_type": "execute_result"
    }
   ],
   "source": [
    "df_copy"
   ]
  },
  {
   "cell_type": "code",
   "execution_count": 177,
   "metadata": {},
   "outputs": [],
   "source": [
    "import pandas as pd\n",
    "import numpy as np"
   ]
  },
  {
   "cell_type": "code",
   "execution_count": 178,
   "metadata": {},
   "outputs": [],
   "source": [
    "data = {'state': ['Ohio', 'Ohio', 'Ohio', 'Nevada', 'Nevada', 'Nevada'],\n",
    "        'year': [2000, 2001, 2002, 2001, 2002, 2003],\n",
    "        'pop': [1.5, 1.7, 3.6, 2.4, 2.9, 3.2]}"
   ]
  },
  {
   "cell_type": "code",
   "execution_count": 179,
   "metadata": {},
   "outputs": [],
   "source": [
    "frame = pd.DataFrame(data)"
   ]
  },
  {
   "cell_type": "code",
   "execution_count": 180,
   "metadata": {},
   "outputs": [
    {
     "data": {
      "text/html": [
       "<div>\n",
       "<style scoped>\n",
       "    .dataframe tbody tr th:only-of-type {\n",
       "        vertical-align: middle;\n",
       "    }\n",
       "\n",
       "    .dataframe tbody tr th {\n",
       "        vertical-align: top;\n",
       "    }\n",
       "\n",
       "    .dataframe thead th {\n",
       "        text-align: right;\n",
       "    }\n",
       "</style>\n",
       "<table border=\"1\" class=\"dataframe\">\n",
       "  <thead>\n",
       "    <tr style=\"text-align: right;\">\n",
       "      <th></th>\n",
       "      <th>state</th>\n",
       "      <th>year</th>\n",
       "      <th>pop</th>\n",
       "    </tr>\n",
       "  </thead>\n",
       "  <tbody>\n",
       "    <tr>\n",
       "      <th>0</th>\n",
       "      <td>Ohio</td>\n",
       "      <td>2000</td>\n",
       "      <td>1.5</td>\n",
       "    </tr>\n",
       "    <tr>\n",
       "      <th>1</th>\n",
       "      <td>Ohio</td>\n",
       "      <td>2001</td>\n",
       "      <td>1.7</td>\n",
       "    </tr>\n",
       "    <tr>\n",
       "      <th>2</th>\n",
       "      <td>Ohio</td>\n",
       "      <td>2002</td>\n",
       "      <td>3.6</td>\n",
       "    </tr>\n",
       "    <tr>\n",
       "      <th>3</th>\n",
       "      <td>Nevada</td>\n",
       "      <td>2001</td>\n",
       "      <td>2.4</td>\n",
       "    </tr>\n",
       "    <tr>\n",
       "      <th>4</th>\n",
       "      <td>Nevada</td>\n",
       "      <td>2002</td>\n",
       "      <td>2.9</td>\n",
       "    </tr>\n",
       "    <tr>\n",
       "      <th>5</th>\n",
       "      <td>Nevada</td>\n",
       "      <td>2003</td>\n",
       "      <td>3.2</td>\n",
       "    </tr>\n",
       "  </tbody>\n",
       "</table>\n",
       "</div>"
      ],
      "text/plain": [
       "    state  year  pop\n",
       "0    Ohio  2000  1.5\n",
       "1    Ohio  2001  1.7\n",
       "2    Ohio  2002  3.6\n",
       "3  Nevada  2001  2.4\n",
       "4  Nevada  2002  2.9\n",
       "5  Nevada  2003  3.2"
      ]
     },
     "execution_count": 180,
     "metadata": {},
     "output_type": "execute_result"
    }
   ],
   "source": [
    "frame"
   ]
  },
  {
   "cell_type": "code",
   "execution_count": 181,
   "metadata": {},
   "outputs": [
    {
     "data": {
      "text/html": [
       "<div>\n",
       "<style scoped>\n",
       "    .dataframe tbody tr th:only-of-type {\n",
       "        vertical-align: middle;\n",
       "    }\n",
       "\n",
       "    .dataframe tbody tr th {\n",
       "        vertical-align: top;\n",
       "    }\n",
       "\n",
       "    .dataframe thead th {\n",
       "        text-align: right;\n",
       "    }\n",
       "</style>\n",
       "<table border=\"1\" class=\"dataframe\">\n",
       "  <thead>\n",
       "    <tr style=\"text-align: right;\">\n",
       "      <th></th>\n",
       "      <th>state</th>\n",
       "      <th>year</th>\n",
       "      <th>pop</th>\n",
       "    </tr>\n",
       "  </thead>\n",
       "  <tbody>\n",
       "    <tr>\n",
       "      <th>0</th>\n",
       "      <td>Ohio</td>\n",
       "      <td>2000</td>\n",
       "      <td>1.5</td>\n",
       "    </tr>\n",
       "    <tr>\n",
       "      <th>1</th>\n",
       "      <td>Ohio</td>\n",
       "      <td>2001</td>\n",
       "      <td>1.7</td>\n",
       "    </tr>\n",
       "    <tr>\n",
       "      <th>2</th>\n",
       "      <td>Ohio</td>\n",
       "      <td>2002</td>\n",
       "      <td>3.6</td>\n",
       "    </tr>\n",
       "    <tr>\n",
       "      <th>3</th>\n",
       "      <td>Nevada</td>\n",
       "      <td>2001</td>\n",
       "      <td>2.4</td>\n",
       "    </tr>\n",
       "    <tr>\n",
       "      <th>4</th>\n",
       "      <td>Nevada</td>\n",
       "      <td>2002</td>\n",
       "      <td>2.9</td>\n",
       "    </tr>\n",
       "  </tbody>\n",
       "</table>\n",
       "</div>"
      ],
      "text/plain": [
       "    state  year  pop\n",
       "0    Ohio  2000  1.5\n",
       "1    Ohio  2001  1.7\n",
       "2    Ohio  2002  3.6\n",
       "3  Nevada  2001  2.4\n",
       "4  Nevada  2002  2.9"
      ]
     },
     "execution_count": 181,
     "metadata": {},
     "output_type": "execute_result"
    }
   ],
   "source": [
    "frame.head()"
   ]
  },
  {
   "cell_type": "code",
   "execution_count": 182,
   "metadata": {},
   "outputs": [
    {
     "data": {
      "text/html": [
       "<div>\n",
       "<style scoped>\n",
       "    .dataframe tbody tr th:only-of-type {\n",
       "        vertical-align: middle;\n",
       "    }\n",
       "\n",
       "    .dataframe tbody tr th {\n",
       "        vertical-align: top;\n",
       "    }\n",
       "\n",
       "    .dataframe thead th {\n",
       "        text-align: right;\n",
       "    }\n",
       "</style>\n",
       "<table border=\"1\" class=\"dataframe\">\n",
       "  <thead>\n",
       "    <tr style=\"text-align: right;\">\n",
       "      <th></th>\n",
       "      <th>year</th>\n",
       "      <th>state</th>\n",
       "      <th>pop</th>\n",
       "    </tr>\n",
       "  </thead>\n",
       "  <tbody>\n",
       "    <tr>\n",
       "      <th>0</th>\n",
       "      <td>2000</td>\n",
       "      <td>Ohio</td>\n",
       "      <td>1.5</td>\n",
       "    </tr>\n",
       "    <tr>\n",
       "      <th>1</th>\n",
       "      <td>2001</td>\n",
       "      <td>Ohio</td>\n",
       "      <td>1.7</td>\n",
       "    </tr>\n",
       "    <tr>\n",
       "      <th>2</th>\n",
       "      <td>2002</td>\n",
       "      <td>Ohio</td>\n",
       "      <td>3.6</td>\n",
       "    </tr>\n",
       "    <tr>\n",
       "      <th>3</th>\n",
       "      <td>2001</td>\n",
       "      <td>Nevada</td>\n",
       "      <td>2.4</td>\n",
       "    </tr>\n",
       "    <tr>\n",
       "      <th>4</th>\n",
       "      <td>2002</td>\n",
       "      <td>Nevada</td>\n",
       "      <td>2.9</td>\n",
       "    </tr>\n",
       "    <tr>\n",
       "      <th>5</th>\n",
       "      <td>2003</td>\n",
       "      <td>Nevada</td>\n",
       "      <td>3.2</td>\n",
       "    </tr>\n",
       "  </tbody>\n",
       "</table>\n",
       "</div>"
      ],
      "text/plain": [
       "   year   state  pop\n",
       "0  2000    Ohio  1.5\n",
       "1  2001    Ohio  1.7\n",
       "2  2002    Ohio  3.6\n",
       "3  2001  Nevada  2.4\n",
       "4  2002  Nevada  2.9\n",
       "5  2003  Nevada  3.2"
      ]
     },
     "execution_count": 182,
     "metadata": {},
     "output_type": "execute_result"
    }
   ],
   "source": [
    "pd.DataFrame(data, columns=['year', 'state', 'pop'])"
   ]
  },
  {
   "cell_type": "code",
   "execution_count": 183,
   "metadata": {},
   "outputs": [],
   "source": [
    "frame2 = pd.DataFrame(data, columns=['year', 'state', 'pop', 'debt'],\n",
    "                      index=['one', 'two', 'three', 'four',\n",
    "                             'five', 'six'])"
   ]
  },
  {
   "cell_type": "code",
   "execution_count": 184,
   "metadata": {},
   "outputs": [
    {
     "data": {
      "text/html": [
       "<div>\n",
       "<style scoped>\n",
       "    .dataframe tbody tr th:only-of-type {\n",
       "        vertical-align: middle;\n",
       "    }\n",
       "\n",
       "    .dataframe tbody tr th {\n",
       "        vertical-align: top;\n",
       "    }\n",
       "\n",
       "    .dataframe thead th {\n",
       "        text-align: right;\n",
       "    }\n",
       "</style>\n",
       "<table border=\"1\" class=\"dataframe\">\n",
       "  <thead>\n",
       "    <tr style=\"text-align: right;\">\n",
       "      <th></th>\n",
       "      <th>year</th>\n",
       "      <th>state</th>\n",
       "      <th>pop</th>\n",
       "      <th>debt</th>\n",
       "    </tr>\n",
       "  </thead>\n",
       "  <tbody>\n",
       "    <tr>\n",
       "      <th>one</th>\n",
       "      <td>2000</td>\n",
       "      <td>Ohio</td>\n",
       "      <td>1.5</td>\n",
       "      <td>NaN</td>\n",
       "    </tr>\n",
       "    <tr>\n",
       "      <th>two</th>\n",
       "      <td>2001</td>\n",
       "      <td>Ohio</td>\n",
       "      <td>1.7</td>\n",
       "      <td>NaN</td>\n",
       "    </tr>\n",
       "    <tr>\n",
       "      <th>three</th>\n",
       "      <td>2002</td>\n",
       "      <td>Ohio</td>\n",
       "      <td>3.6</td>\n",
       "      <td>NaN</td>\n",
       "    </tr>\n",
       "    <tr>\n",
       "      <th>four</th>\n",
       "      <td>2001</td>\n",
       "      <td>Nevada</td>\n",
       "      <td>2.4</td>\n",
       "      <td>NaN</td>\n",
       "    </tr>\n",
       "    <tr>\n",
       "      <th>five</th>\n",
       "      <td>2002</td>\n",
       "      <td>Nevada</td>\n",
       "      <td>2.9</td>\n",
       "      <td>NaN</td>\n",
       "    </tr>\n",
       "    <tr>\n",
       "      <th>six</th>\n",
       "      <td>2003</td>\n",
       "      <td>Nevada</td>\n",
       "      <td>3.2</td>\n",
       "      <td>NaN</td>\n",
       "    </tr>\n",
       "  </tbody>\n",
       "</table>\n",
       "</div>"
      ],
      "text/plain": [
       "       year   state  pop debt\n",
       "one    2000    Ohio  1.5  NaN\n",
       "two    2001    Ohio  1.7  NaN\n",
       "three  2002    Ohio  3.6  NaN\n",
       "four   2001  Nevada  2.4  NaN\n",
       "five   2002  Nevada  2.9  NaN\n",
       "six    2003  Nevada  3.2  NaN"
      ]
     },
     "execution_count": 184,
     "metadata": {},
     "output_type": "execute_result"
    }
   ],
   "source": [
    "frame2"
   ]
  },
  {
   "cell_type": "code",
   "execution_count": 185,
   "metadata": {},
   "outputs": [
    {
     "data": {
      "text/plain": [
       "Index(['year', 'state', 'pop', 'debt'], dtype='object')"
      ]
     },
     "execution_count": 185,
     "metadata": {},
     "output_type": "execute_result"
    }
   ],
   "source": [
    "frame2.columns"
   ]
  },
  {
   "cell_type": "code",
   "execution_count": 186,
   "metadata": {},
   "outputs": [
    {
     "data": {
      "text/plain": [
       "one        Ohio\n",
       "two        Ohio\n",
       "three      Ohio\n",
       "four     Nevada\n",
       "five     Nevada\n",
       "six      Nevada\n",
       "Name: state, dtype: object"
      ]
     },
     "execution_count": 186,
     "metadata": {},
     "output_type": "execute_result"
    }
   ],
   "source": [
    "frame2['state']"
   ]
  },
  {
   "cell_type": "code",
   "execution_count": 187,
   "metadata": {},
   "outputs": [
    {
     "data": {
      "text/plain": [
       "one      2000\n",
       "two      2001\n",
       "three    2002\n",
       "four     2001\n",
       "five     2002\n",
       "six      2003\n",
       "Name: year, dtype: int64"
      ]
     },
     "execution_count": 187,
     "metadata": {},
     "output_type": "execute_result"
    }
   ],
   "source": [
    "frame2.year"
   ]
  },
  {
   "cell_type": "markdown",
   "metadata": {},
   "source": [
    "### Solution"
   ]
  },
  {
   "cell_type": "code",
   "execution_count": 188,
   "metadata": {},
   "outputs": [],
   "source": [
    "import numpy as np\n",
    "import pandas as pd"
   ]
  },
  {
   "cell_type": "markdown",
   "metadata": {},
   "source": [
    "0. Read CSV file you've created in previous task."
   ]
  },
  {
   "cell_type": "code",
   "execution_count": 189,
   "metadata": {},
   "outputs": [],
   "source": [
    "df_sol15 = pd.read_csv('files/the_list.csv')"
   ]
  },
  {
   "cell_type": "markdown",
   "metadata": {},
   "source": [
    "1. Add column `magic` to `DataFrame` with random numbers from normal distribution."
   ]
  },
  {
   "cell_type": "code",
   "execution_count": 190,
   "metadata": {},
   "outputs": [
    {
     "data": {
      "text/html": [
       "<div>\n",
       "<style scoped>\n",
       "    .dataframe tbody tr th:only-of-type {\n",
       "        vertical-align: middle;\n",
       "    }\n",
       "\n",
       "    .dataframe tbody tr th {\n",
       "        vertical-align: top;\n",
       "    }\n",
       "\n",
       "    .dataframe thead th {\n",
       "        text-align: right;\n",
       "    }\n",
       "</style>\n",
       "<table border=\"1\" class=\"dataframe\">\n",
       "  <thead>\n",
       "    <tr style=\"text-align: right;\">\n",
       "      <th></th>\n",
       "      <th>User name</th>\n",
       "      <th>Email</th>\n",
       "      <th>Score</th>\n",
       "      <th>Group Name</th>\n",
       "      <th>magic</th>\n",
       "    </tr>\n",
       "  </thead>\n",
       "  <tbody>\n",
       "    <tr>\n",
       "      <th>0</th>\n",
       "      <td>John Kerry</td>\n",
       "      <td>john.kerry@santaswarehouse.com</td>\n",
       "      <td>3</td>\n",
       "      <td>Group 3</td>\n",
       "      <td>0.085570</td>\n",
       "    </tr>\n",
       "    <tr>\n",
       "      <th>1</th>\n",
       "      <td>Clickety Click</td>\n",
       "      <td>ckekek.click@santaswarehouse.com</td>\n",
       "      <td>4</td>\n",
       "      <td>Group 3</td>\n",
       "      <td>1.608405</td>\n",
       "    </tr>\n",
       "    <tr>\n",
       "      <th>2</th>\n",
       "      <td>Jack Jackly</td>\n",
       "      <td>jack.jackly@santaswarehouse.com</td>\n",
       "      <td>4</td>\n",
       "      <td>Group 3</td>\n",
       "      <td>-0.295715</td>\n",
       "    </tr>\n",
       "    <tr>\n",
       "      <th>3</th>\n",
       "      <td>Ducky Duck</td>\n",
       "      <td>ducky.duck@santaswarehouse.com</td>\n",
       "      <td>5</td>\n",
       "      <td>Group 3</td>\n",
       "      <td>-0.369075</td>\n",
       "    </tr>\n",
       "    <tr>\n",
       "      <th>4</th>\n",
       "      <td>Sporty Rusty</td>\n",
       "      <td>sporty.rusty@santaswarehouse.com</td>\n",
       "      <td>6</td>\n",
       "      <td>Group 3</td>\n",
       "      <td>0.832785</td>\n",
       "    </tr>\n",
       "    <tr>\n",
       "      <th>5</th>\n",
       "      <td>Gigelly Goon</td>\n",
       "      <td>gigelly.goon@santaswarehouse.com</td>\n",
       "      <td>7</td>\n",
       "      <td>Group 3</td>\n",
       "      <td>-1.339696</td>\n",
       "    </tr>\n",
       "    <tr>\n",
       "      <th>6</th>\n",
       "      <td>Trouble Thrumpet</td>\n",
       "      <td>trouble.thrumpet@santaswarehouse.com</td>\n",
       "      <td>8</td>\n",
       "      <td>Group 3</td>\n",
       "      <td>-0.185401</td>\n",
       "    </tr>\n",
       "    <tr>\n",
       "      <th>7</th>\n",
       "      <td>Gal Gally</td>\n",
       "      <td>gal.gally@santaswarehouse.com</td>\n",
       "      <td>8</td>\n",
       "      <td>Group 3</td>\n",
       "      <td>1.668617</td>\n",
       "    </tr>\n",
       "    <tr>\n",
       "      <th>8</th>\n",
       "      <td>Funny Fonny</td>\n",
       "      <td>funny.fonny@santaswarehouse.com</td>\n",
       "      <td>8</td>\n",
       "      <td>Group 3</td>\n",
       "      <td>1.230496</td>\n",
       "    </tr>\n",
       "    <tr>\n",
       "      <th>9</th>\n",
       "      <td>Adam Abacus</td>\n",
       "      <td>adam.abacus@santaswarehouse.com</td>\n",
       "      <td>8</td>\n",
       "      <td>Group 3</td>\n",
       "      <td>2.337257</td>\n",
       "    </tr>\n",
       "    <tr>\n",
       "      <th>10</th>\n",
       "      <td>Quicky Quiver</td>\n",
       "      <td>quicky.quiver@santaswarehouse.com</td>\n",
       "      <td>9</td>\n",
       "      <td>Group 3</td>\n",
       "      <td>1.170425</td>\n",
       "    </tr>\n",
       "    <tr>\n",
       "      <th>11</th>\n",
       "      <td>Roman Romanov</td>\n",
       "      <td>roman.romanov@santaswarehouse.com</td>\n",
       "      <td>10</td>\n",
       "      <td>Group 3</td>\n",
       "      <td>-0.063248</td>\n",
       "    </tr>\n",
       "    <tr>\n",
       "      <th>12</th>\n",
       "      <td>Greedy Garlic</td>\n",
       "      <td>greedy.garlic@santaswarehouse.com</td>\n",
       "      <td>8</td>\n",
       "      <td>Group 4</td>\n",
       "      <td>-0.908580</td>\n",
       "    </tr>\n",
       "    <tr>\n",
       "      <th>13</th>\n",
       "      <td>Creative Carl</td>\n",
       "      <td>creative.karl@santaswarehouse.com</td>\n",
       "      <td>8</td>\n",
       "      <td>Group 4</td>\n",
       "      <td>-1.229300</td>\n",
       "    </tr>\n",
       "    <tr>\n",
       "      <th>14</th>\n",
       "      <td>Monty Mount</td>\n",
       "      <td>monty.mount@santaswarehouse.com</td>\n",
       "      <td>9</td>\n",
       "      <td>Group 4</td>\n",
       "      <td>0.123479</td>\n",
       "    </tr>\n",
       "    <tr>\n",
       "      <th>15</th>\n",
       "      <td>General Glass</td>\n",
       "      <td>general.glass@santaswarehouse.com</td>\n",
       "      <td>9</td>\n",
       "      <td>Group 4</td>\n",
       "      <td>1.551922</td>\n",
       "    </tr>\n",
       "    <tr>\n",
       "      <th>16</th>\n",
       "      <td>Lonely Lucker</td>\n",
       "      <td>lonely.lucker@santaswarehouse.com</td>\n",
       "      <td>11</td>\n",
       "      <td>Group 4</td>\n",
       "      <td>-0.590152</td>\n",
       "    </tr>\n",
       "    <tr>\n",
       "      <th>17</th>\n",
       "      <td>Triple Trouble</td>\n",
       "      <td>jack.jackly@santaswarehouse.com</td>\n",
       "      <td>11</td>\n",
       "      <td>Group 4</td>\n",
       "      <td>0.311785</td>\n",
       "    </tr>\n",
       "    <tr>\n",
       "      <th>18</th>\n",
       "      <td>Granty Grant</td>\n",
       "      <td>granty.brant@santaswarehouse.com</td>\n",
       "      <td>12</td>\n",
       "      <td>Group 4</td>\n",
       "      <td>0.270495</td>\n",
       "    </tr>\n",
       "    <tr>\n",
       "      <th>19</th>\n",
       "      <td>Gideon Gerry</td>\n",
       "      <td>gideon.gerry@santaswarehouse.com</td>\n",
       "      <td>12</td>\n",
       "      <td>Group 4</td>\n",
       "      <td>0.319647</td>\n",
       "    </tr>\n",
       "    <tr>\n",
       "      <th>20</th>\n",
       "      <td>Zooper Zack</td>\n",
       "      <td>zooper.zack@santaswarehouse.com</td>\n",
       "      <td>12</td>\n",
       "      <td>Group 4</td>\n",
       "      <td>2.016657</td>\n",
       "    </tr>\n",
       "    <tr>\n",
       "      <th>21</th>\n",
       "      <td>Horsly Hat</td>\n",
       "      <td>horsly.hat@santaswarehouse.com</td>\n",
       "      <td>12</td>\n",
       "      <td>Group 4</td>\n",
       "      <td>-0.640684</td>\n",
       "    </tr>\n",
       "    <tr>\n",
       "      <th>22</th>\n",
       "      <td>Tricky Track</td>\n",
       "      <td>tricky.track@santaswarehouse.com</td>\n",
       "      <td>12</td>\n",
       "      <td>Group 4</td>\n",
       "      <td>-0.537320</td>\n",
       "    </tr>\n",
       "    <tr>\n",
       "      <th>23</th>\n",
       "      <td>Planty Plum</td>\n",
       "      <td>planty.plum@santaswarehouse.com</td>\n",
       "      <td>13</td>\n",
       "      <td>Group 4</td>\n",
       "      <td>0.317027</td>\n",
       "    </tr>\n",
       "  </tbody>\n",
       "</table>\n",
       "</div>"
      ],
      "text/plain": [
       "           User name                                 Email  Score Group Name  \\\n",
       "0         John Kerry        john.kerry@santaswarehouse.com      3    Group 3   \n",
       "1     Clickety Click      ckekek.click@santaswarehouse.com      4    Group 3   \n",
       "2        Jack Jackly       jack.jackly@santaswarehouse.com      4    Group 3   \n",
       "3         Ducky Duck        ducky.duck@santaswarehouse.com      5    Group 3   \n",
       "4       Sporty Rusty      sporty.rusty@santaswarehouse.com      6    Group 3   \n",
       "5       Gigelly Goon      gigelly.goon@santaswarehouse.com      7    Group 3   \n",
       "6   Trouble Thrumpet  trouble.thrumpet@santaswarehouse.com      8    Group 3   \n",
       "7          Gal Gally         gal.gally@santaswarehouse.com      8    Group 3   \n",
       "8        Funny Fonny       funny.fonny@santaswarehouse.com      8    Group 3   \n",
       "9        Adam Abacus       adam.abacus@santaswarehouse.com      8    Group 3   \n",
       "10     Quicky Quiver     quicky.quiver@santaswarehouse.com      9    Group 3   \n",
       "11     Roman Romanov     roman.romanov@santaswarehouse.com     10    Group 3   \n",
       "12     Greedy Garlic     greedy.garlic@santaswarehouse.com      8    Group 4   \n",
       "13     Creative Carl     creative.karl@santaswarehouse.com      8    Group 4   \n",
       "14       Monty Mount       monty.mount@santaswarehouse.com      9    Group 4   \n",
       "15     General Glass     general.glass@santaswarehouse.com      9    Group 4   \n",
       "16     Lonely Lucker     lonely.lucker@santaswarehouse.com     11    Group 4   \n",
       "17    Triple Trouble       jack.jackly@santaswarehouse.com     11    Group 4   \n",
       "18      Granty Grant      granty.brant@santaswarehouse.com     12    Group 4   \n",
       "19      Gideon Gerry      gideon.gerry@santaswarehouse.com     12    Group 4   \n",
       "20       Zooper Zack       zooper.zack@santaswarehouse.com     12    Group 4   \n",
       "21        Horsly Hat        horsly.hat@santaswarehouse.com     12    Group 4   \n",
       "22      Tricky Track      tricky.track@santaswarehouse.com     12    Group 4   \n",
       "23       Planty Plum       planty.plum@santaswarehouse.com     13    Group 4   \n",
       "\n",
       "       magic  \n",
       "0   0.085570  \n",
       "1   1.608405  \n",
       "2  -0.295715  \n",
       "3  -0.369075  \n",
       "4   0.832785  \n",
       "5  -1.339696  \n",
       "6  -0.185401  \n",
       "7   1.668617  \n",
       "8   1.230496  \n",
       "9   2.337257  \n",
       "10  1.170425  \n",
       "11 -0.063248  \n",
       "12 -0.908580  \n",
       "13 -1.229300  \n",
       "14  0.123479  \n",
       "15  1.551922  \n",
       "16 -0.590152  \n",
       "17  0.311785  \n",
       "18  0.270495  \n",
       "19  0.319647  \n",
       "20  2.016657  \n",
       "21 -0.640684  \n",
       "22 -0.537320  \n",
       "23  0.317027  "
      ]
     },
     "execution_count": 190,
     "metadata": {},
     "output_type": "execute_result"
    }
   ],
   "source": [
    "df_sol15['magic'] = np.random.randn(df_sol15.shape[0])\n",
    "df_sol15"
   ]
  },
  {
   "cell_type": "markdown",
   "metadata": {},
   "source": [
    "2. Add `4` to every `Score` and multiply it by `5`. The result should be stored in the same column. Use transformation here."
   ]
  },
  {
   "cell_type": "code",
   "execution_count": 191,
   "metadata": {},
   "outputs": [
    {
     "data": {
      "text/html": [
       "<div>\n",
       "<style scoped>\n",
       "    .dataframe tbody tr th:only-of-type {\n",
       "        vertical-align: middle;\n",
       "    }\n",
       "\n",
       "    .dataframe tbody tr th {\n",
       "        vertical-align: top;\n",
       "    }\n",
       "\n",
       "    .dataframe thead th {\n",
       "        text-align: right;\n",
       "    }\n",
       "</style>\n",
       "<table border=\"1\" class=\"dataframe\">\n",
       "  <thead>\n",
       "    <tr style=\"text-align: right;\">\n",
       "      <th></th>\n",
       "      <th>User name</th>\n",
       "      <th>Email</th>\n",
       "      <th>Score</th>\n",
       "      <th>Group Name</th>\n",
       "      <th>magic</th>\n",
       "    </tr>\n",
       "  </thead>\n",
       "  <tbody>\n",
       "    <tr>\n",
       "      <th>0</th>\n",
       "      <td>John Kerry</td>\n",
       "      <td>john.kerry@santaswarehouse.com</td>\n",
       "      <td>35</td>\n",
       "      <td>Group 3</td>\n",
       "      <td>0.085570</td>\n",
       "    </tr>\n",
       "    <tr>\n",
       "      <th>1</th>\n",
       "      <td>Clickety Click</td>\n",
       "      <td>ckekek.click@santaswarehouse.com</td>\n",
       "      <td>40</td>\n",
       "      <td>Group 3</td>\n",
       "      <td>1.608405</td>\n",
       "    </tr>\n",
       "    <tr>\n",
       "      <th>2</th>\n",
       "      <td>Jack Jackly</td>\n",
       "      <td>jack.jackly@santaswarehouse.com</td>\n",
       "      <td>40</td>\n",
       "      <td>Group 3</td>\n",
       "      <td>-0.295715</td>\n",
       "    </tr>\n",
       "    <tr>\n",
       "      <th>3</th>\n",
       "      <td>Ducky Duck</td>\n",
       "      <td>ducky.duck@santaswarehouse.com</td>\n",
       "      <td>45</td>\n",
       "      <td>Group 3</td>\n",
       "      <td>-0.369075</td>\n",
       "    </tr>\n",
       "    <tr>\n",
       "      <th>4</th>\n",
       "      <td>Sporty Rusty</td>\n",
       "      <td>sporty.rusty@santaswarehouse.com</td>\n",
       "      <td>50</td>\n",
       "      <td>Group 3</td>\n",
       "      <td>0.832785</td>\n",
       "    </tr>\n",
       "    <tr>\n",
       "      <th>5</th>\n",
       "      <td>Gigelly Goon</td>\n",
       "      <td>gigelly.goon@santaswarehouse.com</td>\n",
       "      <td>55</td>\n",
       "      <td>Group 3</td>\n",
       "      <td>-1.339696</td>\n",
       "    </tr>\n",
       "    <tr>\n",
       "      <th>6</th>\n",
       "      <td>Trouble Thrumpet</td>\n",
       "      <td>trouble.thrumpet@santaswarehouse.com</td>\n",
       "      <td>60</td>\n",
       "      <td>Group 3</td>\n",
       "      <td>-0.185401</td>\n",
       "    </tr>\n",
       "    <tr>\n",
       "      <th>7</th>\n",
       "      <td>Gal Gally</td>\n",
       "      <td>gal.gally@santaswarehouse.com</td>\n",
       "      <td>60</td>\n",
       "      <td>Group 3</td>\n",
       "      <td>1.668617</td>\n",
       "    </tr>\n",
       "    <tr>\n",
       "      <th>8</th>\n",
       "      <td>Funny Fonny</td>\n",
       "      <td>funny.fonny@santaswarehouse.com</td>\n",
       "      <td>60</td>\n",
       "      <td>Group 3</td>\n",
       "      <td>1.230496</td>\n",
       "    </tr>\n",
       "    <tr>\n",
       "      <th>9</th>\n",
       "      <td>Adam Abacus</td>\n",
       "      <td>adam.abacus@santaswarehouse.com</td>\n",
       "      <td>60</td>\n",
       "      <td>Group 3</td>\n",
       "      <td>2.337257</td>\n",
       "    </tr>\n",
       "    <tr>\n",
       "      <th>10</th>\n",
       "      <td>Quicky Quiver</td>\n",
       "      <td>quicky.quiver@santaswarehouse.com</td>\n",
       "      <td>65</td>\n",
       "      <td>Group 3</td>\n",
       "      <td>1.170425</td>\n",
       "    </tr>\n",
       "    <tr>\n",
       "      <th>11</th>\n",
       "      <td>Roman Romanov</td>\n",
       "      <td>roman.romanov@santaswarehouse.com</td>\n",
       "      <td>70</td>\n",
       "      <td>Group 3</td>\n",
       "      <td>-0.063248</td>\n",
       "    </tr>\n",
       "    <tr>\n",
       "      <th>12</th>\n",
       "      <td>Greedy Garlic</td>\n",
       "      <td>greedy.garlic@santaswarehouse.com</td>\n",
       "      <td>60</td>\n",
       "      <td>Group 4</td>\n",
       "      <td>-0.908580</td>\n",
       "    </tr>\n",
       "    <tr>\n",
       "      <th>13</th>\n",
       "      <td>Creative Carl</td>\n",
       "      <td>creative.karl@santaswarehouse.com</td>\n",
       "      <td>60</td>\n",
       "      <td>Group 4</td>\n",
       "      <td>-1.229300</td>\n",
       "    </tr>\n",
       "    <tr>\n",
       "      <th>14</th>\n",
       "      <td>Monty Mount</td>\n",
       "      <td>monty.mount@santaswarehouse.com</td>\n",
       "      <td>65</td>\n",
       "      <td>Group 4</td>\n",
       "      <td>0.123479</td>\n",
       "    </tr>\n",
       "    <tr>\n",
       "      <th>15</th>\n",
       "      <td>General Glass</td>\n",
       "      <td>general.glass@santaswarehouse.com</td>\n",
       "      <td>65</td>\n",
       "      <td>Group 4</td>\n",
       "      <td>1.551922</td>\n",
       "    </tr>\n",
       "    <tr>\n",
       "      <th>16</th>\n",
       "      <td>Lonely Lucker</td>\n",
       "      <td>lonely.lucker@santaswarehouse.com</td>\n",
       "      <td>75</td>\n",
       "      <td>Group 4</td>\n",
       "      <td>-0.590152</td>\n",
       "    </tr>\n",
       "    <tr>\n",
       "      <th>17</th>\n",
       "      <td>Triple Trouble</td>\n",
       "      <td>jack.jackly@santaswarehouse.com</td>\n",
       "      <td>75</td>\n",
       "      <td>Group 4</td>\n",
       "      <td>0.311785</td>\n",
       "    </tr>\n",
       "    <tr>\n",
       "      <th>18</th>\n",
       "      <td>Granty Grant</td>\n",
       "      <td>granty.brant@santaswarehouse.com</td>\n",
       "      <td>80</td>\n",
       "      <td>Group 4</td>\n",
       "      <td>0.270495</td>\n",
       "    </tr>\n",
       "    <tr>\n",
       "      <th>19</th>\n",
       "      <td>Gideon Gerry</td>\n",
       "      <td>gideon.gerry@santaswarehouse.com</td>\n",
       "      <td>80</td>\n",
       "      <td>Group 4</td>\n",
       "      <td>0.319647</td>\n",
       "    </tr>\n",
       "    <tr>\n",
       "      <th>20</th>\n",
       "      <td>Zooper Zack</td>\n",
       "      <td>zooper.zack@santaswarehouse.com</td>\n",
       "      <td>80</td>\n",
       "      <td>Group 4</td>\n",
       "      <td>2.016657</td>\n",
       "    </tr>\n",
       "    <tr>\n",
       "      <th>21</th>\n",
       "      <td>Horsly Hat</td>\n",
       "      <td>horsly.hat@santaswarehouse.com</td>\n",
       "      <td>80</td>\n",
       "      <td>Group 4</td>\n",
       "      <td>-0.640684</td>\n",
       "    </tr>\n",
       "    <tr>\n",
       "      <th>22</th>\n",
       "      <td>Tricky Track</td>\n",
       "      <td>tricky.track@santaswarehouse.com</td>\n",
       "      <td>80</td>\n",
       "      <td>Group 4</td>\n",
       "      <td>-0.537320</td>\n",
       "    </tr>\n",
       "    <tr>\n",
       "      <th>23</th>\n",
       "      <td>Planty Plum</td>\n",
       "      <td>planty.plum@santaswarehouse.com</td>\n",
       "      <td>85</td>\n",
       "      <td>Group 4</td>\n",
       "      <td>0.317027</td>\n",
       "    </tr>\n",
       "  </tbody>\n",
       "</table>\n",
       "</div>"
      ],
      "text/plain": [
       "           User name                                 Email  Score Group Name  \\\n",
       "0         John Kerry        john.kerry@santaswarehouse.com     35    Group 3   \n",
       "1     Clickety Click      ckekek.click@santaswarehouse.com     40    Group 3   \n",
       "2        Jack Jackly       jack.jackly@santaswarehouse.com     40    Group 3   \n",
       "3         Ducky Duck        ducky.duck@santaswarehouse.com     45    Group 3   \n",
       "4       Sporty Rusty      sporty.rusty@santaswarehouse.com     50    Group 3   \n",
       "5       Gigelly Goon      gigelly.goon@santaswarehouse.com     55    Group 3   \n",
       "6   Trouble Thrumpet  trouble.thrumpet@santaswarehouse.com     60    Group 3   \n",
       "7          Gal Gally         gal.gally@santaswarehouse.com     60    Group 3   \n",
       "8        Funny Fonny       funny.fonny@santaswarehouse.com     60    Group 3   \n",
       "9        Adam Abacus       adam.abacus@santaswarehouse.com     60    Group 3   \n",
       "10     Quicky Quiver     quicky.quiver@santaswarehouse.com     65    Group 3   \n",
       "11     Roman Romanov     roman.romanov@santaswarehouse.com     70    Group 3   \n",
       "12     Greedy Garlic     greedy.garlic@santaswarehouse.com     60    Group 4   \n",
       "13     Creative Carl     creative.karl@santaswarehouse.com     60    Group 4   \n",
       "14       Monty Mount       monty.mount@santaswarehouse.com     65    Group 4   \n",
       "15     General Glass     general.glass@santaswarehouse.com     65    Group 4   \n",
       "16     Lonely Lucker     lonely.lucker@santaswarehouse.com     75    Group 4   \n",
       "17    Triple Trouble       jack.jackly@santaswarehouse.com     75    Group 4   \n",
       "18      Granty Grant      granty.brant@santaswarehouse.com     80    Group 4   \n",
       "19      Gideon Gerry      gideon.gerry@santaswarehouse.com     80    Group 4   \n",
       "20       Zooper Zack       zooper.zack@santaswarehouse.com     80    Group 4   \n",
       "21        Horsly Hat        horsly.hat@santaswarehouse.com     80    Group 4   \n",
       "22      Tricky Track      tricky.track@santaswarehouse.com     80    Group 4   \n",
       "23       Planty Plum       planty.plum@santaswarehouse.com     85    Group 4   \n",
       "\n",
       "       magic  \n",
       "0   0.085570  \n",
       "1   1.608405  \n",
       "2  -0.295715  \n",
       "3  -0.369075  \n",
       "4   0.832785  \n",
       "5  -1.339696  \n",
       "6  -0.185401  \n",
       "7   1.668617  \n",
       "8   1.230496  \n",
       "9   2.337257  \n",
       "10  1.170425  \n",
       "11 -0.063248  \n",
       "12 -0.908580  \n",
       "13 -1.229300  \n",
       "14  0.123479  \n",
       "15  1.551922  \n",
       "16 -0.590152  \n",
       "17  0.311785  \n",
       "18  0.270495  \n",
       "19  0.319647  \n",
       "20  2.016657  \n",
       "21 -0.640684  \n",
       "22 -0.537320  \n",
       "23  0.317027  "
      ]
     },
     "execution_count": 191,
     "metadata": {},
     "output_type": "execute_result"
    }
   ],
   "source": [
    "df_sol15['Score'] = df_sol15['Score'].transform(lambda x: (x + 4) * 5)\n",
    "df_sol15"
   ]
  },
  {
   "cell_type": "markdown",
   "metadata": {},
   "source": [
    "3. Create column `percent` and insert `Score` column value there divided by `100`."
   ]
  },
  {
   "cell_type": "code",
   "execution_count": 192,
   "metadata": {},
   "outputs": [
    {
     "data": {
      "text/html": [
       "<div>\n",
       "<style scoped>\n",
       "    .dataframe tbody tr th:only-of-type {\n",
       "        vertical-align: middle;\n",
       "    }\n",
       "\n",
       "    .dataframe tbody tr th {\n",
       "        vertical-align: top;\n",
       "    }\n",
       "\n",
       "    .dataframe thead th {\n",
       "        text-align: right;\n",
       "    }\n",
       "</style>\n",
       "<table border=\"1\" class=\"dataframe\">\n",
       "  <thead>\n",
       "    <tr style=\"text-align: right;\">\n",
       "      <th></th>\n",
       "      <th>User name</th>\n",
       "      <th>Email</th>\n",
       "      <th>Score</th>\n",
       "      <th>Group Name</th>\n",
       "      <th>magic</th>\n",
       "      <th>percent</th>\n",
       "    </tr>\n",
       "  </thead>\n",
       "  <tbody>\n",
       "    <tr>\n",
       "      <th>0</th>\n",
       "      <td>John Kerry</td>\n",
       "      <td>john.kerry@santaswarehouse.com</td>\n",
       "      <td>35</td>\n",
       "      <td>Group 3</td>\n",
       "      <td>0.085570</td>\n",
       "      <td>0.35</td>\n",
       "    </tr>\n",
       "    <tr>\n",
       "      <th>1</th>\n",
       "      <td>Clickety Click</td>\n",
       "      <td>ckekek.click@santaswarehouse.com</td>\n",
       "      <td>40</td>\n",
       "      <td>Group 3</td>\n",
       "      <td>1.608405</td>\n",
       "      <td>0.40</td>\n",
       "    </tr>\n",
       "    <tr>\n",
       "      <th>2</th>\n",
       "      <td>Jack Jackly</td>\n",
       "      <td>jack.jackly@santaswarehouse.com</td>\n",
       "      <td>40</td>\n",
       "      <td>Group 3</td>\n",
       "      <td>-0.295715</td>\n",
       "      <td>0.40</td>\n",
       "    </tr>\n",
       "    <tr>\n",
       "      <th>3</th>\n",
       "      <td>Ducky Duck</td>\n",
       "      <td>ducky.duck@santaswarehouse.com</td>\n",
       "      <td>45</td>\n",
       "      <td>Group 3</td>\n",
       "      <td>-0.369075</td>\n",
       "      <td>0.45</td>\n",
       "    </tr>\n",
       "    <tr>\n",
       "      <th>4</th>\n",
       "      <td>Sporty Rusty</td>\n",
       "      <td>sporty.rusty@santaswarehouse.com</td>\n",
       "      <td>50</td>\n",
       "      <td>Group 3</td>\n",
       "      <td>0.832785</td>\n",
       "      <td>0.50</td>\n",
       "    </tr>\n",
       "    <tr>\n",
       "      <th>5</th>\n",
       "      <td>Gigelly Goon</td>\n",
       "      <td>gigelly.goon@santaswarehouse.com</td>\n",
       "      <td>55</td>\n",
       "      <td>Group 3</td>\n",
       "      <td>-1.339696</td>\n",
       "      <td>0.55</td>\n",
       "    </tr>\n",
       "    <tr>\n",
       "      <th>6</th>\n",
       "      <td>Trouble Thrumpet</td>\n",
       "      <td>trouble.thrumpet@santaswarehouse.com</td>\n",
       "      <td>60</td>\n",
       "      <td>Group 3</td>\n",
       "      <td>-0.185401</td>\n",
       "      <td>0.60</td>\n",
       "    </tr>\n",
       "    <tr>\n",
       "      <th>7</th>\n",
       "      <td>Gal Gally</td>\n",
       "      <td>gal.gally@santaswarehouse.com</td>\n",
       "      <td>60</td>\n",
       "      <td>Group 3</td>\n",
       "      <td>1.668617</td>\n",
       "      <td>0.60</td>\n",
       "    </tr>\n",
       "    <tr>\n",
       "      <th>8</th>\n",
       "      <td>Funny Fonny</td>\n",
       "      <td>funny.fonny@santaswarehouse.com</td>\n",
       "      <td>60</td>\n",
       "      <td>Group 3</td>\n",
       "      <td>1.230496</td>\n",
       "      <td>0.60</td>\n",
       "    </tr>\n",
       "    <tr>\n",
       "      <th>9</th>\n",
       "      <td>Adam Abacus</td>\n",
       "      <td>adam.abacus@santaswarehouse.com</td>\n",
       "      <td>60</td>\n",
       "      <td>Group 3</td>\n",
       "      <td>2.337257</td>\n",
       "      <td>0.60</td>\n",
       "    </tr>\n",
       "    <tr>\n",
       "      <th>10</th>\n",
       "      <td>Quicky Quiver</td>\n",
       "      <td>quicky.quiver@santaswarehouse.com</td>\n",
       "      <td>65</td>\n",
       "      <td>Group 3</td>\n",
       "      <td>1.170425</td>\n",
       "      <td>0.65</td>\n",
       "    </tr>\n",
       "    <tr>\n",
       "      <th>11</th>\n",
       "      <td>Roman Romanov</td>\n",
       "      <td>roman.romanov@santaswarehouse.com</td>\n",
       "      <td>70</td>\n",
       "      <td>Group 3</td>\n",
       "      <td>-0.063248</td>\n",
       "      <td>0.70</td>\n",
       "    </tr>\n",
       "    <tr>\n",
       "      <th>12</th>\n",
       "      <td>Greedy Garlic</td>\n",
       "      <td>greedy.garlic@santaswarehouse.com</td>\n",
       "      <td>60</td>\n",
       "      <td>Group 4</td>\n",
       "      <td>-0.908580</td>\n",
       "      <td>0.60</td>\n",
       "    </tr>\n",
       "    <tr>\n",
       "      <th>13</th>\n",
       "      <td>Creative Carl</td>\n",
       "      <td>creative.karl@santaswarehouse.com</td>\n",
       "      <td>60</td>\n",
       "      <td>Group 4</td>\n",
       "      <td>-1.229300</td>\n",
       "      <td>0.60</td>\n",
       "    </tr>\n",
       "    <tr>\n",
       "      <th>14</th>\n",
       "      <td>Monty Mount</td>\n",
       "      <td>monty.mount@santaswarehouse.com</td>\n",
       "      <td>65</td>\n",
       "      <td>Group 4</td>\n",
       "      <td>0.123479</td>\n",
       "      <td>0.65</td>\n",
       "    </tr>\n",
       "    <tr>\n",
       "      <th>15</th>\n",
       "      <td>General Glass</td>\n",
       "      <td>general.glass@santaswarehouse.com</td>\n",
       "      <td>65</td>\n",
       "      <td>Group 4</td>\n",
       "      <td>1.551922</td>\n",
       "      <td>0.65</td>\n",
       "    </tr>\n",
       "    <tr>\n",
       "      <th>16</th>\n",
       "      <td>Lonely Lucker</td>\n",
       "      <td>lonely.lucker@santaswarehouse.com</td>\n",
       "      <td>75</td>\n",
       "      <td>Group 4</td>\n",
       "      <td>-0.590152</td>\n",
       "      <td>0.75</td>\n",
       "    </tr>\n",
       "    <tr>\n",
       "      <th>17</th>\n",
       "      <td>Triple Trouble</td>\n",
       "      <td>jack.jackly@santaswarehouse.com</td>\n",
       "      <td>75</td>\n",
       "      <td>Group 4</td>\n",
       "      <td>0.311785</td>\n",
       "      <td>0.75</td>\n",
       "    </tr>\n",
       "    <tr>\n",
       "      <th>18</th>\n",
       "      <td>Granty Grant</td>\n",
       "      <td>granty.brant@santaswarehouse.com</td>\n",
       "      <td>80</td>\n",
       "      <td>Group 4</td>\n",
       "      <td>0.270495</td>\n",
       "      <td>0.80</td>\n",
       "    </tr>\n",
       "    <tr>\n",
       "      <th>19</th>\n",
       "      <td>Gideon Gerry</td>\n",
       "      <td>gideon.gerry@santaswarehouse.com</td>\n",
       "      <td>80</td>\n",
       "      <td>Group 4</td>\n",
       "      <td>0.319647</td>\n",
       "      <td>0.80</td>\n",
       "    </tr>\n",
       "    <tr>\n",
       "      <th>20</th>\n",
       "      <td>Zooper Zack</td>\n",
       "      <td>zooper.zack@santaswarehouse.com</td>\n",
       "      <td>80</td>\n",
       "      <td>Group 4</td>\n",
       "      <td>2.016657</td>\n",
       "      <td>0.80</td>\n",
       "    </tr>\n",
       "    <tr>\n",
       "      <th>21</th>\n",
       "      <td>Horsly Hat</td>\n",
       "      <td>horsly.hat@santaswarehouse.com</td>\n",
       "      <td>80</td>\n",
       "      <td>Group 4</td>\n",
       "      <td>-0.640684</td>\n",
       "      <td>0.80</td>\n",
       "    </tr>\n",
       "    <tr>\n",
       "      <th>22</th>\n",
       "      <td>Tricky Track</td>\n",
       "      <td>tricky.track@santaswarehouse.com</td>\n",
       "      <td>80</td>\n",
       "      <td>Group 4</td>\n",
       "      <td>-0.537320</td>\n",
       "      <td>0.80</td>\n",
       "    </tr>\n",
       "    <tr>\n",
       "      <th>23</th>\n",
       "      <td>Planty Plum</td>\n",
       "      <td>planty.plum@santaswarehouse.com</td>\n",
       "      <td>85</td>\n",
       "      <td>Group 4</td>\n",
       "      <td>0.317027</td>\n",
       "      <td>0.85</td>\n",
       "    </tr>\n",
       "  </tbody>\n",
       "</table>\n",
       "</div>"
      ],
      "text/plain": [
       "           User name                                 Email  Score Group Name  \\\n",
       "0         John Kerry        john.kerry@santaswarehouse.com     35    Group 3   \n",
       "1     Clickety Click      ckekek.click@santaswarehouse.com     40    Group 3   \n",
       "2        Jack Jackly       jack.jackly@santaswarehouse.com     40    Group 3   \n",
       "3         Ducky Duck        ducky.duck@santaswarehouse.com     45    Group 3   \n",
       "4       Sporty Rusty      sporty.rusty@santaswarehouse.com     50    Group 3   \n",
       "5       Gigelly Goon      gigelly.goon@santaswarehouse.com     55    Group 3   \n",
       "6   Trouble Thrumpet  trouble.thrumpet@santaswarehouse.com     60    Group 3   \n",
       "7          Gal Gally         gal.gally@santaswarehouse.com     60    Group 3   \n",
       "8        Funny Fonny       funny.fonny@santaswarehouse.com     60    Group 3   \n",
       "9        Adam Abacus       adam.abacus@santaswarehouse.com     60    Group 3   \n",
       "10     Quicky Quiver     quicky.quiver@santaswarehouse.com     65    Group 3   \n",
       "11     Roman Romanov     roman.romanov@santaswarehouse.com     70    Group 3   \n",
       "12     Greedy Garlic     greedy.garlic@santaswarehouse.com     60    Group 4   \n",
       "13     Creative Carl     creative.karl@santaswarehouse.com     60    Group 4   \n",
       "14       Monty Mount       monty.mount@santaswarehouse.com     65    Group 4   \n",
       "15     General Glass     general.glass@santaswarehouse.com     65    Group 4   \n",
       "16     Lonely Lucker     lonely.lucker@santaswarehouse.com     75    Group 4   \n",
       "17    Triple Trouble       jack.jackly@santaswarehouse.com     75    Group 4   \n",
       "18      Granty Grant      granty.brant@santaswarehouse.com     80    Group 4   \n",
       "19      Gideon Gerry      gideon.gerry@santaswarehouse.com     80    Group 4   \n",
       "20       Zooper Zack       zooper.zack@santaswarehouse.com     80    Group 4   \n",
       "21        Horsly Hat        horsly.hat@santaswarehouse.com     80    Group 4   \n",
       "22      Tricky Track      tricky.track@santaswarehouse.com     80    Group 4   \n",
       "23       Planty Plum       planty.plum@santaswarehouse.com     85    Group 4   \n",
       "\n",
       "       magic  percent  \n",
       "0   0.085570     0.35  \n",
       "1   1.608405     0.40  \n",
       "2  -0.295715     0.40  \n",
       "3  -0.369075     0.45  \n",
       "4   0.832785     0.50  \n",
       "5  -1.339696     0.55  \n",
       "6  -0.185401     0.60  \n",
       "7   1.668617     0.60  \n",
       "8   1.230496     0.60  \n",
       "9   2.337257     0.60  \n",
       "10  1.170425     0.65  \n",
       "11 -0.063248     0.70  \n",
       "12 -0.908580     0.60  \n",
       "13 -1.229300     0.60  \n",
       "14  0.123479     0.65  \n",
       "15  1.551922     0.65  \n",
       "16 -0.590152     0.75  \n",
       "17  0.311785     0.75  \n",
       "18  0.270495     0.80  \n",
       "19  0.319647     0.80  \n",
       "20  2.016657     0.80  \n",
       "21 -0.640684     0.80  \n",
       "22 -0.537320     0.80  \n",
       "23  0.317027     0.85  "
      ]
     },
     "execution_count": 192,
     "metadata": {},
     "output_type": "execute_result"
    }
   ],
   "source": [
    "df_sol15['percent'] = df_sol15['Score']/100\n",
    "df_sol15"
   ]
  },
  {
   "cell_type": "markdown",
   "metadata": {},
   "source": [
    "4. What's the average `Score` in `Group 4`?"
   ]
  },
  {
   "cell_type": "code",
   "execution_count": 193,
   "metadata": {},
   "outputs": [
    {
     "data": {
      "text/html": [
       "<div>\n",
       "<style scoped>\n",
       "    .dataframe tbody tr th:only-of-type {\n",
       "        vertical-align: middle;\n",
       "    }\n",
       "\n",
       "    .dataframe tbody tr th {\n",
       "        vertical-align: top;\n",
       "    }\n",
       "\n",
       "    .dataframe thead th {\n",
       "        text-align: right;\n",
       "    }\n",
       "</style>\n",
       "<table border=\"1\" class=\"dataframe\">\n",
       "  <thead>\n",
       "    <tr style=\"text-align: right;\">\n",
       "      <th></th>\n",
       "      <th>Score</th>\n",
       "      <th>magic</th>\n",
       "      <th>percent</th>\n",
       "    </tr>\n",
       "    <tr>\n",
       "      <th>Group Name</th>\n",
       "      <th></th>\n",
       "      <th></th>\n",
       "      <th></th>\n",
       "    </tr>\n",
       "  </thead>\n",
       "  <tbody>\n",
       "    <tr>\n",
       "      <th>Group 3</th>\n",
       "      <td>53.333333</td>\n",
       "      <td>0.556702</td>\n",
       "      <td>0.533333</td>\n",
       "    </tr>\n",
       "    <tr>\n",
       "      <th>Group 4</th>\n",
       "      <td>73.750000</td>\n",
       "      <td>0.083748</td>\n",
       "      <td>0.737500</td>\n",
       "    </tr>\n",
       "  </tbody>\n",
       "</table>\n",
       "</div>"
      ],
      "text/plain": [
       "                Score     magic   percent\n",
       "Group Name                               \n",
       "Group 3     53.333333  0.556702  0.533333\n",
       "Group 4     73.750000  0.083748  0.737500"
      ]
     },
     "execution_count": 193,
     "metadata": {},
     "output_type": "execute_result"
    }
   ],
   "source": [
    "df_sol15.groupby(['Group Name']).mean()"
   ]
  }
 ],
 "metadata": {
  "kernelspec": {
   "display_name": "Python 3",
   "language": "python",
   "name": "python3"
  },
  "language_info": {
   "codemirror_mode": {
    "name": "ipython",
    "version": 3
   },
   "file_extension": ".py",
   "mimetype": "text/x-python",
   "name": "python",
   "nbconvert_exporter": "python",
   "pygments_lexer": "ipython3",
   "version": "3.7.3"
  }
 },
 "nbformat": 4,
 "nbformat_minor": 4
}
